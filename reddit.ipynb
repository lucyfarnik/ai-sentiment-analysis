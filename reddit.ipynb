{
 "cells": [
  {
   "cell_type": "code",
   "execution_count": 4,
   "metadata": {},
   "outputs": [
    {
     "data": {
      "text/plain": [
       "\" API \\n\\nclient_id='HD4NhtsR_CAiBDsV8Dpjxg'\\nclient_secret='FwCD5WsU9AABatJQp94Vm9RrUlhMXw'\\nuser_agent='MyBot'\\n\""
      ]
     },
     "execution_count": 4,
     "metadata": {},
     "output_type": "execute_result"
    }
   ],
   "source": [
    "# Importing libaries and API details \n",
    "\n",
    "import praw\n",
    "import csv\n",
    "import datetime\n",
    "\n",
    "''' API \n",
    "\n",
    "client_id='HD4NhtsR_CAiBDsV8Dpjxg'\n",
    "client_secret='FwCD5WsU9AABatJQp94Vm9RrUlhMXw'\n",
    "user_agent='MyBot'\n",
    "'''"
   ]
  },
  {
   "cell_type": "code",
   "execution_count": 6,
   "metadata": {},
   "outputs": [],
   "source": [
    "reddit = praw.Reddit(client_id='HD4NhtsR_CAiBDsV8Dpjxg', client_secret='FwCD5WsU9AABatJQp94Vm9RrUlhMXw', user_agent='MyBot')\n",
    "\n",
    "# Define the search keywords\n",
    "search_keywords = ['OpenAi', 'Artificial', 'Artificial Intelligence','AI' ]\n",
    "\n",
    "# Function to fetch and process posts for a given keyword\n",
    "def process_posts(keyword, seen_post_ids):\n",
    "    search_results = reddit.subreddit('all').search(keyword, limit=15)\n",
    "\n",
    "    for post in search_results:\n",
    "        # If post ID is not in seen_post_ids, process the post and add its ID to the set\n",
    "        if post.id not in seen_post_ids:\n",
    "            post.comments.replace_more(limit=None)\n",
    "            top_comments = post.comments[:2500]\n",
    "\n",
    "            for comment in top_comments:\n",
    "                if isinstance(comment, praw.models.MoreComments):\n",
    "                    continue\n",
    "                user = comment.author.name if comment.author else 'Deleted user'\n",
    "                date = datetime.datetime.fromtimestamp(comment.created_utc)\n",
    "                comment_text = comment.body\n",
    "                upvotes = comment.score\n",
    "                comment_id = comment.id\n",
    "                replies = len(comment.replies)\n",
    "                post_title = post.title\n",
    "                subreddit = post.subreddit.display_name\n",
    "                writer.writerow({'User': user, 'Date': date, 'Comment': comment_text, 'Upvotes': upvotes, 'ID': comment_id, 'Replies': replies,\n",
    "                                 'Post Title': post_title, 'Subreddit': subreddit})\n",
    "\n",
    "            # Add the post ID to seen_post_ids\n",
    "            seen_post_ids.add(post.id)\n",
    "\n",
    "with open('C:/Users/samip/Documents/ai-sentiment-analysis/reddit_data.csv', 'w', newline='') as csvfile:\n",
    "    fieldnames = ['User', 'Date', 'Comment', 'Upvotes', 'ID', 'Replies', 'Post Title', 'Subreddit']\n",
    "    writer = csv.DictWriter(csvfile, fieldnames=fieldnames)\n",
    "    writer.writeheader()\n",
    "\n",
    "    # Create a set to store seen post IDs\n",
    "    seen_post_ids = set()\n",
    "\n",
    "    # Iterate through each search keyword and process the posts\n",
    "    for keyword in search_keywords:\n",
    "        process_posts(keyword, seen_post_ids)\n"
   ]
  }
 ],
 "metadata": {
  "kernelspec": {
   "display_name": "base",
   "language": "python",
   "name": "python3"
  },
  "language_info": {
   "codemirror_mode": {
    "name": "ipython",
    "version": 3
   },
   "file_extension": ".py",
   "mimetype": "text/x-python",
   "name": "python",
   "nbconvert_exporter": "python",
   "pygments_lexer": "ipython3",
   "version": "3.9.13"
  },
  "orig_nbformat": 4
 },
 "nbformat": 4,
 "nbformat_minor": 2
}
