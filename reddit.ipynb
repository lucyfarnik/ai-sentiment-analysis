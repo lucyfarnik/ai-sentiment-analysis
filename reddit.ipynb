{
 "cells": [
  {
   "cell_type": "code",
   "execution_count": 1,
   "metadata": {},
   "outputs": [
    {
     "data": {
      "text/plain": [
       "\" API \\n\\nclient_id='HD4NhtsR_CAiBDsV8Dpjxg'\\nclient_secret='FwCD5WsU9AABatJQp94Vm9RrUlhMXw'\\nuser_agent='MyBot'\\n\""
      ]
     },
     "execution_count": 1,
     "metadata": {},
     "output_type": "execute_result"
    }
   ],
   "source": [
    "# Importing libaries and API details \n",
    "\n",
    "import praw\n",
    "import csv\n",
    "import datetime\n",
    "\n",
    "''' API \n",
    "\n",
    "client_id='HD4NhtsR_CAiBDsV8Dpjxg'\n",
    "client_secret='FwCD5WsU9AABatJQp94Vm9RrUlhMXw'\n",
    "user_agent='MyBot'\n",
    "'''"
   ]
  },
  {
   "cell_type": "code",
   "execution_count": 3,
   "metadata": {},
   "outputs": [],
   "source": [
    "# access to the reddit using the api \n",
    "reddit = praw.Reddit(client_id='HD4NhtsR_CAiBDsV8Dpjxg', client_secret='FwCD5WsU9AABatJQp94Vm9RrUlhMXw', user_agent='MyBot')\n",
    "\n",
    "# get the top 3 posts when searching for \"AI\"\n",
    "search_results = reddit.subreddit('all').search('AI', limit=10)\n",
    "\n",
    "# create a CSV file and write the headers\n",
    "with open('C:/Users/samip/Documents/ai-sentiment-analysis/reddit_data.csv', 'w', newline='') as csvfile: #make sure to change the path directory!!\n",
    "    fieldnames = ['User', 'Date', 'Comment', 'Upvotes', 'ID', 'Replies', 'Post Title', 'Subreddit']\n",
    "    writer = csv.DictWriter(csvfile, fieldnames=fieldnames)\n",
    "    writer.writeheader()\n",
    "\n",
    "    for post in search_results:\n",
    "        # replace MoreComments with actual comments\n",
    "        post.comments.replace_more(limit=None)\n",
    "        # get the top-level comments for the post\n",
    "        top_comments = post.comments[:1000]  # the first 10 comments (edit to preference)\n",
    "        for comment in top_comments:\n",
    "            # check if comment is a MoreComments object\n",
    "            if isinstance(comment, praw.models.MoreComments):\n",
    "                continue\n",
    "            user = comment.author.name if comment.author else 'Deleted user'\n",
    "            date = datetime.datetime.fromtimestamp(comment.created_utc)\n",
    "            comment_text = comment.body\n",
    "            upvotes = comment.score\n",
    "            comment_id = comment.id\n",
    "            replies = len(comment.replies)\n",
    "            post_title = post.title\n",
    "            subreddit = post.subreddit.display_name\n",
    "            writer.writerow({'User': user, 'Date': date, 'Comment': comment_text, 'Upvotes': upvotes, 'ID': comment_id, 'Replies': replies, \n",
    "                             'Post Title': post_title, 'Subreddit': subreddit})"
   ]
  }
 ],
 "metadata": {
  "kernelspec": {
   "display_name": "base",
   "language": "python",
   "name": "python3"
  },
  "language_info": {
   "codemirror_mode": {
    "name": "ipython",
    "version": 3
   },
   "file_extension": ".py",
   "mimetype": "text/x-python",
   "name": "python",
   "nbconvert_exporter": "python",
   "pygments_lexer": "ipython3",
   "version": "3.9.13"
  },
  "orig_nbformat": 4
 },
 "nbformat": 4,
 "nbformat_minor": 2
}
