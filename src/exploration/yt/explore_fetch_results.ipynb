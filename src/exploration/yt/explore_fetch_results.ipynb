{
 "cells": [
  {
   "cell_type": "code",
   "execution_count": 4,
   "metadata": {},
   "outputs": [
    {
     "data": {
      "text/html": [
       "<div>\n",
       "<style scoped>\n",
       "    .dataframe tbody tr th:only-of-type {\n",
       "        vertical-align: middle;\n",
       "    }\n",
       "\n",
       "    .dataframe tbody tr th {\n",
       "        vertical-align: top;\n",
       "    }\n",
       "\n",
       "    .dataframe thead th {\n",
       "        text-align: right;\n",
       "    }\n",
       "</style>\n",
       "<table border=\"1\" class=\"dataframe\">\n",
       "  <thead>\n",
       "    <tr style=\"text-align: right;\">\n",
       "      <th></th>\n",
       "      <th>Unnamed: 0</th>\n",
       "      <th>id</th>\n",
       "      <th>text</th>\n",
       "      <th>channel</th>\n",
       "      <th>date</th>\n",
       "      <th>vid_id</th>\n",
       "      <th>vid_title</th>\n",
       "      <th>vid_date</th>\n",
       "      <th>country</th>\n",
       "    </tr>\n",
       "  </thead>\n",
       "  <tbody>\n",
       "    <tr>\n",
       "      <th>0</th>\n",
       "      <td>0</td>\n",
       "      <td>UgwC8_NE34ufIJL4fxx4AaABAg</td>\n",
       "      <td>AI got the subtitles in the wrong place</td>\n",
       "      <td>UCIA3OOgBHW2Pf7o9FLon3Uw</td>\n",
       "      <td>2023-03-22T13:56:11Z</td>\n",
       "      <td>OhCzX0iLnOc</td>\n",
       "      <td>The danger of AI is weirder than you think | J...</td>\n",
       "      <td>2019-11-13T23:02:20Z</td>\n",
       "      <td>NaN</td>\n",
       "    </tr>\n",
       "    <tr>\n",
       "      <th>1</th>\n",
       "      <td>1</td>\n",
       "      <td>Ugxr-6SYgm6KH1r_lTB4AaABAg</td>\n",
       "      <td>I think WE ARE the threat to Conscious AI</td>\n",
       "      <td>UCjbaUaJiOUOrtYYkr5YPHjA</td>\n",
       "      <td>2023-03-16T04:18:19Z</td>\n",
       "      <td>OhCzX0iLnOc</td>\n",
       "      <td>The danger of AI is weirder than you think | J...</td>\n",
       "      <td>2019-11-13T23:02:20Z</td>\n",
       "      <td>NaN</td>\n",
       "    </tr>\n",
       "    <tr>\n",
       "      <th>2</th>\n",
       "      <td>2</td>\n",
       "      <td>UgxfGeSreZRS3dbUtbF4AaABAg</td>\n",
       "      <td>Tell this to the people again now</td>\n",
       "      <td>UCsqibAtsx8Ydjx6oRDSsD3w</td>\n",
       "      <td>2023-03-15T14:33:45Z</td>\n",
       "      <td>OhCzX0iLnOc</td>\n",
       "      <td>The danger of AI is weirder than you think | J...</td>\n",
       "      <td>2019-11-13T23:02:20Z</td>\n",
       "      <td>NaN</td>\n",
       "    </tr>\n",
       "    <tr>\n",
       "      <th>3</th>\n",
       "      <td>3</td>\n",
       "      <td>UgyMYmRpiaALxlXalop4AaABAg</td>\n",
       "      <td>Star Trek Emergence Season 7, episode 23 may b...</td>\n",
       "      <td>UCKqxhr_SUHw59C5ryXDyESw</td>\n",
       "      <td>2023-03-15T05:25:15Z</td>\n",
       "      <td>OhCzX0iLnOc</td>\n",
       "      <td>The danger of AI is weirder than you think | J...</td>\n",
       "      <td>2019-11-13T23:02:20Z</td>\n",
       "      <td>AU</td>\n",
       "    </tr>\n",
       "    <tr>\n",
       "      <th>4</th>\n",
       "      <td>4</td>\n",
       "      <td>UgzxExbIt0fsb8q4GAt4AaABAg</td>\n",
       "      <td>This video didn't stand the test of time with ...</td>\n",
       "      <td>UCi0EaA59p7uzd5w3liKtQdg</td>\n",
       "      <td>2023-03-12T19:22:12Z</td>\n",
       "      <td>OhCzX0iLnOc</td>\n",
       "      <td>The danger of AI is weirder than you think | J...</td>\n",
       "      <td>2019-11-13T23:02:20Z</td>\n",
       "      <td>NaN</td>\n",
       "    </tr>\n",
       "  </tbody>\n",
       "</table>\n",
       "</div>"
      ],
      "text/plain": [
       "   Unnamed: 0                          id  \\\n",
       "0           0  UgwC8_NE34ufIJL4fxx4AaABAg   \n",
       "1           1  Ugxr-6SYgm6KH1r_lTB4AaABAg   \n",
       "2           2  UgxfGeSreZRS3dbUtbF4AaABAg   \n",
       "3           3  UgyMYmRpiaALxlXalop4AaABAg   \n",
       "4           4  UgzxExbIt0fsb8q4GAt4AaABAg   \n",
       "\n",
       "                                                text  \\\n",
       "0            AI got the subtitles in the wrong place   \n",
       "1          I think WE ARE the threat to Conscious AI   \n",
       "2                  Tell this to the people again now   \n",
       "3  Star Trek Emergence Season 7, episode 23 may b...   \n",
       "4  This video didn't stand the test of time with ...   \n",
       "\n",
       "                    channel                  date       vid_id  \\\n",
       "0  UCIA3OOgBHW2Pf7o9FLon3Uw  2023-03-22T13:56:11Z  OhCzX0iLnOc   \n",
       "1  UCjbaUaJiOUOrtYYkr5YPHjA  2023-03-16T04:18:19Z  OhCzX0iLnOc   \n",
       "2  UCsqibAtsx8Ydjx6oRDSsD3w  2023-03-15T14:33:45Z  OhCzX0iLnOc   \n",
       "3  UCKqxhr_SUHw59C5ryXDyESw  2023-03-15T05:25:15Z  OhCzX0iLnOc   \n",
       "4  UCi0EaA59p7uzd5w3liKtQdg  2023-03-12T19:22:12Z  OhCzX0iLnOc   \n",
       "\n",
       "                                           vid_title              vid_date  \\\n",
       "0  The danger of AI is weirder than you think | J...  2019-11-13T23:02:20Z   \n",
       "1  The danger of AI is weirder than you think | J...  2019-11-13T23:02:20Z   \n",
       "2  The danger of AI is weirder than you think | J...  2019-11-13T23:02:20Z   \n",
       "3  The danger of AI is weirder than you think | J...  2019-11-13T23:02:20Z   \n",
       "4  The danger of AI is weirder than you think | J...  2019-11-13T23:02:20Z   \n",
       "\n",
       "  country  \n",
       "0     NaN  \n",
       "1     NaN  \n",
       "2     NaN  \n",
       "3      AU  \n",
       "4     NaN  "
      ]
     },
     "execution_count": 4,
     "metadata": {},
     "output_type": "execute_result"
    }
   ],
   "source": [
    "import pandas as pd\n",
    "\n",
    "df = pd.read_csv('../../../data/yt_data.csv')\n",
    "df.head()"
   ]
  },
  {
   "cell_type": "code",
   "execution_count": 5,
   "metadata": {},
   "outputs": [
    {
     "data": {
      "text/plain": [
       "'12.2% have country locations'"
      ]
     },
     "execution_count": 5,
     "metadata": {},
     "output_type": "execute_result"
    }
   ],
   "source": [
    "f\"{100 * df['country'].notnull().sum() / df.shape[0]:.1f}% have country locations\""
   ]
  },
  {
   "cell_type": "code",
   "execution_count": 6,
   "metadata": {},
   "outputs": [
    {
     "data": {
      "text/plain": [
       "\"There's 104 different countries\""
      ]
     },
     "execution_count": 6,
     "metadata": {},
     "output_type": "execute_result"
    }
   ],
   "source": [
    "f\"There's {len(set(df[df['country'].notnull()]['country'].to_list()))} different countries\""
   ]
  },
  {
   "cell_type": "code",
   "execution_count": null,
   "metadata": {},
   "outputs": [],
   "source": []
  }
 ],
 "metadata": {
  "kernelspec": {
   "display_name": "y3_ads",
   "language": "python",
   "name": "python3"
  },
  "language_info": {
   "codemirror_mode": {
    "name": "ipython",
    "version": 3
   },
   "file_extension": ".py",
   "mimetype": "text/x-python",
   "name": "python",
   "nbconvert_exporter": "python",
   "pygments_lexer": "ipython3",
   "version": "3.11.0"
  },
  "orig_nbformat": 4
 },
 "nbformat": 4,
 "nbformat_minor": 2
}
