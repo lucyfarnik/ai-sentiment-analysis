{
 "cells": [
  {
   "cell_type": "code",
   "execution_count": 1,
   "metadata": {},
   "outputs": [],
   "source": [
    "import pandas as pd\n",
    "import os"
   ]
  },
  {
   "cell_type": "code",
   "execution_count": 2,
   "metadata": {},
   "outputs": [
    {
     "name": "stderr",
     "output_type": "stream",
     "text": [
      "/var/folders/4c/w2fyysz50_j_234jdvb_c9wr0000gn/T/ipykernel_83727/181908006.py:3: DtypeWarning: Columns (6) have mixed types. Specify dtype option on import or set low_memory=False.\n",
      "  dfs.append(pd.read_csv(f'../../../data/yt_stages/raw/{file}'))\n",
      "/var/folders/4c/w2fyysz50_j_234jdvb_c9wr0000gn/T/ipykernel_83727/181908006.py:3: DtypeWarning: Columns (6) have mixed types. Specify dtype option on import or set low_memory=False.\n",
      "  dfs.append(pd.read_csv(f'../../../data/yt_stages/raw/{file}'))\n",
      "/var/folders/4c/w2fyysz50_j_234jdvb_c9wr0000gn/T/ipykernel_83727/181908006.py:3: DtypeWarning: Columns (6) have mixed types. Specify dtype option on import or set low_memory=False.\n",
      "  dfs.append(pd.read_csv(f'../../../data/yt_stages/raw/{file}'))\n"
     ]
    }
   ],
   "source": [
    "dfs = []\n",
    "for file in os.listdir('../../../data/yt_stages/raw'):\n",
    "  dfs.append(pd.read_csv(f'../../../data/yt_stages/raw/{file}'))\n",
    "df = pd.concat(dfs)\n",
    "# remove id duplicates\n",
    "df = df.drop_duplicates(subset=['id'])\n",
    "# split in 3 dfs\n",
    "parts = 3\n",
    "for i in range(parts):\n",
    "  df.iloc[int(i*len(df)/parts):int((i+1)*len(df)/parts)].to_csv(\n",
    "    f'../../../data/yt_stages/no_duplicates/yt_no_duplicates_{i+1}.csv',\n",
    "    index=False)"
   ]
  }
 ],
 "metadata": {
  "kernelspec": {
   "display_name": "y3_ads",
   "language": "python",
   "name": "python3"
  },
  "language_info": {
   "codemirror_mode": {
    "name": "ipython",
    "version": 3
   },
   "file_extension": ".py",
   "mimetype": "text/x-python",
   "name": "python",
   "nbconvert_exporter": "python",
   "pygments_lexer": "ipython3",
   "version": "3.11.0"
  },
  "orig_nbformat": 4
 },
 "nbformat": 4,
 "nbformat_minor": 2
}
