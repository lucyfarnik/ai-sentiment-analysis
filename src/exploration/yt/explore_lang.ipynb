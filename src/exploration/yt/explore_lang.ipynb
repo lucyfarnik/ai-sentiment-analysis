{
 "cells": [
  {
   "cell_type": "code",
   "execution_count": 1,
   "metadata": {},
   "outputs": [],
   "source": [
    "import pandas as pd"
   ]
  },
  {
   "cell_type": "code",
   "execution_count": 4,
   "metadata": {},
   "outputs": [
    {
     "name": "stderr",
     "output_type": "stream",
     "text": [
      "/var/folders/4c/w2fyysz50_j_234jdvb_c9wr0000gn/T/ipykernel_37586/2015432782.py:1: DtypeWarning: Columns (6) have mixed types. Specify dtype option on import or set low_memory=False.\n",
      "  df = pd.read_csv('../../../data/yt_w_langs.csv')\n"
     ]
    }
   ],
   "source": [
    "df = pd.read_csv('../../../data/yt_w_langs.csv')"
   ]
  },
  {
   "cell_type": "code",
   "execution_count": 10,
   "metadata": {},
   "outputs": [
    {
     "name": "stdout",
     "output_type": "stream",
     "text": [
      "134,277 rows are in English\n",
      "39.7% of the dataset is in English\n"
     ]
    }
   ],
   "source": [
    "# print how many rows are in English and what percentage of the dataset that is\n",
    "print(f\"{df[df['lang'] == 'en'].shape[0]:,} rows are in English\")\n",
    "print(f\"{100*df[df['lang'] == 'en'].shape[0] / df.shape[0]:.1f}% of the dataset is in English\")"
   ]
  }
 ],
 "metadata": {
  "kernelspec": {
   "display_name": "y3_ads",
   "language": "python",
   "name": "python3"
  },
  "language_info": {
   "codemirror_mode": {
    "name": "ipython",
    "version": 3
   },
   "file_extension": ".py",
   "mimetype": "text/x-python",
   "name": "python",
   "nbconvert_exporter": "python",
   "pygments_lexer": "ipython3",
   "version": "3.11.0"
  },
  "orig_nbformat": 4
 },
 "nbformat": 4,
 "nbformat_minor": 2
}
