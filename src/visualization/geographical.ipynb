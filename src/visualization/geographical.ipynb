{
 "cells": [
  {
   "cell_type": "code",
   "execution_count": 1,
   "metadata": {},
   "outputs": [
    {
     "name": "stderr",
     "output_type": "stream",
     "text": [
      "/var/folders/4c/w2fyysz50_j_234jdvb_c9wr0000gn/T/ipykernel_50499/2292961159.py:9: DtypeWarning: Columns (11) have mixed types. Specify dtype option on import or set low_memory=False.\n",
      "  df = pd.read_csv('../../data/merged_data_sentiment.csv')\n"
     ]
    },
    {
     "data": {
      "text/html": [
       "<div>\n",
       "<style scoped>\n",
       "    .dataframe tbody tr th:only-of-type {\n",
       "        vertical-align: middle;\n",
       "    }\n",
       "\n",
       "    .dataframe tbody tr th {\n",
       "        vertical-align: top;\n",
       "    }\n",
       "\n",
       "    .dataframe thead th {\n",
       "        text-align: right;\n",
       "    }\n",
       "</style>\n",
       "<table border=\"1\" class=\"dataframe\">\n",
       "  <thead>\n",
       "    <tr style=\"text-align: right;\">\n",
       "      <th></th>\n",
       "      <th>ID</th>\n",
       "      <th>Content</th>\n",
       "      <th>User</th>\n",
       "      <th>Date</th>\n",
       "      <th>Location</th>\n",
       "      <th>Reactions</th>\n",
       "      <th>N_Children</th>\n",
       "      <th>Post Title</th>\n",
       "      <th>Platform</th>\n",
       "      <th>meta</th>\n",
       "      <th>lang</th>\n",
       "      <th>Subreddit</th>\n",
       "      <th>Unnamed: 0</th>\n",
       "      <th>Sentiment</th>\n",
       "    </tr>\n",
       "  </thead>\n",
       "  <tbody>\n",
       "    <tr>\n",
       "      <th>0</th>\n",
       "      <td>UgyDawiDJRU5j8e9g6x4AaABAg</td>\n",
       "      <td>i love my mum~!TAT</td>\n",
       "      <td>carol lui</td>\n",
       "      <td>2013-04-30</td>\n",
       "      <td>NaN</td>\n",
       "      <td>1.0</td>\n",
       "      <td>0.0</td>\n",
       "      <td>AI - ママへ (short ver.) Music Video</td>\n",
       "      <td>youtube</td>\n",
       "      <td>{'vid_id': 'JjVqw-rKqJo', 'user_id': 'UCgxe0Tv...</td>\n",
       "      <td>en</td>\n",
       "      <td>NaN</td>\n",
       "      <td>NaN</td>\n",
       "      <td>0.9998131394386292,0.9847044944763184,0.992429...</td>\n",
       "    </tr>\n",
       "    <tr>\n",
       "      <th>1</th>\n",
       "      <td>Ugx5UKqZcGpX0Qi8art4AaABAg</td>\n",
       "      <td>I was in tears until the lady gave her mother ...</td>\n",
       "      <td>C Ladner</td>\n",
       "      <td>2013-05-13</td>\n",
       "      <td>NaN</td>\n",
       "      <td>0.0</td>\n",
       "      <td>0.0</td>\n",
       "      <td>AI - ママへ (short ver.) Music Video</td>\n",
       "      <td>youtube</td>\n",
       "      <td>{'vid_id': 'JjVqw-rKqJo', 'user_id': 'UC98Fh4X...</td>\n",
       "      <td>en</td>\n",
       "      <td>NaN</td>\n",
       "      <td>NaN</td>\n",
       "      <td>-0.8607058525085449,-0.4791601002216339,0,0.0,...</td>\n",
       "    </tr>\n",
       "    <tr>\n",
       "      <th>2</th>\n",
       "      <td>UgybIB4C2ppmGqU40WV4AaABAg</td>\n",
       "      <td>I like her voice!! So deep, i thought the voic...</td>\n",
       "      <td>joseph jr.</td>\n",
       "      <td>2013-05-24</td>\n",
       "      <td>PH</td>\n",
       "      <td>0.0</td>\n",
       "      <td>0.0</td>\n",
       "      <td>AI - ママへ (short ver.) Music Video</td>\n",
       "      <td>youtube</td>\n",
       "      <td>{'vid_id': 'JjVqw-rKqJo', 'user_id': 'UCUe_b0X...</td>\n",
       "      <td>en</td>\n",
       "      <td>NaN</td>\n",
       "      <td>NaN</td>\n",
       "      <td>0.9991986155509949,0.9696046113967896,0.984618...</td>\n",
       "    </tr>\n",
       "    <tr>\n",
       "      <th>3</th>\n",
       "      <td>Ugyi1lQIQnmZ2jVwk4B4AaABAg</td>\n",
       "      <td>A verve and flow equal to Maria Carrey's debut...</td>\n",
       "      <td>medusanerve</td>\n",
       "      <td>2013-05-28</td>\n",
       "      <td>NaN</td>\n",
       "      <td>1.0</td>\n",
       "      <td>0.0</td>\n",
       "      <td>AI - ママへ (short ver.) Music Video</td>\n",
       "      <td>youtube</td>\n",
       "      <td>{'vid_id': 'JjVqw-rKqJo', 'user_id': 'UCILrk7Q...</td>\n",
       "      <td>en</td>\n",
       "      <td>NaN</td>\n",
       "      <td>NaN</td>\n",
       "      <td>0.9990953207015991,0.901877224445343,0.9919101...</td>\n",
       "    </tr>\n",
       "    <tr>\n",
       "      <th>4</th>\n",
       "      <td>Ugw2iIVWPilqFB7RMEl4AaABAg</td>\n",
       "      <td>great voice:D\\n</td>\n",
       "      <td>ramon goedendorp</td>\n",
       "      <td>2013-06-08</td>\n",
       "      <td>NaN</td>\n",
       "      <td>1.0</td>\n",
       "      <td>0.0</td>\n",
       "      <td>AI - ママへ (short ver.) Music Video</td>\n",
       "      <td>youtube</td>\n",
       "      <td>{'vid_id': 'JjVqw-rKqJo', 'user_id': 'UCNs25ls...</td>\n",
       "      <td>en</td>\n",
       "      <td>NaN</td>\n",
       "      <td>NaN</td>\n",
       "      <td>0.9998722076416016,0.9386110305786133,0.989294...</td>\n",
       "    </tr>\n",
       "  </tbody>\n",
       "</table>\n",
       "</div>"
      ],
      "text/plain": [
       "                           ID  \\\n",
       "0  UgyDawiDJRU5j8e9g6x4AaABAg   \n",
       "1  Ugx5UKqZcGpX0Qi8art4AaABAg   \n",
       "2  UgybIB4C2ppmGqU40WV4AaABAg   \n",
       "3  Ugyi1lQIQnmZ2jVwk4B4AaABAg   \n",
       "4  Ugw2iIVWPilqFB7RMEl4AaABAg   \n",
       "\n",
       "                                             Content              User  \\\n",
       "0                                 i love my mum~!TAT         carol lui   \n",
       "1  I was in tears until the lady gave her mother ...          C Ladner   \n",
       "2  I like her voice!! So deep, i thought the voic...        joseph jr.   \n",
       "3  A verve and flow equal to Maria Carrey's debut...       medusanerve   \n",
       "4                                    great voice:D\\n  ramon goedendorp   \n",
       "\n",
       "         Date Location  Reactions  N_Children  \\\n",
       "0  2013-04-30      NaN        1.0         0.0   \n",
       "1  2013-05-13      NaN        0.0         0.0   \n",
       "2  2013-05-24       PH        0.0         0.0   \n",
       "3  2013-05-28      NaN        1.0         0.0   \n",
       "4  2013-06-08      NaN        1.0         0.0   \n",
       "\n",
       "                          Post Title Platform  \\\n",
       "0  AI - ママへ (short ver.) Music Video  youtube   \n",
       "1  AI - ママへ (short ver.) Music Video  youtube   \n",
       "2  AI - ママへ (short ver.) Music Video  youtube   \n",
       "3  AI - ママへ (short ver.) Music Video  youtube   \n",
       "4  AI - ママへ (short ver.) Music Video  youtube   \n",
       "\n",
       "                                                meta lang Subreddit  \\\n",
       "0  {'vid_id': 'JjVqw-rKqJo', 'user_id': 'UCgxe0Tv...   en       NaN   \n",
       "1  {'vid_id': 'JjVqw-rKqJo', 'user_id': 'UC98Fh4X...   en       NaN   \n",
       "2  {'vid_id': 'JjVqw-rKqJo', 'user_id': 'UCUe_b0X...   en       NaN   \n",
       "3  {'vid_id': 'JjVqw-rKqJo', 'user_id': 'UCILrk7Q...   en       NaN   \n",
       "4  {'vid_id': 'JjVqw-rKqJo', 'user_id': 'UCNs25ls...   en       NaN   \n",
       "\n",
       "   Unnamed: 0                                          Sentiment  \n",
       "0         NaN  0.9998131394386292,0.9847044944763184,0.992429...  \n",
       "1         NaN  -0.8607058525085449,-0.4791601002216339,0,0.0,...  \n",
       "2         NaN  0.9991986155509949,0.9696046113967896,0.984618...  \n",
       "3         NaN  0.9990953207015991,0.901877224445343,0.9919101...  \n",
       "4         NaN  0.9998722076416016,0.9386110305786133,0.989294...  "
      ]
     },
     "execution_count": 1,
     "metadata": {},
     "output_type": "execute_result"
    }
   ],
   "source": [
    "from functools import partial\n",
    "import pandas as pd\n",
    "import pycountry\n",
    "from geopy.geocoders import Nominatim\n",
    "from plotly.subplots import make_subplots\n",
    "import plotly.graph_objects as go\n",
    "\n",
    "\n",
    "df = pd.read_csv('../../data/merged_data_sentiment.csv')\n",
    "df.head()"
   ]
  },
  {
   "cell_type": "code",
   "execution_count": 2,
   "metadata": {},
   "outputs": [
    {
     "data": {
      "text/plain": [
       "(9813, 14)"
      ]
     },
     "execution_count": 2,
     "metadata": {},
     "output_type": "execute_result"
    }
   ],
   "source": [
    "# only looking at rows with location\n",
    "df = df[df['Location'].notna()].reset_index(drop=True)\n",
    "df.shape"
   ]
  },
  {
   "cell_type": "code",
   "execution_count": null,
   "metadata": {},
   "outputs": [
    {
     "name": "stdout",
     "output_type": "stream",
     "text": [
      "i=0\n",
      "i=100\n",
      "i=200\n",
      "i=300\n",
      "i=400\n",
      "i=500\n",
      "i=600\n",
      "i=700\n",
      "i=800\n",
      "i=900\n",
      "i=1000\n",
      "i=1100\n",
      "i=1200\n",
      "i=1300\n",
      "i=1400\n",
      "i=1500\n",
      "i=1600\n",
      "i=1700\n",
      "i=1800\n",
      "i=1900\n",
      "i=2000\n",
      "i=2100\n",
      "i=2200\n",
      "i=2300\n",
      "i=2400\n",
      "i=2500\n",
      "i=2600\n",
      "i=2700\n",
      "i=2800\n",
      "i=2900\n",
      "i=3000\n",
      "i=3100\n",
      "i=3200\n",
      "i=3300\n",
      "Location couldn't be parsed: Andromeda, Galaxy\n",
      "i=3400\n",
      "i=3500\n",
      "i=3600\n",
      "Location couldn't be parsed: Vododara, India\n",
      "i=3700\n",
      "i=3800\n",
      "i=3900\n",
      "i=4000\n",
      "i=4100\n",
      "i=4200\n",
      "i=4300\n",
      "Location couldn't be parsed: Ghoi, Murree\n",
      "i=4400\n",
      "i=4500\n",
      "i=4600\n",
      "Location couldn't be parsed: Vishakhapatnam, India\n",
      "i=4700\n",
      "Location couldn't be parsed: Antioch, Syria\n",
      "i=4800\n",
      "i=4900\n",
      "Location couldn't be parsed: Talinn, Estonia\n",
      "Location couldn't be parsed: Vishakhapatnam, India\n",
      "i=5000\n",
      "Location couldn't be parsed: 𝘔𝘢𝘯𝘪𝘱𝘢𝘭, 𝘐𝘯𝘥𝘪𝘢\n",
      "i=5100\n",
      "i=5200\n",
      "i=5300\n",
      "i=5400\n",
      "i=5500\n",
      "i=5600\n",
      "i=5700\n",
      "i=5800\n",
      "i=5900\n",
      "i=6000\n",
      "i=6100\n",
      "i=6200\n",
      "i=6300\n",
      "i=6400\n",
      "i=6500\n"
     ]
    }
   ],
   "source": [
    "geolocator = Nominatim(user_agent=\"coursework2023Notebook\")\n",
    "for i, row in df.iterrows():\n",
    "    if i % 100 == 0:\n",
    "        print(f\"{i=}\")\n",
    "\n",
    "    location = row['Location']\n",
    "    if location is None:\n",
    "        print(f\"Location is None: {location=}) (you might wanna re-run the whole notebook)\")\n",
    "        continue\n",
    "    \n",
    "    if len(row['Location']) > 3:\n",
    "        # preprocessing to extract the country\n",
    "        geocode = partial(geolocator.geocode, language=\"en\")\n",
    "        address = geocode(row['Location'])\n",
    "        if address is not None:\n",
    "            address_str = address.address\n",
    "            address_list = address_str.split(',')\n",
    "            country = address_list[-1].strip()\n",
    "        else:\n",
    "            # handle edge case - geopy sometimes can't parse Indian addresses\n",
    "            if row['Location'][-7:] in ['India', '𝘐𝘯𝘥𝘪𝘢']:\n",
    "                country = 'India'\n",
    "            elif row['Location'][-6:] == 'Estonia':\n",
    "                country = 'Estonia'\n",
    "            else:\n",
    "                print(f\"Location couldn't be parsed: {row['Location']}\")\n",
    "                df.at[i, 'Location'] = None\n",
    "            continue\n",
    "        country_obj = pycountry.countries.search_fuzzy(country)\n",
    "        if len(country_obj) == 0:\n",
    "            print(f\"Location couldn't be parsed: {country=} (location = {row['Location']})\")\n",
    "            df.at[i, 'Location'] = None\n",
    "            continue\n",
    "        df.at[i, 'Location'] = country_obj[0].alpha_2\n",
    "        continue\n",
    "\n",
    "    if len(location) == 2:\n",
    "        country_obj = pycountry.countries.get(alpha_2=location)\n",
    "    else:\n",
    "        country_obj = pycountry.countries.get(alpha_3=location)\n",
    "    df.at[i, 'Location'] = country_obj.alpha_3\n",
    "\n",
    "df = df[df['Location'].notna()]"
   ]
  },
  {
   "cell_type": "code",
   "execution_count": 5,
   "metadata": {},
   "outputs": [],
   "source": [
    "# get mean sentiment for each comment\n",
    "for i, row in df.iterrows():\n",
    "  sent = row['Sentiment'].split(',')\n",
    "  sent = [float(s) for s in sent]\n",
    "  df.at[i, 'Avg_Sentiment'] = sum(sent) / len(sent)"
   ]
  },
  {
   "cell_type": "code",
   "execution_count": 6,
   "metadata": {},
   "outputs": [
    {
     "name": "stderr",
     "output_type": "stream",
     "text": [
      "/var/folders/4c/w2fyysz50_j_234jdvb_c9wr0000gn/T/ipykernel_50499/353254941.py:2: FutureWarning: The default value of numeric_only in DataFrameGroupBy.mean is deprecated. In a future version, numeric_only will default to False. Either specify numeric_only or select only columns which should be valid for the function.\n",
      "  df = df.groupby('Location').mean().reset_index()\n"
     ]
    }
   ],
   "source": [
    "# get average sentiment of each country\n",
    "df = df.groupby('Location').mean().reset_index()"
   ]
  },
  {
   "cell_type": "code",
   "execution_count": 8,
   "metadata": {},
   "outputs": [
    {
     "data": {
      "application/vnd.plotly.v1+json": {
       "config": {
        "plotlyServerURL": "https://plot.ly"
       },
       "data": [
        {
         "autocolorscale": false,
         "colorbar": {
          "tickprefix": "",
          "title": {
           "text": "Sentiment"
          }
         },
         "colorscale": [
          [
           0,
           "rgb(165,0,38)"
          ],
          [
           0.1,
           "rgb(215,48,39)"
          ],
          [
           0.2,
           "rgb(244,109,67)"
          ],
          [
           0.3,
           "rgb(253,174,97)"
          ],
          [
           0.4,
           "rgb(254,224,139)"
          ],
          [
           0.5,
           "rgb(255,255,191)"
          ],
          [
           0.6,
           "rgb(217,239,139)"
          ],
          [
           0.7,
           "rgb(166,217,106)"
          ],
          [
           0.8,
           "rgb(102,189,99)"
          ],
          [
           0.9,
           "rgb(26,152,80)"
          ],
          [
           1,
           "rgb(0,104,55)"
          ]
         ],
         "locations": [
          "ABW",
          "AE",
          "AFG",
          "AND",
          "AR",
          "ARE",
          "ARG",
          "ARM",
          "ASM",
          "AT",
          "ATA",
          "AU",
          "AUS",
          "AUT",
          "AZE",
          "BD",
          "BE",
          "BEL",
          "BG",
          "BGD",
          "BGR",
          "BHR",
          "BHS",
          "BIH",
          "BLR",
          "BOL",
          "BR",
          "BRA",
          "BRB",
          "BW",
          "BWA",
          "CA",
          "CAN",
          "CH",
          "CHE",
          "CHL",
          "CIV",
          "CL",
          "CN",
          "CO",
          "COL",
          "CPV",
          "CRI",
          "CUW",
          "CYP",
          "CZE",
          "DE",
          "DEU",
          "DK",
          "DMA",
          "DNK",
          "DOM",
          "DZA",
          "ECU",
          "EE",
          "EG",
          "EGY",
          "ES",
          "ESP",
          "EST",
          "ETH",
          "FI",
          "FIN",
          "FM",
          "FR",
          "FRA",
          "GB",
          "GBR",
          "GEO",
          "GH",
          "GHA",
          "GLP",
          "GR",
          "GRC",
          "HKG",
          "HND",
          "HRV",
          "HT",
          "HTI",
          "HU",
          "HUN",
          "ID",
          "IDN",
          "IE",
          "IMN",
          "IN",
          "IND",
          "IRL",
          "IRN",
          "IRQ",
          "IS",
          "ISL",
          "ISR",
          "IT",
          "ITA",
          "JAM",
          "JM",
          "JOR",
          "JP",
          "JPN",
          "KAZ",
          "KE",
          "KEN",
          "KHM",
          "KOR",
          "KWT",
          "LB",
          "LBN",
          "LIE",
          "LKA",
          "LT",
          "LTU",
          "LUX",
          "LVA",
          "MAR",
          "MDA",
          "MDG",
          "MDV",
          "MEX",
          "MKD",
          "MN",
          "MNE",
          "MUS",
          "MX",
          "MY",
          "MYS",
          "NA",
          "NER",
          "NG",
          "NGA",
          "NL",
          "NLD",
          "NO",
          "NOR",
          "NPL",
          "NZ",
          "NZL",
          "OMN",
          "PAK",
          "PAN",
          "PCN",
          "PER",
          "PH",
          "PHL",
          "PK",
          "PL",
          "POL",
          "PRI",
          "PRK",
          "PRT",
          "PT",
          "QA",
          "QAT",
          "REU",
          "RO",
          "ROU",
          "RS",
          "RU",
          "RUS",
          "RW",
          "SAU",
          "SE",
          "SEN",
          "SGP",
          "SL",
          "SO",
          "SRB",
          "SVK",
          "SVN",
          "SWE",
          "SWZ",
          "TH",
          "THA",
          "TR",
          "TTO",
          "TUR",
          "TWN",
          "TZA",
          "UA",
          "UG",
          "UGA",
          "UKR",
          "URY",
          "US",
          "USA",
          "VAT",
          "VE",
          "VEN",
          "VIR",
          "VNM",
          "ZAF",
          "ZM",
          "ZW",
          "ZWE"
         ],
         "marker": {
          "line": {
           "color": "darkgray",
           "width": 0.5
          }
         },
         "reversescale": false,
         "text": [
          "ABW",
          "AE",
          "AFG",
          "AND",
          "AR",
          "ARE",
          "ARG",
          "ARM",
          "ASM",
          "AT",
          "ATA",
          "AU",
          "AUS",
          "AUT",
          "AZE",
          "BD",
          "BE",
          "BEL",
          "BG",
          "BGD",
          "BGR",
          "BHR",
          "BHS",
          "BIH",
          "BLR",
          "BOL",
          "BR",
          "BRA",
          "BRB",
          "BW",
          "BWA",
          "CA",
          "CAN",
          "CH",
          "CHE",
          "CHL",
          "CIV",
          "CL",
          "CN",
          "CO",
          "COL",
          "CPV",
          "CRI",
          "CUW",
          "CYP",
          "CZE",
          "DE",
          "DEU",
          "DK",
          "DMA",
          "DNK",
          "DOM",
          "DZA",
          "ECU",
          "EE",
          "EG",
          "EGY",
          "ES",
          "ESP",
          "EST",
          "ETH",
          "FI",
          "FIN",
          "FM",
          "FR",
          "FRA",
          "GB",
          "GBR",
          "GEO",
          "GH",
          "GHA",
          "GLP",
          "GR",
          "GRC",
          "HKG",
          "HND",
          "HRV",
          "HT",
          "HTI",
          "HU",
          "HUN",
          "ID",
          "IDN",
          "IE",
          "IMN",
          "IN",
          "IND",
          "IRL",
          "IRN",
          "IRQ",
          "IS",
          "ISL",
          "ISR",
          "IT",
          "ITA",
          "JAM",
          "JM",
          "JOR",
          "JP",
          "JPN",
          "KAZ",
          "KE",
          "KEN",
          "KHM",
          "KOR",
          "KWT",
          "LB",
          "LBN",
          "LIE",
          "LKA",
          "LT",
          "LTU",
          "LUX",
          "LVA",
          "MAR",
          "MDA",
          "MDG",
          "MDV",
          "MEX",
          "MKD",
          "MN",
          "MNE",
          "MUS",
          "MX",
          "MY",
          "MYS",
          "NA",
          "NER",
          "NG",
          "NGA",
          "NL",
          "NLD",
          "NO",
          "NOR",
          "NPL",
          "NZ",
          "NZL",
          "OMN",
          "PAK",
          "PAN",
          "PCN",
          "PER",
          "PH",
          "PHL",
          "PK",
          "PL",
          "POL",
          "PRI",
          "PRK",
          "PRT",
          "PT",
          "QA",
          "QAT",
          "REU",
          "RO",
          "ROU",
          "RS",
          "RU",
          "RUS",
          "RW",
          "SAU",
          "SE",
          "SEN",
          "SGP",
          "SL",
          "SO",
          "SRB",
          "SVK",
          "SVN",
          "SWE",
          "SWZ",
          "TH",
          "THA",
          "TR",
          "TTO",
          "TUR",
          "TWN",
          "TZA",
          "UA",
          "UG",
          "UGA",
          "UKR",
          "URY",
          "US",
          "USA",
          "VAT",
          "VE",
          "VEN",
          "VIR",
          "VNM",
          "ZAF",
          "ZM",
          "ZW",
          "ZWE"
         ],
         "type": "choropleth",
         "z": [
          0.12409224827554492,
          0.3913042823526595,
          -0.274622493915305,
          -0.4497277551015218,
          -0.23726168855464821,
          0.26683328622702285,
          0.023421985024762535,
          -0.15626105130021536,
          0.2234177435821957,
          -0.006584682552600026,
          -0.046626178797913406,
          0.07973410406735941,
          0.03584225714336532,
          0.015506543583741504,
          -0.021807321875890108,
          0.23158641880466824,
          0.11251554593917253,
          0.14120267246583068,
          0.2703427496815485,
          0.19588676559669982,
          0.39922527911319655,
          0.6229172327200572,
          -0.5734914601484935,
          0.37481574297799003,
          0.7289465241379207,
          -0.07287197690010071,
          0.12176593921979266,
          0.036147966253101065,
          0.056664090264927254,
          0.22418076331350534,
          -0.5700768080393473,
          0.14398164455159584,
          -0.01984323162897289,
          0.14199264126609076,
          0.1331566993648272,
          0.23203419917506027,
          0.15507544008096058,
          0.19441274079670984,
          0.42423441061925693,
          -0.07551643004966162,
          -0.2526337058924063,
          0.6172435614585877,
          -0.316642312169075,
          -0.771386203848874,
          0.18913409294504105,
          0.29826081511001734,
          0.29375331765163604,
          0.08916204566219778,
          -0.0399122028529644,
          0.10488658746083578,
          -0.055638405700125994,
          0.7600286128203075,
          0.14322884098494498,
          -0.11486025636486275,
          0.06615119116041394,
          0.23093839540481567,
          0.1435346994312914,
          0.12500148200747607,
          0.12438490999122145,
          0.15434564003533516,
          -0.24375161282751293,
          0.2439750616320537,
          0.10625016269366136,
          0.3564535813808441,
          0.16973039183010535,
          0.13254488833935613,
          0.11525132208841303,
          -0.00011831810525824011,
          -0.8466872683207193,
          0.19925689844831931,
          -0.294622696378496,
          0.20795892675717673,
          0.10705731645204289,
          -0.02145290955424474,
          0.026977431837621357,
          0.4603336442391078,
          0.045861781226539326,
          0.22224988941086662,
          -0.24666508436203002,
          0.47928389497333107,
          -0.014155562661488852,
          -0.06324247875970507,
          0.23802509483678608,
          0.2978067154783401,
          -0.24546109636624655,
          0.3005355163055153,
          0.15960229926666678,
          0.19234841850521583,
          -0.16095387670728897,
          0.26727692872683206,
          -0.007620226626673689,
          0.3361911651929219,
          0.10810832114063437,
          0.11521826532508743,
          0.18712298099183636,
          -0.14832342769437368,
          0.07440379410657016,
          0.32579850997924803,
          0.47013402338027954,
          0.44628730515047965,
          -0.13399180154005685,
          0.10802776064010138,
          -0.00878567876074049,
          0.5043601562738418,
          0.10645491259429747,
          0.11788377175828824,
          0.10118215588463676,
          0.19777217129071553,
          -0.23267672203381856,
          0.13157188260555264,
          -0.033893095370173855,
          -0.14668737728901682,
          -0.3610943677284099,
          0.044635732191328006,
          0.08732387758686083,
          -0.5344629129727682,
          0.7663501190980275,
          -0.22079670902887982,
          0.029468170291106283,
          0.016394332647323595,
          -0.07752391532262165,
          0.7775018699804942,
          0.07954123322168985,
          0.4024185753656758,
          -0.09620863033135732,
          0.13209570898917855,
          0.6680410812915776,
          -0.07208561282157898,
          0.11271359945799206,
          -0.22113883992036185,
          0.3533012237110326,
          0.011818598704422653,
          -0.027281899461822905,
          -0.07577465468296936,
          -0.045189482673330325,
          -0.10370874059200286,
          0.051904011968954174,
          0.2986344814300537,
          0.24825296914200232,
          0.16181330784730696,
          -0.5784515940030416,
          0.17746774126429138,
          0.1958918501289307,
          0.19582668871770084,
          0.07041739154046421,
          0.06479523693444551,
          0.00013703630016646275,
          0.4248796396692594,
          -0.14476732906103135,
          0.23299693733939417,
          0.2115545365010849,
          0.24541274111005995,
          0.3843185848871866,
          -0.16606675585110983,
          -0.12110430264700026,
          0.28162195728942685,
          0.09706918706893919,
          0.20799558776045757,
          0.027339065015000646,
          0.7026671787950729,
          0.3516617279347446,
          0.34044428101846097,
          -0.03157836945321824,
          0.02789489579338958,
          -0.2521466214179992,
          0.41172302135626476,
          -0.12540564558189232,
          0.04633016640269567,
          0.08694155531890806,
          0.10497252615965948,
          -0.5984110458850861,
          -0.44754430066479584,
          0.4427582614379459,
          -0.03045958845725883,
          -0.0037899754603703817,
          -0.04306938479671575,
          0.17189529686321403,
          0.62421819135348,
          0.1475327130397161,
          -0.06474959891693632,
          -0.11974297848939897,
          -0.08683343939586433,
          -0.08155692192259296,
          -0.011859777394698652,
          0.011147902367533874,
          -0.32204548060894017,
          0.3300520694014256,
          0.31859784997728136,
          -0.02282350909091808,
          0.3539710878096616,
          -0.10500487118045229,
          -0.13918919270833333,
          0.5043185111747848,
          0.38266292352146575
         ]
        }
       ],
       "layout": {
        "geo": {
         "projection": {
          "type": "equirectangular"
         },
         "showcoastlines": false,
         "showframe": false
        },
        "template": {
         "data": {
          "bar": [
           {
            "error_x": {
             "color": "#2a3f5f"
            },
            "error_y": {
             "color": "#2a3f5f"
            },
            "marker": {
             "line": {
              "color": "#E5ECF6",
              "width": 0.5
             },
             "pattern": {
              "fillmode": "overlay",
              "size": 10,
              "solidity": 0.2
             }
            },
            "type": "bar"
           }
          ],
          "barpolar": [
           {
            "marker": {
             "line": {
              "color": "#E5ECF6",
              "width": 0.5
             },
             "pattern": {
              "fillmode": "overlay",
              "size": 10,
              "solidity": 0.2
             }
            },
            "type": "barpolar"
           }
          ],
          "carpet": [
           {
            "aaxis": {
             "endlinecolor": "#2a3f5f",
             "gridcolor": "white",
             "linecolor": "white",
             "minorgridcolor": "white",
             "startlinecolor": "#2a3f5f"
            },
            "baxis": {
             "endlinecolor": "#2a3f5f",
             "gridcolor": "white",
             "linecolor": "white",
             "minorgridcolor": "white",
             "startlinecolor": "#2a3f5f"
            },
            "type": "carpet"
           }
          ],
          "choropleth": [
           {
            "colorbar": {
             "outlinewidth": 0,
             "ticks": ""
            },
            "type": "choropleth"
           }
          ],
          "contour": [
           {
            "colorbar": {
             "outlinewidth": 0,
             "ticks": ""
            },
            "colorscale": [
             [
              0,
              "#0d0887"
             ],
             [
              0.1111111111111111,
              "#46039f"
             ],
             [
              0.2222222222222222,
              "#7201a8"
             ],
             [
              0.3333333333333333,
              "#9c179e"
             ],
             [
              0.4444444444444444,
              "#bd3786"
             ],
             [
              0.5555555555555556,
              "#d8576b"
             ],
             [
              0.6666666666666666,
              "#ed7953"
             ],
             [
              0.7777777777777778,
              "#fb9f3a"
             ],
             [
              0.8888888888888888,
              "#fdca26"
             ],
             [
              1,
              "#f0f921"
             ]
            ],
            "type": "contour"
           }
          ],
          "contourcarpet": [
           {
            "colorbar": {
             "outlinewidth": 0,
             "ticks": ""
            },
            "type": "contourcarpet"
           }
          ],
          "heatmap": [
           {
            "colorbar": {
             "outlinewidth": 0,
             "ticks": ""
            },
            "colorscale": [
             [
              0,
              "#0d0887"
             ],
             [
              0.1111111111111111,
              "#46039f"
             ],
             [
              0.2222222222222222,
              "#7201a8"
             ],
             [
              0.3333333333333333,
              "#9c179e"
             ],
             [
              0.4444444444444444,
              "#bd3786"
             ],
             [
              0.5555555555555556,
              "#d8576b"
             ],
             [
              0.6666666666666666,
              "#ed7953"
             ],
             [
              0.7777777777777778,
              "#fb9f3a"
             ],
             [
              0.8888888888888888,
              "#fdca26"
             ],
             [
              1,
              "#f0f921"
             ]
            ],
            "type": "heatmap"
           }
          ],
          "heatmapgl": [
           {
            "colorbar": {
             "outlinewidth": 0,
             "ticks": ""
            },
            "colorscale": [
             [
              0,
              "#0d0887"
             ],
             [
              0.1111111111111111,
              "#46039f"
             ],
             [
              0.2222222222222222,
              "#7201a8"
             ],
             [
              0.3333333333333333,
              "#9c179e"
             ],
             [
              0.4444444444444444,
              "#bd3786"
             ],
             [
              0.5555555555555556,
              "#d8576b"
             ],
             [
              0.6666666666666666,
              "#ed7953"
             ],
             [
              0.7777777777777778,
              "#fb9f3a"
             ],
             [
              0.8888888888888888,
              "#fdca26"
             ],
             [
              1,
              "#f0f921"
             ]
            ],
            "type": "heatmapgl"
           }
          ],
          "histogram": [
           {
            "marker": {
             "pattern": {
              "fillmode": "overlay",
              "size": 10,
              "solidity": 0.2
             }
            },
            "type": "histogram"
           }
          ],
          "histogram2d": [
           {
            "colorbar": {
             "outlinewidth": 0,
             "ticks": ""
            },
            "colorscale": [
             [
              0,
              "#0d0887"
             ],
             [
              0.1111111111111111,
              "#46039f"
             ],
             [
              0.2222222222222222,
              "#7201a8"
             ],
             [
              0.3333333333333333,
              "#9c179e"
             ],
             [
              0.4444444444444444,
              "#bd3786"
             ],
             [
              0.5555555555555556,
              "#d8576b"
             ],
             [
              0.6666666666666666,
              "#ed7953"
             ],
             [
              0.7777777777777778,
              "#fb9f3a"
             ],
             [
              0.8888888888888888,
              "#fdca26"
             ],
             [
              1,
              "#f0f921"
             ]
            ],
            "type": "histogram2d"
           }
          ],
          "histogram2dcontour": [
           {
            "colorbar": {
             "outlinewidth": 0,
             "ticks": ""
            },
            "colorscale": [
             [
              0,
              "#0d0887"
             ],
             [
              0.1111111111111111,
              "#46039f"
             ],
             [
              0.2222222222222222,
              "#7201a8"
             ],
             [
              0.3333333333333333,
              "#9c179e"
             ],
             [
              0.4444444444444444,
              "#bd3786"
             ],
             [
              0.5555555555555556,
              "#d8576b"
             ],
             [
              0.6666666666666666,
              "#ed7953"
             ],
             [
              0.7777777777777778,
              "#fb9f3a"
             ],
             [
              0.8888888888888888,
              "#fdca26"
             ],
             [
              1,
              "#f0f921"
             ]
            ],
            "type": "histogram2dcontour"
           }
          ],
          "mesh3d": [
           {
            "colorbar": {
             "outlinewidth": 0,
             "ticks": ""
            },
            "type": "mesh3d"
           }
          ],
          "parcoords": [
           {
            "line": {
             "colorbar": {
              "outlinewidth": 0,
              "ticks": ""
             }
            },
            "type": "parcoords"
           }
          ],
          "pie": [
           {
            "automargin": true,
            "type": "pie"
           }
          ],
          "scatter": [
           {
            "fillpattern": {
             "fillmode": "overlay",
             "size": 10,
             "solidity": 0.2
            },
            "type": "scatter"
           }
          ],
          "scatter3d": [
           {
            "line": {
             "colorbar": {
              "outlinewidth": 0,
              "ticks": ""
             }
            },
            "marker": {
             "colorbar": {
              "outlinewidth": 0,
              "ticks": ""
             }
            },
            "type": "scatter3d"
           }
          ],
          "scattercarpet": [
           {
            "marker": {
             "colorbar": {
              "outlinewidth": 0,
              "ticks": ""
             }
            },
            "type": "scattercarpet"
           }
          ],
          "scattergeo": [
           {
            "marker": {
             "colorbar": {
              "outlinewidth": 0,
              "ticks": ""
             }
            },
            "type": "scattergeo"
           }
          ],
          "scattergl": [
           {
            "marker": {
             "colorbar": {
              "outlinewidth": 0,
              "ticks": ""
             }
            },
            "type": "scattergl"
           }
          ],
          "scattermapbox": [
           {
            "marker": {
             "colorbar": {
              "outlinewidth": 0,
              "ticks": ""
             }
            },
            "type": "scattermapbox"
           }
          ],
          "scatterpolar": [
           {
            "marker": {
             "colorbar": {
              "outlinewidth": 0,
              "ticks": ""
             }
            },
            "type": "scatterpolar"
           }
          ],
          "scatterpolargl": [
           {
            "marker": {
             "colorbar": {
              "outlinewidth": 0,
              "ticks": ""
             }
            },
            "type": "scatterpolargl"
           }
          ],
          "scatterternary": [
           {
            "marker": {
             "colorbar": {
              "outlinewidth": 0,
              "ticks": ""
             }
            },
            "type": "scatterternary"
           }
          ],
          "surface": [
           {
            "colorbar": {
             "outlinewidth": 0,
             "ticks": ""
            },
            "colorscale": [
             [
              0,
              "#0d0887"
             ],
             [
              0.1111111111111111,
              "#46039f"
             ],
             [
              0.2222222222222222,
              "#7201a8"
             ],
             [
              0.3333333333333333,
              "#9c179e"
             ],
             [
              0.4444444444444444,
              "#bd3786"
             ],
             [
              0.5555555555555556,
              "#d8576b"
             ],
             [
              0.6666666666666666,
              "#ed7953"
             ],
             [
              0.7777777777777778,
              "#fb9f3a"
             ],
             [
              0.8888888888888888,
              "#fdca26"
             ],
             [
              1,
              "#f0f921"
             ]
            ],
            "type": "surface"
           }
          ],
          "table": [
           {
            "cells": {
             "fill": {
              "color": "#EBF0F8"
             },
             "line": {
              "color": "white"
             }
            },
            "header": {
             "fill": {
              "color": "#C8D4E3"
             },
             "line": {
              "color": "white"
             }
            },
            "type": "table"
           }
          ]
         },
         "layout": {
          "annotationdefaults": {
           "arrowcolor": "#2a3f5f",
           "arrowhead": 0,
           "arrowwidth": 1
          },
          "autotypenumbers": "strict",
          "coloraxis": {
           "colorbar": {
            "outlinewidth": 0,
            "ticks": ""
           }
          },
          "colorscale": {
           "diverging": [
            [
             0,
             "#8e0152"
            ],
            [
             0.1,
             "#c51b7d"
            ],
            [
             0.2,
             "#de77ae"
            ],
            [
             0.3,
             "#f1b6da"
            ],
            [
             0.4,
             "#fde0ef"
            ],
            [
             0.5,
             "#f7f7f7"
            ],
            [
             0.6,
             "#e6f5d0"
            ],
            [
             0.7,
             "#b8e186"
            ],
            [
             0.8,
             "#7fbc41"
            ],
            [
             0.9,
             "#4d9221"
            ],
            [
             1,
             "#276419"
            ]
           ],
           "sequential": [
            [
             0,
             "#0d0887"
            ],
            [
             0.1111111111111111,
             "#46039f"
            ],
            [
             0.2222222222222222,
             "#7201a8"
            ],
            [
             0.3333333333333333,
             "#9c179e"
            ],
            [
             0.4444444444444444,
             "#bd3786"
            ],
            [
             0.5555555555555556,
             "#d8576b"
            ],
            [
             0.6666666666666666,
             "#ed7953"
            ],
            [
             0.7777777777777778,
             "#fb9f3a"
            ],
            [
             0.8888888888888888,
             "#fdca26"
            ],
            [
             1,
             "#f0f921"
            ]
           ],
           "sequentialminus": [
            [
             0,
             "#0d0887"
            ],
            [
             0.1111111111111111,
             "#46039f"
            ],
            [
             0.2222222222222222,
             "#7201a8"
            ],
            [
             0.3333333333333333,
             "#9c179e"
            ],
            [
             0.4444444444444444,
             "#bd3786"
            ],
            [
             0.5555555555555556,
             "#d8576b"
            ],
            [
             0.6666666666666666,
             "#ed7953"
            ],
            [
             0.7777777777777778,
             "#fb9f3a"
            ],
            [
             0.8888888888888888,
             "#fdca26"
            ],
            [
             1,
             "#f0f921"
            ]
           ]
          },
          "colorway": [
           "#636efa",
           "#EF553B",
           "#00cc96",
           "#ab63fa",
           "#FFA15A",
           "#19d3f3",
           "#FF6692",
           "#B6E880",
           "#FF97FF",
           "#FECB52"
          ],
          "font": {
           "color": "#2a3f5f"
          },
          "geo": {
           "bgcolor": "white",
           "lakecolor": "white",
           "landcolor": "#E5ECF6",
           "showlakes": true,
           "showland": true,
           "subunitcolor": "white"
          },
          "hoverlabel": {
           "align": "left"
          },
          "hovermode": "closest",
          "mapbox": {
           "style": "light"
          },
          "paper_bgcolor": "white",
          "plot_bgcolor": "#E5ECF6",
          "polar": {
           "angularaxis": {
            "gridcolor": "white",
            "linecolor": "white",
            "ticks": ""
           },
           "bgcolor": "#E5ECF6",
           "radialaxis": {
            "gridcolor": "white",
            "linecolor": "white",
            "ticks": ""
           }
          },
          "scene": {
           "xaxis": {
            "backgroundcolor": "#E5ECF6",
            "gridcolor": "white",
            "gridwidth": 2,
            "linecolor": "white",
            "showbackground": true,
            "ticks": "",
            "zerolinecolor": "white"
           },
           "yaxis": {
            "backgroundcolor": "#E5ECF6",
            "gridcolor": "white",
            "gridwidth": 2,
            "linecolor": "white",
            "showbackground": true,
            "ticks": "",
            "zerolinecolor": "white"
           },
           "zaxis": {
            "backgroundcolor": "#E5ECF6",
            "gridcolor": "white",
            "gridwidth": 2,
            "linecolor": "white",
            "showbackground": true,
            "ticks": "",
            "zerolinecolor": "white"
           }
          },
          "shapedefaults": {
           "line": {
            "color": "#2a3f5f"
           }
          },
          "ternary": {
           "aaxis": {
            "gridcolor": "white",
            "linecolor": "white",
            "ticks": ""
           },
           "baxis": {
            "gridcolor": "white",
            "linecolor": "white",
            "ticks": ""
           },
           "bgcolor": "#E5ECF6",
           "caxis": {
            "gridcolor": "white",
            "linecolor": "white",
            "ticks": ""
           }
          },
          "title": {
           "x": 0.05
          },
          "xaxis": {
           "automargin": true,
           "gridcolor": "white",
           "linecolor": "white",
           "ticks": "",
           "title": {
            "standoff": 15
           },
           "zerolinecolor": "white",
           "zerolinewidth": 2
          },
          "yaxis": {
           "automargin": true,
           "gridcolor": "white",
           "linecolor": "white",
           "ticks": "",
           "title": {
            "standoff": 15
           },
           "zerolinecolor": "white",
           "zerolinewidth": 2
          }
         }
        },
        "title": {
         "text": "Sentiment of Comments by Country"
        }
       }
      }
     },
     "metadata": {},
     "output_type": "display_data"
    }
   ],
   "source": [
    "# plot on a world map (green for positive, red for negative)\n",
    "fig = go.Figure(data=go.Choropleth(\n",
    "    locations = df['Location'],\n",
    "    z = df['Avg_Sentiment'],\n",
    "    text = df['Location'],\n",
    "    colorscale = 'RdYlGn',\n",
    "    autocolorscale=False,\n",
    "    reversescale=False,\n",
    "    marker_line_color='darkgray',\n",
    "    marker_line_width=0.5,\n",
    "    colorbar_tickprefix = '',\n",
    "    colorbar_title = 'Sentiment',\n",
    "))\n",
    "\n",
    "fig.update_layout(\n",
    "    title_text='Sentiment of Comments by Country',\n",
    "    geo=dict(\n",
    "        showframe=False,\n",
    "        showcoastlines=False,\n",
    "        projection_type='equirectangular'\n",
    "    ),\n",
    ")\n",
    "\n",
    "fig.show()"
   ]
  }
 ],
 "metadata": {
  "kernelspec": {
   "display_name": "y3_ads",
   "language": "python",
   "name": "python3"
  },
  "language_info": {
   "codemirror_mode": {
    "name": "ipython",
    "version": 3
   },
   "file_extension": ".py",
   "mimetype": "text/x-python",
   "name": "python",
   "nbconvert_exporter": "python",
   "pygments_lexer": "ipython3",
   "version": "3.11.0"
  },
  "orig_nbformat": 4
 },
 "nbformat": 4,
 "nbformat_minor": 2
}
