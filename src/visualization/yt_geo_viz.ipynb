{
 "cells": [
  {
   "cell_type": "code",
   "execution_count": 1,
   "metadata": {},
   "outputs": [
    {
     "name": "stderr",
     "output_type": "stream",
     "text": [
      "/var/folders/4c/w2fyysz50_j_234jdvb_c9wr0000gn/T/ipykernel_52053/3642524485.py:6: DtypeWarning: Columns (6) have mixed types. Specify dtype option on import or set low_memory=False.\n",
      "  raw_df = pd.read_csv('../../data/yt_raw/yt_w_sentiment.csv')\n"
     ]
    },
    {
     "data": {
      "text/html": [
       "<div>\n",
       "<style scoped>\n",
       "    .dataframe tbody tr th:only-of-type {\n",
       "        vertical-align: middle;\n",
       "    }\n",
       "\n",
       "    .dataframe tbody tr th {\n",
       "        vertical-align: top;\n",
       "    }\n",
       "\n",
       "    .dataframe thead th {\n",
       "        text-align: right;\n",
       "    }\n",
       "</style>\n",
       "<table border=\"1\" class=\"dataframe\">\n",
       "  <thead>\n",
       "    <tr style=\"text-align: right;\">\n",
       "      <th></th>\n",
       "      <th>id</th>\n",
       "      <th>text</th>\n",
       "      <th>username</th>\n",
       "      <th>date</th>\n",
       "      <th>country</th>\n",
       "      <th>likes</th>\n",
       "      <th>n_children</th>\n",
       "      <th>title</th>\n",
       "      <th>platform</th>\n",
       "      <th>meta</th>\n",
       "      <th>lang</th>\n",
       "      <th>sentiment</th>\n",
       "    </tr>\n",
       "  </thead>\n",
       "  <tbody>\n",
       "    <tr>\n",
       "      <th>0</th>\n",
       "      <td>Ugx4UuB8c0ewgGUueC14AaABAg</td>\n",
       "      <td>We just need Korean GPT to write scripts for y...</td>\n",
       "      <td>Lanzer</td>\n",
       "      <td>2023-03-28T08:28:43Z</td>\n",
       "      <td>NaN</td>\n",
       "      <td>4.0</td>\n",
       "      <td>1.0</td>\n",
       "      <td>GPT4 출시! 만능 AI와 글/사진/영상으로 대화하기. 뜨거운 AI 경쟁 비하인드...</td>\n",
       "      <td>youtube</td>\n",
       "      <td>{'vid_id': 'fIWpPnMW_0A', 'user_id': 'UCygv9lT...</td>\n",
       "      <td>en</td>\n",
       "      <td>[{\"label\": \"NEGATIVE\", \"score\": 0.997246265411...</td>\n",
       "    </tr>\n",
       "    <tr>\n",
       "      <th>1</th>\n",
       "      <td>UgzZhETXTVr5Uu-NqCp4AaABAg</td>\n",
       "      <td>Ah yes, the end is here</td>\n",
       "      <td>Ache of Rectum</td>\n",
       "      <td>2023-03-28T18:55:54Z</td>\n",
       "      <td>NaN</td>\n",
       "      <td>0.0</td>\n",
       "      <td>0.0</td>\n",
       "      <td>Nvidia Using AI To Make AI</td>\n",
       "      <td>youtube</td>\n",
       "      <td>{'vid_id': 'lf0_K7VWAng', 'user_id': 'UCO9OhNs...</td>\n",
       "      <td>en</td>\n",
       "      <td>[{\"label\": \"POSITIVE\", \"score\": 0.994859695434...</td>\n",
       "    </tr>\n",
       "    <tr>\n",
       "      <th>2</th>\n",
       "      <td>UgxKHma2lTUBof2Owbt4AaABAg</td>\n",
       "      <td>Ummm is that not how the singularity hits?</td>\n",
       "      <td>Jeremiah Deguzman</td>\n",
       "      <td>2023-03-28T18:21:15Z</td>\n",
       "      <td>NaN</td>\n",
       "      <td>0.0</td>\n",
       "      <td>0.0</td>\n",
       "      <td>Nvidia Using AI To Make AI</td>\n",
       "      <td>youtube</td>\n",
       "      <td>{'vid_id': 'lf0_K7VWAng', 'user_id': 'UCZQ29dk...</td>\n",
       "      <td>en</td>\n",
       "      <td>[{\"label\": \"NEGATIVE\", \"score\": 0.999614477157...</td>\n",
       "    </tr>\n",
       "    <tr>\n",
       "      <th>3</th>\n",
       "      <td>UgxdpdQ7YGj1CUkNSOl4AaABAg</td>\n",
       "      <td>Well in Only Fans some are using their cuLitho...</td>\n",
       "      <td>Chemy Torres</td>\n",
       "      <td>2023-03-28T18:19:05Z</td>\n",
       "      <td>NaN</td>\n",
       "      <td>0.0</td>\n",
       "      <td>0.0</td>\n",
       "      <td>Nvidia Using AI To Make AI</td>\n",
       "      <td>youtube</td>\n",
       "      <td>{'vid_id': 'lf0_K7VWAng', 'user_id': 'UC2oYapl...</td>\n",
       "      <td>en</td>\n",
       "      <td>[{\"label\": \"NEGATIVE\", \"score\": 0.966815650463...</td>\n",
       "    </tr>\n",
       "    <tr>\n",
       "      <th>4</th>\n",
       "      <td>UgztIUfPfvCNGm8vyY94AaABAg</td>\n",
       "      <td>😂 cuLitho in Spanish sounds like little-ass 😂</td>\n",
       "      <td>dljimenezv</td>\n",
       "      <td>2023-03-28T17:21:02Z</td>\n",
       "      <td>NaN</td>\n",
       "      <td>1.0</td>\n",
       "      <td>0.0</td>\n",
       "      <td>Nvidia Using AI To Make AI</td>\n",
       "      <td>youtube</td>\n",
       "      <td>{'vid_id': 'lf0_K7VWAng', 'user_id': 'UCa04vcj...</td>\n",
       "      <td>en</td>\n",
       "      <td>[{\"label\": \"NEGATIVE\", \"score\": 0.997109711170...</td>\n",
       "    </tr>\n",
       "  </tbody>\n",
       "</table>\n",
       "</div>"
      ],
      "text/plain": [
       "                           id  \\\n",
       "0  Ugx4UuB8c0ewgGUueC14AaABAg   \n",
       "1  UgzZhETXTVr5Uu-NqCp4AaABAg   \n",
       "2  UgxKHma2lTUBof2Owbt4AaABAg   \n",
       "3  UgxdpdQ7YGj1CUkNSOl4AaABAg   \n",
       "4  UgztIUfPfvCNGm8vyY94AaABAg   \n",
       "\n",
       "                                                text           username  \\\n",
       "0  We just need Korean GPT to write scripts for y...             Lanzer   \n",
       "1                            Ah yes, the end is here     Ache of Rectum   \n",
       "2         Ummm is that not how the singularity hits?  Jeremiah Deguzman   \n",
       "3  Well in Only Fans some are using their cuLitho...       Chemy Torres   \n",
       "4      😂 cuLitho in Spanish sounds like little-ass 😂         dljimenezv   \n",
       "\n",
       "                   date country  likes n_children  \\\n",
       "0  2023-03-28T08:28:43Z     NaN    4.0        1.0   \n",
       "1  2023-03-28T18:55:54Z     NaN    0.0        0.0   \n",
       "2  2023-03-28T18:21:15Z     NaN    0.0        0.0   \n",
       "3  2023-03-28T18:19:05Z     NaN    0.0        0.0   \n",
       "4  2023-03-28T17:21:02Z     NaN    1.0        0.0   \n",
       "\n",
       "                                               title platform  \\\n",
       "0  GPT4 출시! 만능 AI와 글/사진/영상으로 대화하기. 뜨거운 AI 경쟁 비하인드...  youtube   \n",
       "1                         Nvidia Using AI To Make AI  youtube   \n",
       "2                         Nvidia Using AI To Make AI  youtube   \n",
       "3                         Nvidia Using AI To Make AI  youtube   \n",
       "4                         Nvidia Using AI To Make AI  youtube   \n",
       "\n",
       "                                                meta lang  \\\n",
       "0  {'vid_id': 'fIWpPnMW_0A', 'user_id': 'UCygv9lT...   en   \n",
       "1  {'vid_id': 'lf0_K7VWAng', 'user_id': 'UCO9OhNs...   en   \n",
       "2  {'vid_id': 'lf0_K7VWAng', 'user_id': 'UCZQ29dk...   en   \n",
       "3  {'vid_id': 'lf0_K7VWAng', 'user_id': 'UC2oYapl...   en   \n",
       "4  {'vid_id': 'lf0_K7VWAng', 'user_id': 'UCa04vcj...   en   \n",
       "\n",
       "                                           sentiment  \n",
       "0  [{\"label\": \"NEGATIVE\", \"score\": 0.997246265411...  \n",
       "1  [{\"label\": \"POSITIVE\", \"score\": 0.994859695434...  \n",
       "2  [{\"label\": \"NEGATIVE\", \"score\": 0.999614477157...  \n",
       "3  [{\"label\": \"NEGATIVE\", \"score\": 0.966815650463...  \n",
       "4  [{\"label\": \"NEGATIVE\", \"score\": 0.997109711170...  "
      ]
     },
     "execution_count": 1,
     "metadata": {},
     "output_type": "execute_result"
    }
   ],
   "source": [
    "import pandas as pd\n",
    "import json\n",
    "import pycountry\n",
    "import plotly.express as px\n",
    "\n",
    "raw_df = pd.read_csv('../../data/yt_raw/yt_w_sentiment.csv')\n",
    "raw_df.head()"
   ]
  },
  {
   "cell_type": "code",
   "execution_count": 2,
   "metadata": {},
   "outputs": [
    {
     "data": {
      "text/plain": [
       "(4584, 12)"
      ]
     },
     "execution_count": 2,
     "metadata": {},
     "output_type": "execute_result"
    }
   ],
   "source": [
    "df = raw_df[raw_df['country'].notna()]\n",
    "df.shape"
   ]
  },
  {
   "cell_type": "code",
   "execution_count": 3,
   "metadata": {},
   "outputs": [
    {
     "name": "stderr",
     "output_type": "stream",
     "text": [
      "/var/folders/4c/w2fyysz50_j_234jdvb_c9wr0000gn/T/ipykernel_52053/2937561172.py:4: SettingWithCopyWarning: \n",
      "A value is trying to be set on a copy of a slice from a DataFrame.\n",
      "Try using .loc[row_indexer,col_indexer] = value instead\n",
      "\n",
      "See the caveats in the documentation: https://pandas.pydata.org/pandas-docs/stable/user_guide/indexing.html#returning-a-view-versus-a-copy\n",
      "  df.at[i, 'sentiment_0'] = 1 if label == 'POSITIVE' else -1\n"
     ]
    }
   ],
   "source": [
    "# only use the first model for now\n",
    "for i, row in df.iterrows():\n",
    "    label = json.loads(row['sentiment'])[0]['label']\n",
    "    df.at[i, 'sentiment_0'] = 1 if label == 'POSITIVE' else -1\n"
   ]
  },
  {
   "cell_type": "code",
   "execution_count": 4,
   "metadata": {},
   "outputs": [
    {
     "name": "stderr",
     "output_type": "stream",
     "text": [
      "/var/folders/4c/w2fyysz50_j_234jdvb_c9wr0000gn/T/ipykernel_52053/469784714.py:2: FutureWarning: The default value of numeric_only in DataFrameGroupBy.mean is deprecated. In a future version, numeric_only will default to False. Either specify numeric_only or select only columns which should be valid for the function.\n",
      "  country_df = df.groupby('country').mean().reset_index()\n"
     ]
    }
   ],
   "source": [
    "# get average for each country\n",
    "country_df = df.groupby('country').mean().reset_index()"
   ]
  },
  {
   "cell_type": "code",
   "execution_count": 5,
   "metadata": {},
   "outputs": [],
   "source": [
    "country_2_to_3 = {country.alpha_2: country.alpha_3 for country in pycountry.countries}\n",
    "for i, row in country_df.iterrows():\n",
    "    country = row['country']\n",
    "    if country in country_2_to_3:\n",
    "        country_df.at[i, 'country'] = country_2_to_3[country]"
   ]
  },
  {
   "cell_type": "code",
   "execution_count": 6,
   "metadata": {},
   "outputs": [
    {
     "data": {
      "application/vnd.plotly.v1+json": {
       "config": {
        "plotlyServerURL": "https://plot.ly"
       },
       "data": [
        {
         "coloraxis": "coloraxis",
         "geo": "geo",
         "hovertemplate": "<b>%{hovertext}</b><br><br>country=%{location}<br>sentiment_0=%{z}<extra></extra>",
         "hovertext": [
          "0",
          "1",
          "ARE",
          "AFG",
          "ARM",
          "ATA",
          "ARG",
          "ASM",
          "AUT",
          "AUS",
          "ABW",
          "AZE",
          "BIH",
          "BRB",
          "BGD",
          "BEL",
          "BGR",
          "BHR",
          "BOL",
          "BRA",
          "BWA",
          "BLR",
          "CAN",
          "CHE",
          "CIV",
          "CHL",
          "COL",
          "CRI",
          "CPV",
          "CUW",
          "CYP",
          "CZE",
          "DEU",
          "DNK",
          "DMA",
          "DOM",
          "DZA",
          "ECU",
          "EST",
          "EGY",
          "ESP",
          "ETH",
          "FIN",
          "FRA",
          "GBR",
          "GEO",
          "GHA",
          "GLP",
          "GRC",
          "HKG",
          "HND",
          "HRV",
          "HTI",
          "HUN",
          "IDN",
          "IRL",
          "ISR",
          "IMN",
          "IND",
          "IRQ",
          "IRN",
          "ISL",
          "ITA",
          "JAM",
          "JOR",
          "JPN",
          "KEN",
          "KHM",
          "PRK",
          "KOR",
          "KWT",
          "KAZ",
          "LBN",
          "LIE",
          "LKA",
          "LTU",
          "LUX",
          "LVA",
          "MAR",
          "MDA",
          "MNE",
          "MDG",
          "MKD",
          "MUS",
          "MDV",
          "MEX",
          "MYS",
          "NER",
          "NGA",
          "NLD",
          "NOR",
          "NPL",
          "NZL",
          "PAN",
          "PER",
          "PHL",
          "PAK",
          "POL",
          "PCN",
          "PRI",
          "PRT",
          "QAT",
          "REU",
          "ROU",
          "SRB",
          "RUS",
          "SAU",
          "SWE",
          "SGP",
          "SVN",
          "SVK",
          "SEN",
          "SWZ",
          "THA",
          "TUR",
          "TTO",
          "TWN",
          "TZA",
          "UKR",
          "UGA",
          "USA",
          "URY",
          "VAT",
          "VEN",
          "VIR",
          "VNM",
          "ZAF",
          "ZWE"
         ],
         "locations": [
          "0",
          "1",
          "ARE",
          "AFG",
          "ARM",
          "ATA",
          "ARG",
          "ASM",
          "AUT",
          "AUS",
          "ABW",
          "AZE",
          "BIH",
          "BRB",
          "BGD",
          "BEL",
          "BGR",
          "BHR",
          "BOL",
          "BRA",
          "BWA",
          "BLR",
          "CAN",
          "CHE",
          "CIV",
          "CHL",
          "COL",
          "CRI",
          "CPV",
          "CUW",
          "CYP",
          "CZE",
          "DEU",
          "DNK",
          "DMA",
          "DOM",
          "DZA",
          "ECU",
          "EST",
          "EGY",
          "ESP",
          "ETH",
          "FIN",
          "FRA",
          "GBR",
          "GEO",
          "GHA",
          "GLP",
          "GRC",
          "HKG",
          "HND",
          "HRV",
          "HTI",
          "HUN",
          "IDN",
          "IRL",
          "ISR",
          "IMN",
          "IND",
          "IRQ",
          "IRN",
          "ISL",
          "ITA",
          "JAM",
          "JOR",
          "JPN",
          "KEN",
          "KHM",
          "PRK",
          "KOR",
          "KWT",
          "KAZ",
          "LBN",
          "LIE",
          "LKA",
          "LTU",
          "LUX",
          "LVA",
          "MAR",
          "MDA",
          "MNE",
          "MDG",
          "MKD",
          "MUS",
          "MDV",
          "MEX",
          "MYS",
          "NER",
          "NGA",
          "NLD",
          "NOR",
          "NPL",
          "NZL",
          "PAN",
          "PER",
          "PHL",
          "PAK",
          "POL",
          "PCN",
          "PRI",
          "PRT",
          "QAT",
          "REU",
          "ROU",
          "SRB",
          "RUS",
          "SAU",
          "SWE",
          "SGP",
          "SVN",
          "SVK",
          "SEN",
          "SWZ",
          "THA",
          "TUR",
          "TTO",
          "TWN",
          "TZA",
          "UKR",
          "UGA",
          "USA",
          "URY",
          "VAT",
          "VEN",
          "VIR",
          "VNM",
          "ZAF",
          "ZWE"
         ],
         "name": "",
         "type": "choropleth",
         "z": [
          1,
          1,
          0.25,
          -1,
          -0.3333333333333333,
          -0.3333333333333333,
          -0.07692307692307693,
          0.5,
          0.14285714285714285,
          -0.12359550561797752,
          1,
          0,
          0,
          -1,
          0.09090909090909091,
          -0.02857142857142857,
          0.7142857142857143,
          1,
          -1,
          -0.11392405063291139,
          -1,
          1,
          -0.21897810218978103,
          0.034482758620689655,
          0,
          0.2727272727272727,
          -0.7142857142857143,
          -1,
          1,
          -1,
          1,
          0.3333333333333333,
          -0.08737864077669903,
          -0.375,
          -1,
          1,
          0,
          -1,
          -0.2,
          -0.5,
          0.043478260869565216,
          -1,
          -0.047619047619047616,
          0.13636363636363635,
          -0.28708133971291866,
          -1,
          -1,
          1,
          -0.6363636363636364,
          -0.3333333333333333,
          1,
          -0.5,
          -1,
          -0.25,
          0.19480519480519481,
          -0.08333333333333333,
          0.42857142857142855,
          -1,
          0.034482758620689655,
          -0.3333333333333333,
          -1,
          1,
          -0.08571428571428572,
          -1,
          1,
          0.3939393939393939,
          -1,
          1,
          -0.5,
          0.2857142857142857,
          1,
          0,
          1,
          -1,
          -0.3333333333333333,
          -0.1111111111111111,
          -1,
          -0.42857142857142855,
          -0.14285714285714285,
          -1,
          1,
          1,
          1,
          0,
          -1,
          -0.21739130434782608,
          -0.12,
          -1,
          -1,
          -0.18032786885245902,
          -0.29411764705882354,
          -0.2727272727272727,
          -0.15789473684210525,
          0,
          0.42857142857142855,
          0.15217391304347827,
          0.582089552238806,
          -0.3157894736842105,
          -1,
          0.3333333333333333,
          -0.17647058823529413,
          1,
          -1,
          0.375,
          -0.14285714285714285,
          0.06666666666666667,
          0.3333333333333333,
          -0.09090909090909091,
          -0.6,
          -0.5,
          0,
          -1,
          -1,
          0.7142857142857143,
          -0.42857142857142855,
          -1,
          -0.09090909090909091,
          1,
          -0.1111111111111111,
          -1,
          -0.2,
          0,
          -1,
          -0.2,
          -1,
          0.4827586206896552,
          -0.35714285714285715,
          0
         ]
        }
       ],
       "layout": {
        "coloraxis": {
         "colorbar": {
          "title": {
           "text": "sentiment_0"
          }
         },
         "colorscale": [
          [
           0,
           "#0d0887"
          ],
          [
           0.1111111111111111,
           "#46039f"
          ],
          [
           0.2222222222222222,
           "#7201a8"
          ],
          [
           0.3333333333333333,
           "#9c179e"
          ],
          [
           0.4444444444444444,
           "#bd3786"
          ],
          [
           0.5555555555555556,
           "#d8576b"
          ],
          [
           0.6666666666666666,
           "#ed7953"
          ],
          [
           0.7777777777777778,
           "#fb9f3a"
          ],
          [
           0.8888888888888888,
           "#fdca26"
          ],
          [
           1,
           "#f0f921"
          ]
         ]
        },
        "geo": {
         "center": {},
         "domain": {
          "x": [
           0,
           1
          ],
          "y": [
           0,
           1
          ]
         },
         "projection": {
          "type": "equirectangular"
         },
         "showcoastlines": false,
         "showframe": false
        },
        "legend": {
         "tracegroupgap": 0
        },
        "margin": {
         "t": 60
        },
        "template": {
         "data": {
          "bar": [
           {
            "error_x": {
             "color": "#2a3f5f"
            },
            "error_y": {
             "color": "#2a3f5f"
            },
            "marker": {
             "line": {
              "color": "#E5ECF6",
              "width": 0.5
             },
             "pattern": {
              "fillmode": "overlay",
              "size": 10,
              "solidity": 0.2
             }
            },
            "type": "bar"
           }
          ],
          "barpolar": [
           {
            "marker": {
             "line": {
              "color": "#E5ECF6",
              "width": 0.5
             },
             "pattern": {
              "fillmode": "overlay",
              "size": 10,
              "solidity": 0.2
             }
            },
            "type": "barpolar"
           }
          ],
          "carpet": [
           {
            "aaxis": {
             "endlinecolor": "#2a3f5f",
             "gridcolor": "white",
             "linecolor": "white",
             "minorgridcolor": "white",
             "startlinecolor": "#2a3f5f"
            },
            "baxis": {
             "endlinecolor": "#2a3f5f",
             "gridcolor": "white",
             "linecolor": "white",
             "minorgridcolor": "white",
             "startlinecolor": "#2a3f5f"
            },
            "type": "carpet"
           }
          ],
          "choropleth": [
           {
            "colorbar": {
             "outlinewidth": 0,
             "ticks": ""
            },
            "type": "choropleth"
           }
          ],
          "contour": [
           {
            "colorbar": {
             "outlinewidth": 0,
             "ticks": ""
            },
            "colorscale": [
             [
              0,
              "#0d0887"
             ],
             [
              0.1111111111111111,
              "#46039f"
             ],
             [
              0.2222222222222222,
              "#7201a8"
             ],
             [
              0.3333333333333333,
              "#9c179e"
             ],
             [
              0.4444444444444444,
              "#bd3786"
             ],
             [
              0.5555555555555556,
              "#d8576b"
             ],
             [
              0.6666666666666666,
              "#ed7953"
             ],
             [
              0.7777777777777778,
              "#fb9f3a"
             ],
             [
              0.8888888888888888,
              "#fdca26"
             ],
             [
              1,
              "#f0f921"
             ]
            ],
            "type": "contour"
           }
          ],
          "contourcarpet": [
           {
            "colorbar": {
             "outlinewidth": 0,
             "ticks": ""
            },
            "type": "contourcarpet"
           }
          ],
          "heatmap": [
           {
            "colorbar": {
             "outlinewidth": 0,
             "ticks": ""
            },
            "colorscale": [
             [
              0,
              "#0d0887"
             ],
             [
              0.1111111111111111,
              "#46039f"
             ],
             [
              0.2222222222222222,
              "#7201a8"
             ],
             [
              0.3333333333333333,
              "#9c179e"
             ],
             [
              0.4444444444444444,
              "#bd3786"
             ],
             [
              0.5555555555555556,
              "#d8576b"
             ],
             [
              0.6666666666666666,
              "#ed7953"
             ],
             [
              0.7777777777777778,
              "#fb9f3a"
             ],
             [
              0.8888888888888888,
              "#fdca26"
             ],
             [
              1,
              "#f0f921"
             ]
            ],
            "type": "heatmap"
           }
          ],
          "heatmapgl": [
           {
            "colorbar": {
             "outlinewidth": 0,
             "ticks": ""
            },
            "colorscale": [
             [
              0,
              "#0d0887"
             ],
             [
              0.1111111111111111,
              "#46039f"
             ],
             [
              0.2222222222222222,
              "#7201a8"
             ],
             [
              0.3333333333333333,
              "#9c179e"
             ],
             [
              0.4444444444444444,
              "#bd3786"
             ],
             [
              0.5555555555555556,
              "#d8576b"
             ],
             [
              0.6666666666666666,
              "#ed7953"
             ],
             [
              0.7777777777777778,
              "#fb9f3a"
             ],
             [
              0.8888888888888888,
              "#fdca26"
             ],
             [
              1,
              "#f0f921"
             ]
            ],
            "type": "heatmapgl"
           }
          ],
          "histogram": [
           {
            "marker": {
             "pattern": {
              "fillmode": "overlay",
              "size": 10,
              "solidity": 0.2
             }
            },
            "type": "histogram"
           }
          ],
          "histogram2d": [
           {
            "colorbar": {
             "outlinewidth": 0,
             "ticks": ""
            },
            "colorscale": [
             [
              0,
              "#0d0887"
             ],
             [
              0.1111111111111111,
              "#46039f"
             ],
             [
              0.2222222222222222,
              "#7201a8"
             ],
             [
              0.3333333333333333,
              "#9c179e"
             ],
             [
              0.4444444444444444,
              "#bd3786"
             ],
             [
              0.5555555555555556,
              "#d8576b"
             ],
             [
              0.6666666666666666,
              "#ed7953"
             ],
             [
              0.7777777777777778,
              "#fb9f3a"
             ],
             [
              0.8888888888888888,
              "#fdca26"
             ],
             [
              1,
              "#f0f921"
             ]
            ],
            "type": "histogram2d"
           }
          ],
          "histogram2dcontour": [
           {
            "colorbar": {
             "outlinewidth": 0,
             "ticks": ""
            },
            "colorscale": [
             [
              0,
              "#0d0887"
             ],
             [
              0.1111111111111111,
              "#46039f"
             ],
             [
              0.2222222222222222,
              "#7201a8"
             ],
             [
              0.3333333333333333,
              "#9c179e"
             ],
             [
              0.4444444444444444,
              "#bd3786"
             ],
             [
              0.5555555555555556,
              "#d8576b"
             ],
             [
              0.6666666666666666,
              "#ed7953"
             ],
             [
              0.7777777777777778,
              "#fb9f3a"
             ],
             [
              0.8888888888888888,
              "#fdca26"
             ],
             [
              1,
              "#f0f921"
             ]
            ],
            "type": "histogram2dcontour"
           }
          ],
          "mesh3d": [
           {
            "colorbar": {
             "outlinewidth": 0,
             "ticks": ""
            },
            "type": "mesh3d"
           }
          ],
          "parcoords": [
           {
            "line": {
             "colorbar": {
              "outlinewidth": 0,
              "ticks": ""
             }
            },
            "type": "parcoords"
           }
          ],
          "pie": [
           {
            "automargin": true,
            "type": "pie"
           }
          ],
          "scatter": [
           {
            "fillpattern": {
             "fillmode": "overlay",
             "size": 10,
             "solidity": 0.2
            },
            "type": "scatter"
           }
          ],
          "scatter3d": [
           {
            "line": {
             "colorbar": {
              "outlinewidth": 0,
              "ticks": ""
             }
            },
            "marker": {
             "colorbar": {
              "outlinewidth": 0,
              "ticks": ""
             }
            },
            "type": "scatter3d"
           }
          ],
          "scattercarpet": [
           {
            "marker": {
             "colorbar": {
              "outlinewidth": 0,
              "ticks": ""
             }
            },
            "type": "scattercarpet"
           }
          ],
          "scattergeo": [
           {
            "marker": {
             "colorbar": {
              "outlinewidth": 0,
              "ticks": ""
             }
            },
            "type": "scattergeo"
           }
          ],
          "scattergl": [
           {
            "marker": {
             "colorbar": {
              "outlinewidth": 0,
              "ticks": ""
             }
            },
            "type": "scattergl"
           }
          ],
          "scattermapbox": [
           {
            "marker": {
             "colorbar": {
              "outlinewidth": 0,
              "ticks": ""
             }
            },
            "type": "scattermapbox"
           }
          ],
          "scatterpolar": [
           {
            "marker": {
             "colorbar": {
              "outlinewidth": 0,
              "ticks": ""
             }
            },
            "type": "scatterpolar"
           }
          ],
          "scatterpolargl": [
           {
            "marker": {
             "colorbar": {
              "outlinewidth": 0,
              "ticks": ""
             }
            },
            "type": "scatterpolargl"
           }
          ],
          "scatterternary": [
           {
            "marker": {
             "colorbar": {
              "outlinewidth": 0,
              "ticks": ""
             }
            },
            "type": "scatterternary"
           }
          ],
          "surface": [
           {
            "colorbar": {
             "outlinewidth": 0,
             "ticks": ""
            },
            "colorscale": [
             [
              0,
              "#0d0887"
             ],
             [
              0.1111111111111111,
              "#46039f"
             ],
             [
              0.2222222222222222,
              "#7201a8"
             ],
             [
              0.3333333333333333,
              "#9c179e"
             ],
             [
              0.4444444444444444,
              "#bd3786"
             ],
             [
              0.5555555555555556,
              "#d8576b"
             ],
             [
              0.6666666666666666,
              "#ed7953"
             ],
             [
              0.7777777777777778,
              "#fb9f3a"
             ],
             [
              0.8888888888888888,
              "#fdca26"
             ],
             [
              1,
              "#f0f921"
             ]
            ],
            "type": "surface"
           }
          ],
          "table": [
           {
            "cells": {
             "fill": {
              "color": "#EBF0F8"
             },
             "line": {
              "color": "white"
             }
            },
            "header": {
             "fill": {
              "color": "#C8D4E3"
             },
             "line": {
              "color": "white"
             }
            },
            "type": "table"
           }
          ]
         },
         "layout": {
          "annotationdefaults": {
           "arrowcolor": "#2a3f5f",
           "arrowhead": 0,
           "arrowwidth": 1
          },
          "autotypenumbers": "strict",
          "coloraxis": {
           "colorbar": {
            "outlinewidth": 0,
            "ticks": ""
           }
          },
          "colorscale": {
           "diverging": [
            [
             0,
             "#8e0152"
            ],
            [
             0.1,
             "#c51b7d"
            ],
            [
             0.2,
             "#de77ae"
            ],
            [
             0.3,
             "#f1b6da"
            ],
            [
             0.4,
             "#fde0ef"
            ],
            [
             0.5,
             "#f7f7f7"
            ],
            [
             0.6,
             "#e6f5d0"
            ],
            [
             0.7,
             "#b8e186"
            ],
            [
             0.8,
             "#7fbc41"
            ],
            [
             0.9,
             "#4d9221"
            ],
            [
             1,
             "#276419"
            ]
           ],
           "sequential": [
            [
             0,
             "#0d0887"
            ],
            [
             0.1111111111111111,
             "#46039f"
            ],
            [
             0.2222222222222222,
             "#7201a8"
            ],
            [
             0.3333333333333333,
             "#9c179e"
            ],
            [
             0.4444444444444444,
             "#bd3786"
            ],
            [
             0.5555555555555556,
             "#d8576b"
            ],
            [
             0.6666666666666666,
             "#ed7953"
            ],
            [
             0.7777777777777778,
             "#fb9f3a"
            ],
            [
             0.8888888888888888,
             "#fdca26"
            ],
            [
             1,
             "#f0f921"
            ]
           ],
           "sequentialminus": [
            [
             0,
             "#0d0887"
            ],
            [
             0.1111111111111111,
             "#46039f"
            ],
            [
             0.2222222222222222,
             "#7201a8"
            ],
            [
             0.3333333333333333,
             "#9c179e"
            ],
            [
             0.4444444444444444,
             "#bd3786"
            ],
            [
             0.5555555555555556,
             "#d8576b"
            ],
            [
             0.6666666666666666,
             "#ed7953"
            ],
            [
             0.7777777777777778,
             "#fb9f3a"
            ],
            [
             0.8888888888888888,
             "#fdca26"
            ],
            [
             1,
             "#f0f921"
            ]
           ]
          },
          "colorway": [
           "#636efa",
           "#EF553B",
           "#00cc96",
           "#ab63fa",
           "#FFA15A",
           "#19d3f3",
           "#FF6692",
           "#B6E880",
           "#FF97FF",
           "#FECB52"
          ],
          "font": {
           "color": "#2a3f5f"
          },
          "geo": {
           "bgcolor": "white",
           "lakecolor": "white",
           "landcolor": "#E5ECF6",
           "showlakes": true,
           "showland": true,
           "subunitcolor": "white"
          },
          "hoverlabel": {
           "align": "left"
          },
          "hovermode": "closest",
          "mapbox": {
           "style": "light"
          },
          "paper_bgcolor": "white",
          "plot_bgcolor": "#E5ECF6",
          "polar": {
           "angularaxis": {
            "gridcolor": "white",
            "linecolor": "white",
            "ticks": ""
           },
           "bgcolor": "#E5ECF6",
           "radialaxis": {
            "gridcolor": "white",
            "linecolor": "white",
            "ticks": ""
           }
          },
          "scene": {
           "xaxis": {
            "backgroundcolor": "#E5ECF6",
            "gridcolor": "white",
            "gridwidth": 2,
            "linecolor": "white",
            "showbackground": true,
            "ticks": "",
            "zerolinecolor": "white"
           },
           "yaxis": {
            "backgroundcolor": "#E5ECF6",
            "gridcolor": "white",
            "gridwidth": 2,
            "linecolor": "white",
            "showbackground": true,
            "ticks": "",
            "zerolinecolor": "white"
           },
           "zaxis": {
            "backgroundcolor": "#E5ECF6",
            "gridcolor": "white",
            "gridwidth": 2,
            "linecolor": "white",
            "showbackground": true,
            "ticks": "",
            "zerolinecolor": "white"
           }
          },
          "shapedefaults": {
           "line": {
            "color": "#2a3f5f"
           }
          },
          "ternary": {
           "aaxis": {
            "gridcolor": "white",
            "linecolor": "white",
            "ticks": ""
           },
           "baxis": {
            "gridcolor": "white",
            "linecolor": "white",
            "ticks": ""
           },
           "bgcolor": "#E5ECF6",
           "caxis": {
            "gridcolor": "white",
            "linecolor": "white",
            "ticks": ""
           }
          },
          "title": {
           "x": 0.05
          },
          "xaxis": {
           "automargin": true,
           "gridcolor": "white",
           "linecolor": "white",
           "ticks": "",
           "title": {
            "standoff": 15
           },
           "zerolinecolor": "white",
           "zerolinewidth": 2
          },
          "yaxis": {
           "automargin": true,
           "gridcolor": "white",
           "linecolor": "white",
           "ticks": "",
           "title": {
            "standoff": 15
           },
           "zerolinecolor": "white",
           "zerolinewidth": 2
          }
         }
        },
        "title": {
         "text": "Average Sentiment of YouTube Videos by Country"
        }
       }
      }
     },
     "metadata": {},
     "output_type": "display_data"
    }
   ],
   "source": [
    "fig = px.choropleth(country_df, locations=\"country\", color=\"sentiment_0\",\n",
    "                    hover_name=\"country\",\n",
    "                    color_continuous_scale=px.colors.sequential.Plasma)\n",
    "fig.update_layout(\n",
    "    title_text='Average Sentiment of YouTube Videos by Country',\n",
    "    geo=dict(\n",
    "        showframe=False,\n",
    "        showcoastlines=False,\n",
    "        projection_type='equirectangular'\n",
    "    )\n",
    ")\n",
    "fig.show()"
   ]
  },
  {
   "cell_type": "code",
   "execution_count": 7,
   "metadata": {},
   "outputs": [
    {
     "name": "stderr",
     "output_type": "stream",
     "text": [
      "/var/folders/4c/w2fyysz50_j_234jdvb_c9wr0000gn/T/ipykernel_52053/4284186158.py:13: FutureWarning:\n",
      "\n",
      "The default value of numeric_only in DataFrameGroupBy.mean is deprecated. In a future version, numeric_only will default to False. Either specify numeric_only or select only columns which should be valid for the function.\n",
      "\n"
     ]
    },
    {
     "data": {
      "application/vnd.plotly.v1+json": {
       "config": {
        "plotlyServerURL": "https://plot.ly"
       },
       "data": [
        {
         "coloraxis": "coloraxis",
         "geo": "geo",
         "hovertemplate": "<b>%{hovertext}</b><br><br>year=2013<br>country=%{location}<br>sentiment_0=%{z}<extra></extra>",
         "hovertext": [
          "PHL",
          "USA"
         ],
         "locations": [
          "PHL",
          "USA"
         ],
         "name": "",
         "type": "choropleth",
         "z": [
          1,
          1
         ]
        }
       ],
       "frames": [
        {
         "data": [
          {
           "coloraxis": "coloraxis",
           "geo": "geo",
           "hovertemplate": "<b>%{hovertext}</b><br><br>year=2013<br>country=%{location}<br>sentiment_0=%{z}<extra></extra>",
           "hovertext": [
            "PHL",
            "USA"
           ],
           "locations": [
            "PHL",
            "USA"
           ],
           "name": "",
           "type": "choropleth",
           "z": [
            1,
            1
           ]
          }
         ],
         "name": "2013"
        },
        {
         "data": [
          {
           "coloraxis": "coloraxis",
           "geo": "geo",
           "hovertemplate": "<b>%{hovertext}</b><br><br>year=2014<br>country=%{location}<br>sentiment_0=%{z}<extra></extra>",
           "hovertext": [
            "CHL",
            "IDN",
            "PRI",
            "USA"
           ],
           "locations": [
            "CHL",
            "IDN",
            "PRI",
            "USA"
           ],
           "name": "",
           "type": "choropleth",
           "z": [
            1,
            -1,
            1,
            1
           ]
          }
         ],
         "name": "2014"
        },
        {
         "data": [
          {
           "coloraxis": "coloraxis",
           "geo": "geo",
           "hovertemplate": "<b>%{hovertext}</b><br><br>year=2015<br>country=%{location}<br>sentiment_0=%{z}<extra></extra>",
           "hovertext": [
            "SWZ",
            "BEL",
            "CAN",
            "NLD",
            "MYS",
            "MEX",
            "DEU",
            "ITA",
            "IND",
            "USA",
            "AUS",
            "IRL",
            "GBR",
            "AFG",
            "FRA",
            "VNM",
            "IDN"
           ],
           "locations": [
            "SWZ",
            "BEL",
            "CAN",
            "NLD",
            "MYS",
            "MEX",
            "DEU",
            "ITA",
            "IND",
            "USA",
            "AUS",
            "IRL",
            "GBR",
            "AFG",
            "FRA",
            "VNM",
            "IDN"
           ],
           "name": "",
           "type": "choropleth",
           "z": [
            -1,
            -1,
            -0.3333333333333333,
            1,
            -1,
            1,
            1,
            1,
            1,
            -0.2727272727272727,
            -0.3333333333333333,
            1,
            -0.2,
            -1,
            -1,
            1,
            1
           ]
          }
         ],
         "name": "2015"
        },
        {
         "data": [
          {
           "coloraxis": "coloraxis",
           "geo": "geo",
           "hovertemplate": "<b>%{hovertext}</b><br><br>year=2016<br>country=%{location}<br>sentiment_0=%{z}<extra></extra>",
           "hovertext": [
            "SEN",
            "CAN",
            "FRA",
            "ZAF",
            "COL",
            "MEX",
            "SGP",
            "HTI",
            "MUS",
            "BLR",
            "GBR",
            "USA",
            "BRA",
            "IDN",
            "PCN",
            "DNK",
            "ITA",
            "AUS",
            "BEL",
            "PAK",
            "PHL",
            "IND",
            "ESP",
            "ISR",
            "LTU"
           ],
           "locations": [
            "SEN",
            "CAN",
            "FRA",
            "ZAF",
            "COL",
            "MEX",
            "SGP",
            "HTI",
            "MUS",
            "BLR",
            "GBR",
            "USA",
            "BRA",
            "IDN",
            "PCN",
            "DNK",
            "ITA",
            "AUS",
            "BEL",
            "PAK",
            "PHL",
            "IND",
            "ESP",
            "ISR",
            "LTU"
           ],
           "name": "",
           "type": "choropleth",
           "z": [
            -1,
            -0.5,
            0.3333333333333333,
            1,
            -1,
            -0.3333333333333333,
            -1,
            -1,
            1,
            1,
            0,
            -0.375,
            -1,
            1,
            -1,
            -1,
            1,
            0,
            -1,
            1,
            -1,
            0.14285714285714285,
            0.5,
            1,
            -1
           ]
          }
         ],
         "name": "2016"
        },
        {
         "data": [
          {
           "coloraxis": "coloraxis",
           "geo": "geo",
           "hovertemplate": "<b>%{hovertext}</b><br><br>year=2017<br>country=%{location}<br>sentiment_0=%{z}<extra></extra>",
           "hovertext": [
            "PHL",
            "ARE",
            "NZL",
            "NPL",
            "NLD",
            "LVA",
            "DEU",
            "KHM",
            "IND",
            "EST",
            "IDN",
            "CAN",
            "PAK",
            "GBR",
            "BRA",
            "AZE",
            "AUS",
            "USA",
            "PRT",
            "BGD"
           ],
           "locations": [
            "PHL",
            "ARE",
            "NZL",
            "NPL",
            "NLD",
            "LVA",
            "DEU",
            "KHM",
            "IND",
            "EST",
            "IDN",
            "CAN",
            "PAK",
            "GBR",
            "BRA",
            "AZE",
            "AUS",
            "USA",
            "PRT",
            "BGD"
           ],
           "name": "",
           "type": "choropleth",
           "z": [
            -1,
            1,
            0,
            1,
            0,
            -1,
            1,
            1,
            0.27835051546391754,
            -1,
            -1,
            1,
            0,
            -0.42857142857142855,
            -1,
            1,
            1,
            -0.3333333333333333,
            -1,
            1
           ]
          }
         ],
         "name": "2017"
        },
        {
         "data": [
          {
           "coloraxis": "coloraxis",
           "geo": "geo",
           "hovertemplate": "<b>%{hovertext}</b><br><br>year=2018<br>country=%{location}<br>sentiment_0=%{z}<extra></extra>",
           "hovertext": [
            "ETH",
            "SGP",
            "MKD",
            "CZE",
            "MAR",
            "GBR",
            "DEU",
            "BRA",
            "AUS",
            "DNK",
            "FIN",
            "JPN",
            "HKG",
            "SWE",
            "UKR",
            "FRA",
            "EST",
            "USA",
            "IDN",
            "VEN",
            "ZAF",
            "ITA",
            "IND",
            "NZL",
            "RUS",
            "CAN",
            "MYS",
            "BEL",
            "CHE",
            "NLD",
            "BGD",
            "SRB",
            "PHL",
            "ROU",
            "POL",
            "NPL"
           ],
           "locations": [
            "ETH",
            "SGP",
            "MKD",
            "CZE",
            "MAR",
            "GBR",
            "DEU",
            "BRA",
            "AUS",
            "DNK",
            "FIN",
            "JPN",
            "HKG",
            "SWE",
            "UKR",
            "FRA",
            "EST",
            "USA",
            "IDN",
            "VEN",
            "ZAF",
            "ITA",
            "IND",
            "NZL",
            "RUS",
            "CAN",
            "MYS",
            "BEL",
            "CHE",
            "NLD",
            "BGD",
            "SRB",
            "PHL",
            "ROU",
            "POL",
            "NPL"
           ],
           "name": "",
           "type": "choropleth",
           "z": [
            -1,
            -1,
            1,
            1,
            1,
            -0.2727272727272727,
            0.5,
            0,
            -1,
            -1,
            -1,
            0,
            -1,
            -1,
            1,
            0.52,
            -1,
            -0.3333333333333333,
            0,
            1,
            -1,
            1,
            0.7777777777777778,
            1,
            0,
            -0.3333333333333333,
            0.3333333333333333,
            1,
            1,
            0.3333333333333333,
            0,
            -1,
            0.5,
            1,
            -1,
            1
           ]
          }
         ],
         "name": "2018"
        },
        {
         "data": [
          {
           "coloraxis": "coloraxis",
           "geo": "geo",
           "hovertemplate": "<b>%{hovertext}</b><br><br>year=2019<br>country=%{location}<br>sentiment_0=%{z}<extra></extra>",
           "hovertext": [
            "MEX",
            "URY",
            "USA",
            "ROU",
            "IRL",
            "IDN",
            "VAT",
            "VEN",
            "PRI",
            "POL",
            "HUN",
            "VIR",
            "HRV",
            "VNM",
            "HKG",
            "PHL",
            "GRC",
            "GBR",
            "PAK",
            "ZAF",
            "PRT",
            "PER",
            "TWN",
            "IMN",
            "SWE",
            "MYS",
            "MUS",
            "SGP",
            "NER",
            "RUS",
            "LVA",
            "LTU",
            "SVK",
            "SEN",
            "THA",
            "UGA",
            "NLD",
            "TUR",
            "KEN",
            "JPN",
            "NOR",
            "SRB",
            "JAM",
            "ITA",
            "TTO",
            "IND",
            "NZL",
            "UKR",
            "PRK",
            "KOR",
            "JOR",
            "BGR",
            "BRA",
            "EST",
            "ESP",
            "AFG",
            "FIN",
            "DEU",
            "CHE",
            "ASM",
            "CHL",
            "ARE",
            "CZE",
            "BHR",
            "DZA",
            "ECU",
            "ATA",
            "BEL",
            "ARG",
            "CAN",
            "AUS",
            "AZE",
            "FRA",
            "AUT",
            "CPV",
            "DNK"
           ],
           "locations": [
            "MEX",
            "URY",
            "USA",
            "ROU",
            "IRL",
            "IDN",
            "VAT",
            "VEN",
            "PRI",
            "POL",
            "HUN",
            "VIR",
            "HRV",
            "VNM",
            "HKG",
            "PHL",
            "GRC",
            "GBR",
            "PAK",
            "ZAF",
            "PRT",
            "PER",
            "TWN",
            "IMN",
            "SWE",
            "MYS",
            "MUS",
            "SGP",
            "NER",
            "RUS",
            "LVA",
            "LTU",
            "SVK",
            "SEN",
            "THA",
            "UGA",
            "NLD",
            "TUR",
            "KEN",
            "JPN",
            "NOR",
            "SRB",
            "JAM",
            "ITA",
            "TTO",
            "IND",
            "NZL",
            "UKR",
            "PRK",
            "KOR",
            "JOR",
            "BGR",
            "BRA",
            "EST",
            "ESP",
            "AFG",
            "FIN",
            "DEU",
            "CHE",
            "ASM",
            "CHL",
            "ARE",
            "CZE",
            "BHR",
            "DZA",
            "ECU",
            "ATA",
            "BEL",
            "ARG",
            "CAN",
            "AUS",
            "AZE",
            "FRA",
            "AUT",
            "CPV",
            "DNK"
           ],
           "name": "",
           "type": "choropleth",
           "z": [
            -0.5,
            1,
            -0.2903225806451613,
            0,
            0.5,
            -0.07692307692307693,
            -1,
            -1,
            -1,
            -0.375,
            -0.3333333333333333,
            -1,
            -1,
            0.44,
            0,
            0,
            -1,
            -0.4444444444444444,
            1,
            -1,
            -0.2,
            0,
            1,
            -1,
            -0.3333333333333333,
            0.09090909090909091,
            -1,
            -1,
            -1,
            -0.3333333333333333,
            -1,
            -0.3333333333333333,
            1,
            -1,
            1,
            -1,
            -0.16666666666666666,
            0,
            -1,
            0,
            0.3333333333333333,
            1,
            -1,
            -0.25,
            -1,
            -0.07692307692307693,
            -0.25,
            1,
            -0.3333333333333333,
            1,
            1,
            1,
            -0.125,
            0.3333333333333333,
            0.3333333333333333,
            -1,
            0.3333333333333333,
            -0.14285714285714285,
            0.6,
            1,
            0.3333333333333333,
            1,
            1,
            1,
            -1,
            -1,
            0.3333333333333333,
            -0.7142857142857143,
            0.3333333333333333,
            -0.28125,
            -0.08333333333333333,
            -0.3333333333333333,
            0.05263157894736842,
            -1,
            1,
            -0.2
           ]
          }
         ],
         "name": "2019"
        },
        {
         "data": [
          {
           "coloraxis": "coloraxis",
           "geo": "geo",
           "hovertemplate": "<b>%{hovertext}</b><br><br>year=2020<br>country=%{location}<br>sentiment_0=%{z}<extra></extra>",
           "hovertext": [
            "NPL",
            "NZL",
            "DNK",
            "TTO",
            "PRK",
            "ROU",
            "SWE",
            "KOR",
            "AUT",
            "KWT",
            "CAN",
            "JPN",
            "VEN",
            "DEU",
            "PAN",
            "NOR",
            "ARG",
            "RUS",
            "MEX",
            "COL",
            "USA",
            "CRI",
            "MDV",
            "CUW",
            "MDG",
            "MNE",
            "MAR",
            "CHL",
            "LVA",
            "CZE",
            "LUX",
            "SRB",
            "NLD",
            "TZA",
            "TWN",
            "CHE",
            "LKA",
            "ITA",
            "LIE",
            "KAZ",
            "ASM",
            "MYS",
            "BGD",
            "IDN",
            "ESP",
            "SEN",
            "SGP",
            "PAK",
            "HUN",
            "FIN",
            "AUS",
            "PRT",
            "HRV",
            "BRA",
            "HND",
            "THA",
            "HKG",
            "FRA",
            "POL",
            "GRC",
            "UKR",
            "GHA",
            "TUR",
            "BGR",
            "GBR",
            "ZAF",
            "EGY",
            "ARE",
            "BEL",
            "IRL",
            "AFG",
            "BLR",
            "IND",
            "VNM",
            "DZA",
            "SVN",
            "REU",
            "ISR",
            "IRQ",
            "PER",
            "PHL",
            "SVK",
            "DMA",
            "QAT"
           ],
           "locations": [
            "NPL",
            "NZL",
            "DNK",
            "TTO",
            "PRK",
            "ROU",
            "SWE",
            "KOR",
            "AUT",
            "KWT",
            "CAN",
            "JPN",
            "VEN",
            "DEU",
            "PAN",
            "NOR",
            "ARG",
            "RUS",
            "MEX",
            "COL",
            "USA",
            "CRI",
            "MDV",
            "CUW",
            "MDG",
            "MNE",
            "MAR",
            "CHL",
            "LVA",
            "CZE",
            "LUX",
            "SRB",
            "NLD",
            "TZA",
            "TWN",
            "CHE",
            "LKA",
            "ITA",
            "LIE",
            "KAZ",
            "ASM",
            "MYS",
            "BGD",
            "IDN",
            "ESP",
            "SEN",
            "SGP",
            "PAK",
            "HUN",
            "FIN",
            "AUS",
            "PRT",
            "HRV",
            "BRA",
            "HND",
            "THA",
            "HKG",
            "FRA",
            "POL",
            "GRC",
            "UKR",
            "GHA",
            "TUR",
            "BGR",
            "GBR",
            "ZAF",
            "EGY",
            "ARE",
            "BEL",
            "IRL",
            "AFG",
            "BLR",
            "IND",
            "VNM",
            "DZA",
            "SVN",
            "REU",
            "ISR",
            "IRQ",
            "PER",
            "PHL",
            "SVK",
            "DMA",
            "QAT"
           ],
           "name": "",
           "type": "choropleth",
           "z": [
            -0.42857142857142855,
            0,
            -0.5,
            -1,
            -1,
            -0.14285714285714285,
            -0.25,
            0.3333333333333333,
            1,
            1,
            -0.3157894736842105,
            0.5,
            1,
            -0.3333333333333333,
            -1,
            0,
            1,
            -0.25,
            0,
            -0.6,
            -0.20071047957371227,
            -1,
            -1,
            -1,
            1,
            1,
            -0.6,
            0,
            1,
            0.5,
            -1,
            -1,
            -0.4444444444444444,
            1,
            -1,
            -0.2,
            -1,
            -0.3333333333333333,
            -1,
            -1,
            0,
            0.14285714285714285,
            -0.5,
            0.13043478260869565,
            -0.2,
            -1,
            -0.2,
            0.75,
            -1,
            0,
            -0.07692307692307693,
            -1,
            -1,
            -0.42857142857142855,
            1,
            0.2,
            -0.75,
            0.14942528735632185,
            -1,
            -0.3333333333333333,
            -0.6666666666666666,
            -1,
            -1,
            -1,
            -0.3170731707317073,
            -0.3333333333333333,
            -0.5,
            0,
            0.5,
            -0.25,
            -1,
            1,
            -0.4647887323943662,
            0.75,
            0,
            -0.3333333333333333,
            -1,
            0,
            -1,
            1,
            0.06666666666666667,
            0,
            -1,
            1
           ]
          }
         ],
         "name": "2020"
        },
        {
         "data": [
          {
           "coloraxis": "coloraxis",
           "geo": "geo",
           "hovertemplate": "<b>%{hovertext}</b><br><br>year=2021<br>country=%{location}<br>sentiment_0=%{z}<extra></extra>",
           "hovertext": [
            "BGD",
            "PHL",
            "PER",
            "POL",
            "NZL",
            "MYS",
            "BEL",
            "BGR",
            "CAN",
            "NGA",
            "UKR",
            "ROU",
            "NPL",
            "SRB",
            "BWA",
            "PAK",
            "CHE",
            "NLD",
            "BRA",
            "PRT",
            "NOR",
            "ARG",
            "MEX",
            "LIE",
            "TUR",
            "CHL",
            "ISL",
            "IRN",
            "SGP",
            "IND",
            "DOM",
            "DZA",
            "ECU",
            "SVN",
            "ISR",
            "VNM",
            "IRL",
            "SVK",
            "IDN",
            "ESP",
            "AUS",
            "FIN",
            "HRV",
            "HND",
            "HKG",
            "THA",
            "GRC",
            "FRA",
            "ZAF",
            "GBR",
            "DNK",
            "ITA",
            "ARM",
            "ZWE",
            "USA",
            "MDA",
            "RUS",
            "LVA",
            "CZE",
            "LUX",
            "LTU",
            "SAU",
            "VEN",
            "BRB",
            "PRI",
            "KAZ",
            "JPN",
            "KOR",
            "BIH",
            "SWE",
            "ATA",
            "DEU"
           ],
           "locations": [
            "BGD",
            "PHL",
            "PER",
            "POL",
            "NZL",
            "MYS",
            "BEL",
            "BGR",
            "CAN",
            "NGA",
            "UKR",
            "ROU",
            "NPL",
            "SRB",
            "BWA",
            "PAK",
            "CHE",
            "NLD",
            "BRA",
            "PRT",
            "NOR",
            "ARG",
            "MEX",
            "LIE",
            "TUR",
            "CHL",
            "ISL",
            "IRN",
            "SGP",
            "IND",
            "DOM",
            "DZA",
            "ECU",
            "SVN",
            "ISR",
            "VNM",
            "IRL",
            "SVK",
            "IDN",
            "ESP",
            "AUS",
            "FIN",
            "HRV",
            "HND",
            "HKG",
            "THA",
            "GRC",
            "FRA",
            "ZAF",
            "GBR",
            "DNK",
            "ITA",
            "ARM",
            "ZWE",
            "USA",
            "MDA",
            "RUS",
            "LVA",
            "CZE",
            "LUX",
            "LTU",
            "SAU",
            "VEN",
            "BRB",
            "PRI",
            "KAZ",
            "JPN",
            "KOR",
            "BIH",
            "SWE",
            "ATA",
            "DEU"
           ],
           "name": "",
           "type": "choropleth",
           "z": [
            -1,
            0.3333333333333333,
            1,
            -1,
            -0.14285714285714285,
            -0.42857142857142855,
            -0.5,
            1,
            -0.18181818181818182,
            -1,
            0,
            1,
            -1,
            -1,
            -1,
            -0.2,
            0,
            -0.5,
            0.2,
            -0.3333333333333333,
            -0.6,
            -0.3333333333333333,
            -1,
            -1,
            -1,
            1,
            1,
            -1,
            -0.2,
            0.23809523809523808,
            1,
            1,
            -1,
            -1,
            1,
            0.5,
            -0.3333333333333333,
            -1,
            -0.09090909090909091,
            0.2,
            -0.38461538461538464,
            -0.3333333333333333,
            -1,
            1,
            -1,
            1,
            0,
            0.28,
            -0.5,
            -0.34375,
            -1,
            -0.3333333333333333,
            -0.3333333333333333,
            -1,
            -0.26253687315634217,
            -1,
            0.25,
            -1,
            -0.5,
            -1,
            1,
            1,
            -1,
            -1,
            1,
            1,
            0.3333333333333333,
            -0.14285714285714285,
            1,
            0.3333333333333333,
            -1,
            -0.1
           ]
          }
         ],
         "name": "2021"
        },
        {
         "data": [
          {
           "coloraxis": "coloraxis",
           "geo": "geo",
           "hovertemplate": "<b>%{hovertext}</b><br><br>year=2022<br>country=%{location}<br>sentiment_0=%{z}<extra></extra>",
           "hovertext": [
            "ABW",
            "THA",
            "BEL",
            "BIH",
            "SRB",
            "SWE",
            "RUS",
            "TWN",
            "ROU",
            "BGD",
            "PRT",
            "SAU",
            "AUT",
            "AUS",
            "FRA",
            "BGR",
            "POL",
            "LBN",
            "ATA",
            "KHM",
            "KEN",
            "DEU",
            "JPN",
            "ITA",
            "DNK",
            "IND",
            "ISR",
            "VNM",
            "IRL",
            "IDN",
            "ESP",
            "HUN",
            "HRV",
            "HKG",
            "GRC",
            "ZAF",
            "GBR",
            "CZE",
            "LTU",
            "LKA",
            "LVA",
            "PAK",
            "UKR",
            "PHL",
            "BRA",
            "PER",
            "NZL",
            "CAN",
            "USA",
            "ARG",
            "NLD",
            "NOR",
            "CIV",
            "MEX",
            "CHL",
            "CHE",
            "MYS",
            "TUR",
            "NGA"
           ],
           "locations": [
            "ABW",
            "THA",
            "BEL",
            "BIH",
            "SRB",
            "SWE",
            "RUS",
            "TWN",
            "ROU",
            "BGD",
            "PRT",
            "SAU",
            "AUT",
            "AUS",
            "FRA",
            "BGR",
            "POL",
            "LBN",
            "ATA",
            "KHM",
            "KEN",
            "DEU",
            "JPN",
            "ITA",
            "DNK",
            "IND",
            "ISR",
            "VNM",
            "IRL",
            "IDN",
            "ESP",
            "HUN",
            "HRV",
            "HKG",
            "GRC",
            "ZAF",
            "GBR",
            "CZE",
            "LTU",
            "LKA",
            "LVA",
            "PAK",
            "UKR",
            "PHL",
            "BRA",
            "PER",
            "NZL",
            "CAN",
            "USA",
            "ARG",
            "NLD",
            "NOR",
            "CIV",
            "MEX",
            "CHL",
            "CHE",
            "MYS",
            "TUR",
            "NGA"
           ],
           "name": "",
           "type": "choropleth",
           "z": [
            1,
            1,
            -0.3333333333333333,
            0,
            1,
            0.2,
            0.3333333333333333,
            0,
            0.2,
            1,
            0,
            0,
            0,
            0.5714285714285714,
            -0.12,
            1,
            0.6666666666666666,
            1,
            -1,
            1,
            -1,
            -0.2,
            0.42857142857142855,
            0.09090909090909091,
            1,
            0.16666666666666666,
            0,
            0.07692307692307693,
            1,
            0.6666666666666666,
            -0.2,
            0.3333333333333333,
            0.3333333333333333,
            0.2,
            -1,
            0,
            -0.2558139534883721,
            0.3333333333333333,
            0,
            1,
            0,
            0.5,
            1,
            0.4,
            0.043478260869565216,
            -1,
            0.3333333333333333,
            -0.29411764705882354,
            -0.1,
            -0.3333333333333333,
            0.14285714285714285,
            -1,
            0,
            0,
            -0.3333333333333333,
            -1,
            -0.75,
            -0.3333333333333333,
            -1
           ]
          }
         ],
         "name": "2022"
        },
        {
         "data": [
          {
           "coloraxis": "coloraxis",
           "geo": "geo",
           "hovertemplate": "<b>%{hovertext}</b><br><br>year=2023<br>country=%{location}<br>sentiment_0=%{z}<extra></extra>",
           "hovertext": [
            "ARG",
            "VNM",
            "TUR",
            "URY",
            "ASM",
            "AUT",
            "AFG",
            "UKR",
            "ATA",
            "ZAF",
            "USA",
            "TWN",
            "UGA",
            "NOR",
            "SGP",
            "LKA",
            "KWT",
            "KHM",
            "JPN",
            "DEU",
            "JOR",
            "ITA",
            "DNK",
            "IRQ",
            "IND",
            "ISR",
            "ECU",
            "IRL",
            "IDN",
            "ESP",
            "HUN",
            "FIN",
            "HKG",
            "GLP",
            "GEO",
            "GBR",
            "CZE",
            "AUS",
            "LTU",
            "COL",
            "SWE",
            "BIH",
            "SAU",
            "RUS",
            "SRB",
            "BGD",
            "ROU",
            "PRT",
            "POL",
            "PAK",
            "BOL",
            "PHL",
            "BRA",
            "PAN",
            "NZL",
            "CAN",
            "FRA",
            "NLD",
            "MYS",
            "CHL",
            "MEX",
            "CYP",
            "ZWE"
           ],
           "locations": [
            "ARG",
            "VNM",
            "TUR",
            "URY",
            "ASM",
            "AUT",
            "AFG",
            "UKR",
            "ATA",
            "ZAF",
            "USA",
            "TWN",
            "UGA",
            "NOR",
            "SGP",
            "LKA",
            "KWT",
            "KHM",
            "JPN",
            "DEU",
            "JOR",
            "ITA",
            "DNK",
            "IRQ",
            "IND",
            "ISR",
            "ECU",
            "IRL",
            "IDN",
            "ESP",
            "HUN",
            "FIN",
            "HKG",
            "GLP",
            "GEO",
            "GBR",
            "CZE",
            "AUS",
            "LTU",
            "COL",
            "SWE",
            "BIH",
            "SAU",
            "RUS",
            "SRB",
            "BGD",
            "ROU",
            "PRT",
            "POL",
            "PAK",
            "BOL",
            "PHL",
            "BRA",
            "PAN",
            "NZL",
            "CAN",
            "FRA",
            "NLD",
            "MYS",
            "CHL",
            "MEX",
            "CYP",
            "ZWE"
           ],
           "name": "",
           "type": "choropleth",
           "z": [
            -0.3333333333333333,
            1,
            -1,
            -1,
            1,
            0,
            -1,
            -1,
            -1,
            -1,
            0.03418803418803419,
            0.3333333333333333,
            -1,
            -1,
            -1,
            -1,
            1,
            1,
            0.6,
            0.17647058823529413,
            1,
            -1,
            0,
            1,
            -0.034482758620689655,
            1,
            -1,
            -1,
            0.6,
            -1,
            -1,
            0,
            1,
            1,
            -1,
            0,
            1,
            0.15384615384615385,
            -1,
            -1,
            -1,
            -1,
            1,
            0.3333333333333333,
            -1,
            1,
            0.2,
            0.5,
            0.5,
            0.6842105263157895,
            -1,
            1,
            -0.09090909090909091,
            1,
            -0.6666666666666666,
            0.05555555555555555,
            -0.02857142857142857,
            0,
            0,
            1,
            0,
            1,
            1
           ]
          }
         ],
         "name": "2023"
        }
       ],
       "layout": {
        "coloraxis": {
         "colorbar": {
          "title": {
           "text": "sentiment_0"
          }
         },
         "colorscale": [
          [
           0,
           "#0d0887"
          ],
          [
           0.1111111111111111,
           "#46039f"
          ],
          [
           0.2222222222222222,
           "#7201a8"
          ],
          [
           0.3333333333333333,
           "#9c179e"
          ],
          [
           0.4444444444444444,
           "#bd3786"
          ],
          [
           0.5555555555555556,
           "#d8576b"
          ],
          [
           0.6666666666666666,
           "#ed7953"
          ],
          [
           0.7777777777777778,
           "#fb9f3a"
          ],
          [
           0.8888888888888888,
           "#fdca26"
          ],
          [
           1,
           "#f0f921"
          ]
         ]
        },
        "geo": {
         "center": {},
         "domain": {
          "x": [
           0,
           1
          ],
          "y": [
           0,
           1
          ]
         },
         "projection": {
          "type": "equirectangular"
         },
         "showcoastlines": false,
         "showframe": false
        },
        "legend": {
         "tracegroupgap": 0
        },
        "margin": {
         "t": 60
        },
        "sliders": [
         {
          "active": 0,
          "currentvalue": {
           "prefix": "year="
          },
          "len": 0.9,
          "pad": {
           "b": 10,
           "t": 60
          },
          "steps": [
           {
            "args": [
             [
              "2013"
             ],
             {
              "frame": {
               "duration": 0,
               "redraw": true
              },
              "fromcurrent": true,
              "mode": "immediate",
              "transition": {
               "duration": 0,
               "easing": "linear"
              }
             }
            ],
            "label": "2013",
            "method": "animate"
           },
           {
            "args": [
             [
              "2014"
             ],
             {
              "frame": {
               "duration": 0,
               "redraw": true
              },
              "fromcurrent": true,
              "mode": "immediate",
              "transition": {
               "duration": 0,
               "easing": "linear"
              }
             }
            ],
            "label": "2014",
            "method": "animate"
           },
           {
            "args": [
             [
              "2015"
             ],
             {
              "frame": {
               "duration": 0,
               "redraw": true
              },
              "fromcurrent": true,
              "mode": "immediate",
              "transition": {
               "duration": 0,
               "easing": "linear"
              }
             }
            ],
            "label": "2015",
            "method": "animate"
           },
           {
            "args": [
             [
              "2016"
             ],
             {
              "frame": {
               "duration": 0,
               "redraw": true
              },
              "fromcurrent": true,
              "mode": "immediate",
              "transition": {
               "duration": 0,
               "easing": "linear"
              }
             }
            ],
            "label": "2016",
            "method": "animate"
           },
           {
            "args": [
             [
              "2017"
             ],
             {
              "frame": {
               "duration": 0,
               "redraw": true
              },
              "fromcurrent": true,
              "mode": "immediate",
              "transition": {
               "duration": 0,
               "easing": "linear"
              }
             }
            ],
            "label": "2017",
            "method": "animate"
           },
           {
            "args": [
             [
              "2018"
             ],
             {
              "frame": {
               "duration": 0,
               "redraw": true
              },
              "fromcurrent": true,
              "mode": "immediate",
              "transition": {
               "duration": 0,
               "easing": "linear"
              }
             }
            ],
            "label": "2018",
            "method": "animate"
           },
           {
            "args": [
             [
              "2019"
             ],
             {
              "frame": {
               "duration": 0,
               "redraw": true
              },
              "fromcurrent": true,
              "mode": "immediate",
              "transition": {
               "duration": 0,
               "easing": "linear"
              }
             }
            ],
            "label": "2019",
            "method": "animate"
           },
           {
            "args": [
             [
              "2020"
             ],
             {
              "frame": {
               "duration": 0,
               "redraw": true
              },
              "fromcurrent": true,
              "mode": "immediate",
              "transition": {
               "duration": 0,
               "easing": "linear"
              }
             }
            ],
            "label": "2020",
            "method": "animate"
           },
           {
            "args": [
             [
              "2021"
             ],
             {
              "frame": {
               "duration": 0,
               "redraw": true
              },
              "fromcurrent": true,
              "mode": "immediate",
              "transition": {
               "duration": 0,
               "easing": "linear"
              }
             }
            ],
            "label": "2021",
            "method": "animate"
           },
           {
            "args": [
             [
              "2022"
             ],
             {
              "frame": {
               "duration": 0,
               "redraw": true
              },
              "fromcurrent": true,
              "mode": "immediate",
              "transition": {
               "duration": 0,
               "easing": "linear"
              }
             }
            ],
            "label": "2022",
            "method": "animate"
           },
           {
            "args": [
             [
              "2023"
             ],
             {
              "frame": {
               "duration": 0,
               "redraw": true
              },
              "fromcurrent": true,
              "mode": "immediate",
              "transition": {
               "duration": 0,
               "easing": "linear"
              }
             }
            ],
            "label": "2023",
            "method": "animate"
           }
          ],
          "x": 0.1,
          "xanchor": "left",
          "y": 0,
          "yanchor": "top"
         }
        ],
        "template": {
         "data": {
          "bar": [
           {
            "error_x": {
             "color": "#2a3f5f"
            },
            "error_y": {
             "color": "#2a3f5f"
            },
            "marker": {
             "line": {
              "color": "#E5ECF6",
              "width": 0.5
             },
             "pattern": {
              "fillmode": "overlay",
              "size": 10,
              "solidity": 0.2
             }
            },
            "type": "bar"
           }
          ],
          "barpolar": [
           {
            "marker": {
             "line": {
              "color": "#E5ECF6",
              "width": 0.5
             },
             "pattern": {
              "fillmode": "overlay",
              "size": 10,
              "solidity": 0.2
             }
            },
            "type": "barpolar"
           }
          ],
          "carpet": [
           {
            "aaxis": {
             "endlinecolor": "#2a3f5f",
             "gridcolor": "white",
             "linecolor": "white",
             "minorgridcolor": "white",
             "startlinecolor": "#2a3f5f"
            },
            "baxis": {
             "endlinecolor": "#2a3f5f",
             "gridcolor": "white",
             "linecolor": "white",
             "minorgridcolor": "white",
             "startlinecolor": "#2a3f5f"
            },
            "type": "carpet"
           }
          ],
          "choropleth": [
           {
            "colorbar": {
             "outlinewidth": 0,
             "ticks": ""
            },
            "type": "choropleth"
           }
          ],
          "contour": [
           {
            "colorbar": {
             "outlinewidth": 0,
             "ticks": ""
            },
            "colorscale": [
             [
              0,
              "#0d0887"
             ],
             [
              0.1111111111111111,
              "#46039f"
             ],
             [
              0.2222222222222222,
              "#7201a8"
             ],
             [
              0.3333333333333333,
              "#9c179e"
             ],
             [
              0.4444444444444444,
              "#bd3786"
             ],
             [
              0.5555555555555556,
              "#d8576b"
             ],
             [
              0.6666666666666666,
              "#ed7953"
             ],
             [
              0.7777777777777778,
              "#fb9f3a"
             ],
             [
              0.8888888888888888,
              "#fdca26"
             ],
             [
              1,
              "#f0f921"
             ]
            ],
            "type": "contour"
           }
          ],
          "contourcarpet": [
           {
            "colorbar": {
             "outlinewidth": 0,
             "ticks": ""
            },
            "type": "contourcarpet"
           }
          ],
          "heatmap": [
           {
            "colorbar": {
             "outlinewidth": 0,
             "ticks": ""
            },
            "colorscale": [
             [
              0,
              "#0d0887"
             ],
             [
              0.1111111111111111,
              "#46039f"
             ],
             [
              0.2222222222222222,
              "#7201a8"
             ],
             [
              0.3333333333333333,
              "#9c179e"
             ],
             [
              0.4444444444444444,
              "#bd3786"
             ],
             [
              0.5555555555555556,
              "#d8576b"
             ],
             [
              0.6666666666666666,
              "#ed7953"
             ],
             [
              0.7777777777777778,
              "#fb9f3a"
             ],
             [
              0.8888888888888888,
              "#fdca26"
             ],
             [
              1,
              "#f0f921"
             ]
            ],
            "type": "heatmap"
           }
          ],
          "heatmapgl": [
           {
            "colorbar": {
             "outlinewidth": 0,
             "ticks": ""
            },
            "colorscale": [
             [
              0,
              "#0d0887"
             ],
             [
              0.1111111111111111,
              "#46039f"
             ],
             [
              0.2222222222222222,
              "#7201a8"
             ],
             [
              0.3333333333333333,
              "#9c179e"
             ],
             [
              0.4444444444444444,
              "#bd3786"
             ],
             [
              0.5555555555555556,
              "#d8576b"
             ],
             [
              0.6666666666666666,
              "#ed7953"
             ],
             [
              0.7777777777777778,
              "#fb9f3a"
             ],
             [
              0.8888888888888888,
              "#fdca26"
             ],
             [
              1,
              "#f0f921"
             ]
            ],
            "type": "heatmapgl"
           }
          ],
          "histogram": [
           {
            "marker": {
             "pattern": {
              "fillmode": "overlay",
              "size": 10,
              "solidity": 0.2
             }
            },
            "type": "histogram"
           }
          ],
          "histogram2d": [
           {
            "colorbar": {
             "outlinewidth": 0,
             "ticks": ""
            },
            "colorscale": [
             [
              0,
              "#0d0887"
             ],
             [
              0.1111111111111111,
              "#46039f"
             ],
             [
              0.2222222222222222,
              "#7201a8"
             ],
             [
              0.3333333333333333,
              "#9c179e"
             ],
             [
              0.4444444444444444,
              "#bd3786"
             ],
             [
              0.5555555555555556,
              "#d8576b"
             ],
             [
              0.6666666666666666,
              "#ed7953"
             ],
             [
              0.7777777777777778,
              "#fb9f3a"
             ],
             [
              0.8888888888888888,
              "#fdca26"
             ],
             [
              1,
              "#f0f921"
             ]
            ],
            "type": "histogram2d"
           }
          ],
          "histogram2dcontour": [
           {
            "colorbar": {
             "outlinewidth": 0,
             "ticks": ""
            },
            "colorscale": [
             [
              0,
              "#0d0887"
             ],
             [
              0.1111111111111111,
              "#46039f"
             ],
             [
              0.2222222222222222,
              "#7201a8"
             ],
             [
              0.3333333333333333,
              "#9c179e"
             ],
             [
              0.4444444444444444,
              "#bd3786"
             ],
             [
              0.5555555555555556,
              "#d8576b"
             ],
             [
              0.6666666666666666,
              "#ed7953"
             ],
             [
              0.7777777777777778,
              "#fb9f3a"
             ],
             [
              0.8888888888888888,
              "#fdca26"
             ],
             [
              1,
              "#f0f921"
             ]
            ],
            "type": "histogram2dcontour"
           }
          ],
          "mesh3d": [
           {
            "colorbar": {
             "outlinewidth": 0,
             "ticks": ""
            },
            "type": "mesh3d"
           }
          ],
          "parcoords": [
           {
            "line": {
             "colorbar": {
              "outlinewidth": 0,
              "ticks": ""
             }
            },
            "type": "parcoords"
           }
          ],
          "pie": [
           {
            "automargin": true,
            "type": "pie"
           }
          ],
          "scatter": [
           {
            "fillpattern": {
             "fillmode": "overlay",
             "size": 10,
             "solidity": 0.2
            },
            "type": "scatter"
           }
          ],
          "scatter3d": [
           {
            "line": {
             "colorbar": {
              "outlinewidth": 0,
              "ticks": ""
             }
            },
            "marker": {
             "colorbar": {
              "outlinewidth": 0,
              "ticks": ""
             }
            },
            "type": "scatter3d"
           }
          ],
          "scattercarpet": [
           {
            "marker": {
             "colorbar": {
              "outlinewidth": 0,
              "ticks": ""
             }
            },
            "type": "scattercarpet"
           }
          ],
          "scattergeo": [
           {
            "marker": {
             "colorbar": {
              "outlinewidth": 0,
              "ticks": ""
             }
            },
            "type": "scattergeo"
           }
          ],
          "scattergl": [
           {
            "marker": {
             "colorbar": {
              "outlinewidth": 0,
              "ticks": ""
             }
            },
            "type": "scattergl"
           }
          ],
          "scattermapbox": [
           {
            "marker": {
             "colorbar": {
              "outlinewidth": 0,
              "ticks": ""
             }
            },
            "type": "scattermapbox"
           }
          ],
          "scatterpolar": [
           {
            "marker": {
             "colorbar": {
              "outlinewidth": 0,
              "ticks": ""
             }
            },
            "type": "scatterpolar"
           }
          ],
          "scatterpolargl": [
           {
            "marker": {
             "colorbar": {
              "outlinewidth": 0,
              "ticks": ""
             }
            },
            "type": "scatterpolargl"
           }
          ],
          "scatterternary": [
           {
            "marker": {
             "colorbar": {
              "outlinewidth": 0,
              "ticks": ""
             }
            },
            "type": "scatterternary"
           }
          ],
          "surface": [
           {
            "colorbar": {
             "outlinewidth": 0,
             "ticks": ""
            },
            "colorscale": [
             [
              0,
              "#0d0887"
             ],
             [
              0.1111111111111111,
              "#46039f"
             ],
             [
              0.2222222222222222,
              "#7201a8"
             ],
             [
              0.3333333333333333,
              "#9c179e"
             ],
             [
              0.4444444444444444,
              "#bd3786"
             ],
             [
              0.5555555555555556,
              "#d8576b"
             ],
             [
              0.6666666666666666,
              "#ed7953"
             ],
             [
              0.7777777777777778,
              "#fb9f3a"
             ],
             [
              0.8888888888888888,
              "#fdca26"
             ],
             [
              1,
              "#f0f921"
             ]
            ],
            "type": "surface"
           }
          ],
          "table": [
           {
            "cells": {
             "fill": {
              "color": "#EBF0F8"
             },
             "line": {
              "color": "white"
             }
            },
            "header": {
             "fill": {
              "color": "#C8D4E3"
             },
             "line": {
              "color": "white"
             }
            },
            "type": "table"
           }
          ]
         },
         "layout": {
          "annotationdefaults": {
           "arrowcolor": "#2a3f5f",
           "arrowhead": 0,
           "arrowwidth": 1
          },
          "autotypenumbers": "strict",
          "coloraxis": {
           "colorbar": {
            "outlinewidth": 0,
            "ticks": ""
           }
          },
          "colorscale": {
           "diverging": [
            [
             0,
             "#8e0152"
            ],
            [
             0.1,
             "#c51b7d"
            ],
            [
             0.2,
             "#de77ae"
            ],
            [
             0.3,
             "#f1b6da"
            ],
            [
             0.4,
             "#fde0ef"
            ],
            [
             0.5,
             "#f7f7f7"
            ],
            [
             0.6,
             "#e6f5d0"
            ],
            [
             0.7,
             "#b8e186"
            ],
            [
             0.8,
             "#7fbc41"
            ],
            [
             0.9,
             "#4d9221"
            ],
            [
             1,
             "#276419"
            ]
           ],
           "sequential": [
            [
             0,
             "#0d0887"
            ],
            [
             0.1111111111111111,
             "#46039f"
            ],
            [
             0.2222222222222222,
             "#7201a8"
            ],
            [
             0.3333333333333333,
             "#9c179e"
            ],
            [
             0.4444444444444444,
             "#bd3786"
            ],
            [
             0.5555555555555556,
             "#d8576b"
            ],
            [
             0.6666666666666666,
             "#ed7953"
            ],
            [
             0.7777777777777778,
             "#fb9f3a"
            ],
            [
             0.8888888888888888,
             "#fdca26"
            ],
            [
             1,
             "#f0f921"
            ]
           ],
           "sequentialminus": [
            [
             0,
             "#0d0887"
            ],
            [
             0.1111111111111111,
             "#46039f"
            ],
            [
             0.2222222222222222,
             "#7201a8"
            ],
            [
             0.3333333333333333,
             "#9c179e"
            ],
            [
             0.4444444444444444,
             "#bd3786"
            ],
            [
             0.5555555555555556,
             "#d8576b"
            ],
            [
             0.6666666666666666,
             "#ed7953"
            ],
            [
             0.7777777777777778,
             "#fb9f3a"
            ],
            [
             0.8888888888888888,
             "#fdca26"
            ],
            [
             1,
             "#f0f921"
            ]
           ]
          },
          "colorway": [
           "#636efa",
           "#EF553B",
           "#00cc96",
           "#ab63fa",
           "#FFA15A",
           "#19d3f3",
           "#FF6692",
           "#B6E880",
           "#FF97FF",
           "#FECB52"
          ],
          "font": {
           "color": "#2a3f5f"
          },
          "geo": {
           "bgcolor": "white",
           "lakecolor": "white",
           "landcolor": "#E5ECF6",
           "showlakes": true,
           "showland": true,
           "subunitcolor": "white"
          },
          "hoverlabel": {
           "align": "left"
          },
          "hovermode": "closest",
          "mapbox": {
           "style": "light"
          },
          "paper_bgcolor": "white",
          "plot_bgcolor": "#E5ECF6",
          "polar": {
           "angularaxis": {
            "gridcolor": "white",
            "linecolor": "white",
            "ticks": ""
           },
           "bgcolor": "#E5ECF6",
           "radialaxis": {
            "gridcolor": "white",
            "linecolor": "white",
            "ticks": ""
           }
          },
          "scene": {
           "xaxis": {
            "backgroundcolor": "#E5ECF6",
            "gridcolor": "white",
            "gridwidth": 2,
            "linecolor": "white",
            "showbackground": true,
            "ticks": "",
            "zerolinecolor": "white"
           },
           "yaxis": {
            "backgroundcolor": "#E5ECF6",
            "gridcolor": "white",
            "gridwidth": 2,
            "linecolor": "white",
            "showbackground": true,
            "ticks": "",
            "zerolinecolor": "white"
           },
           "zaxis": {
            "backgroundcolor": "#E5ECF6",
            "gridcolor": "white",
            "gridwidth": 2,
            "linecolor": "white",
            "showbackground": true,
            "ticks": "",
            "zerolinecolor": "white"
           }
          },
          "shapedefaults": {
           "line": {
            "color": "#2a3f5f"
           }
          },
          "ternary": {
           "aaxis": {
            "gridcolor": "white",
            "linecolor": "white",
            "ticks": ""
           },
           "baxis": {
            "gridcolor": "white",
            "linecolor": "white",
            "ticks": ""
           },
           "bgcolor": "#E5ECF6",
           "caxis": {
            "gridcolor": "white",
            "linecolor": "white",
            "ticks": ""
           }
          },
          "title": {
           "x": 0.05
          },
          "xaxis": {
           "automargin": true,
           "gridcolor": "white",
           "linecolor": "white",
           "ticks": "",
           "title": {
            "standoff": 15
           },
           "zerolinecolor": "white",
           "zerolinewidth": 2
          },
          "yaxis": {
           "automargin": true,
           "gridcolor": "white",
           "linecolor": "white",
           "ticks": "",
           "title": {
            "standoff": 15
           },
           "zerolinecolor": "white",
           "zerolinewidth": 2
          }
         }
        },
        "title": {
         "text": "Sentiment of YouTube Videos by Country"
        },
        "updatemenus": [
         {
          "buttons": [
           {
            "args": [
             null,
             {
              "frame": {
               "duration": 500,
               "redraw": true
              },
              "fromcurrent": true,
              "mode": "immediate",
              "transition": {
               "duration": 500,
               "easing": "linear"
              }
             }
            ],
            "label": "&#9654;",
            "method": "animate"
           },
           {
            "args": [
             [
              null
             ],
             {
              "frame": {
               "duration": 0,
               "redraw": true
              },
              "fromcurrent": true,
              "mode": "immediate",
              "transition": {
               "duration": 0,
               "easing": "linear"
              }
             }
            ],
            "label": "&#9724;",
            "method": "animate"
           }
          ],
          "direction": "left",
          "pad": {
           "r": 10,
           "t": 70
          },
          "showactive": false,
          "type": "buttons",
          "x": 0.1,
          "xanchor": "right",
          "y": 0,
          "yanchor": "top"
         }
        ]
       }
      }
     },
     "metadata": {},
     "output_type": "display_data"
    }
   ],
   "source": [
    "# now plot the sentiment in each country for each year\n",
    "\n",
    "# exclude rows with no date\n",
    "df = df[df['date'].notna()]\n",
    "df = df[df['date'] != 'CZ'] # invalid value\n",
    "\n",
    "# get the year from the date\n",
    "for i, row in df.iterrows():\n",
    "    date = row['date']\n",
    "    df.at[i, 'year'] = date.split('-')[0]\n",
    "\n",
    "# get average for each country\n",
    "df = df.groupby(['country', 'year']).mean().reset_index()\n",
    "\n",
    "# convert country to 3 letter code\n",
    "for i, row in df.iterrows():\n",
    "    country = row['country']\n",
    "    if country in country_2_to_3:\n",
    "        df.at[i, 'country'] = country_2_to_3[country]\n",
    "\n",
    "# sort by year\n",
    "df = df.sort_values(by=['year'])\n",
    "\n",
    "# plot\n",
    "fig = px.choropleth(df, locations=\"country\", color=\"sentiment_0\",\n",
    "                    hover_name=\"country\", animation_frame=\"year\",\n",
    "                    color_continuous_scale=px.colors.sequential.Plasma)\n",
    "fig.update_layout(\n",
    "    title_text = 'Sentiment of YouTube Videos by Country',\n",
    "    geo=dict(\n",
    "        showframe=False,\n",
    "        showcoastlines=False,\n",
    "        projection_type='equirectangular'\n",
    "    )\n",
    ")\n",
    "fig.show()"
   ]
  },
  {
   "cell_type": "code",
   "execution_count": 8,
   "metadata": {},
   "outputs": [
    {
     "name": "stderr",
     "output_type": "stream",
     "text": [
      "/var/folders/4c/w2fyysz50_j_234jdvb_c9wr0000gn/T/ipykernel_52053/244884552.py:15: FutureWarning:\n",
      "\n",
      "The default value of numeric_only in DataFrameGroupBy.mean is deprecated. In a future version, numeric_only will default to False. Either specify numeric_only or select only columns which should be valid for the function.\n",
      "\n"
     ]
    },
    {
     "data": {
      "application/vnd.plotly.v1+json": {
       "config": {
        "plotlyServerURL": "https://plot.ly"
       },
       "data": [
        {
         "hovertemplate": "year-month=%{x}<br>sentiment_0=%{y}<extra></extra>",
         "legendgroup": "",
         "line": {
          "color": "#636efa",
          "dash": "solid"
         },
         "marker": {
          "symbol": "circle"
         },
         "mode": "lines",
         "name": "",
         "orientation": "v",
         "showlegend": false,
         "type": "scatter",
         "x": [
          "2013-04",
          "2013-05",
          "2013-06",
          "2013-08",
          "2013-09",
          "2013-11",
          "2013-12",
          "2014-01",
          "2014-02",
          "2014-03",
          "2014-04",
          "2014-05",
          "2014-06",
          "2014-07",
          "2014-08",
          "2014-09",
          "2014-10",
          "2014-11",
          "2014-12",
          "2015-01",
          "2015-02",
          "2015-03",
          "2015-04",
          "2015-05",
          "2015-06",
          "2015-07",
          "2015-08",
          "2015-09",
          "2015-10",
          "2015-11",
          "2015-12",
          "2016-01",
          "2016-02",
          "2016-03",
          "2016-04",
          "2016-05",
          "2016-06",
          "2016-07",
          "2016-08",
          "2016-09",
          "2016-10",
          "2016-11",
          "2016-12",
          "2017-01",
          "2017-02",
          "2017-03",
          "2017-04",
          "2017-05",
          "2017-06",
          "2017-07",
          "2017-08",
          "2017-09",
          "2017-10",
          "2017-11",
          "2017-12",
          "2018-01",
          "2018-02",
          "2018-03",
          "2018-04",
          "2018-05",
          "2018-06",
          "2018-07",
          "2018-08",
          "2018-09",
          "2018-10",
          "2018-11",
          "2018-12",
          "2019-01",
          "2019-02",
          "2019-03",
          "2019-04",
          "2019-05",
          "2019-06",
          "2019-07",
          "2019-08",
          "2019-09",
          "2019-10",
          "2019-11",
          "2019-12",
          "2020-01",
          "2020-02",
          "2020-03",
          "2020-04",
          "2020-05",
          "2020-06",
          "2020-07",
          "2020-08",
          "2020-09",
          "2020-10",
          "2020-11",
          "2020-12",
          "2021-01",
          "2021-02",
          "2021-03",
          "2021-04",
          "2021-05",
          "2021-06",
          "2021-07",
          "2021-08",
          "2021-09",
          "2021-10",
          "2021-11",
          "2021-12",
          "2022-01",
          "2022-02",
          "2022-03",
          "2022-04",
          "2022-05",
          "2022-06",
          "2022-07",
          "2022-08",
          "2022-09",
          "2022-10",
          "2022-11",
          "2022-12",
          "2023-01",
          "2023-02",
          "2023-03"
         ],
         "xaxis": "x",
         "y": [
          1,
          0.3333333333333333,
          1,
          0.3333333333333333,
          -1,
          1,
          1,
          1,
          1,
          1,
          0.5833333333333334,
          0.3333333333333333,
          0.2,
          0.6,
          -0.42857142857142855,
          -0.25,
          -0.3333333333333333,
          1,
          0.6,
          -0.75,
          0.5,
          -0.3333333333333333,
          -0.2,
          0.5,
          0.8181818181818182,
          0.3333333333333333,
          0.5714285714285714,
          0.2,
          -0.2727272727272727,
          -0.4896551724137931,
          0.10344827586206896,
          -0.3333333333333333,
          0.17647058823529413,
          0.6,
          0.30434782608695654,
          0.047619047619047616,
          -0.1111111111111111,
          0.05555555555555555,
          -0.5,
          -0.46938775510204084,
          -0.6551724137931034,
          -0.36363636363636365,
          -0.07142857142857142,
          -0.24324324324324326,
          -0.5555555555555556,
          -0.38461538461538464,
          0.36082474226804123,
          -0.045454545454545456,
          -0.28,
          -0.19444444444444445,
          -0.13580246913580246,
          -0.0625,
          0.06976744186046512,
          0.2903225806451613,
          -0.05,
          -0.3888888888888889,
          0.5142857142857142,
          0.05084745762711865,
          0.3469387755102041,
          0.2229299363057325,
          0.21739130434782608,
          0.5726495726495726,
          0.5447154471544715,
          0.42857142857142855,
          -0.10743801652892562,
          -0.15789473684210525,
          -0.28,
          0.30115830115830117,
          0.25,
          0.3333333333333333,
          0.05405405405405406,
          0.12195121951219512,
          0.17647058823529413,
          -0.33999131567520624,
          -0.29979879275653926,
          0.2892561983471074,
          0.11864406779661017,
          -0.1951219512195122,
          -0.09090909090909091,
          -0.2153846153846154,
          -0.12727272727272726,
          -0.3125,
          -0.2254335260115607,
          0.20958083832335328,
          -0.07936507936507936,
          -0.15121951219512195,
          -0.10052910052910052,
          0.04242424242424243,
          -0.24606525911708255,
          0.15763546798029557,
          0.22264150943396227,
          -0.037037037037037035,
          0.08994708994708994,
          -0.11504424778761062,
          0,
          0.031914893617021274,
          0.07792207792207792,
          -0.15542521994134897,
          -0.32618123716046565,
          -0.3321678321678322,
          -0.07534246575342465,
          -0.10121457489878542,
          0.16363636363636364,
          0.10144927536231885,
          -0.02608695652173913,
          -0.07216494845360824,
          0.20701754385964913,
          0.09933774834437085,
          0.007936507936507936,
          -0.016722408026755852,
          0.11557788944723618,
          -0.2205128205128205,
          0.2033898305084746,
          0.18604651162790697,
          -0.008849557522123894,
          0.004026845637583893,
          0.13111545988258316,
          -0.006646308604275193
         ],
         "yaxis": "y"
        }
       ],
       "layout": {
        "font": {
         "color": "#7f7f7f",
         "family": "Courier New, monospace",
         "size": 18
        },
        "legend": {
         "title": {
          "text": "Sentiment"
         },
         "tracegroupgap": 0
        },
        "margin": {
         "t": 60
        },
        "template": {
         "data": {
          "bar": [
           {
            "error_x": {
             "color": "#2a3f5f"
            },
            "error_y": {
             "color": "#2a3f5f"
            },
            "marker": {
             "line": {
              "color": "#E5ECF6",
              "width": 0.5
             },
             "pattern": {
              "fillmode": "overlay",
              "size": 10,
              "solidity": 0.2
             }
            },
            "type": "bar"
           }
          ],
          "barpolar": [
           {
            "marker": {
             "line": {
              "color": "#E5ECF6",
              "width": 0.5
             },
             "pattern": {
              "fillmode": "overlay",
              "size": 10,
              "solidity": 0.2
             }
            },
            "type": "barpolar"
           }
          ],
          "carpet": [
           {
            "aaxis": {
             "endlinecolor": "#2a3f5f",
             "gridcolor": "white",
             "linecolor": "white",
             "minorgridcolor": "white",
             "startlinecolor": "#2a3f5f"
            },
            "baxis": {
             "endlinecolor": "#2a3f5f",
             "gridcolor": "white",
             "linecolor": "white",
             "minorgridcolor": "white",
             "startlinecolor": "#2a3f5f"
            },
            "type": "carpet"
           }
          ],
          "choropleth": [
           {
            "colorbar": {
             "outlinewidth": 0,
             "ticks": ""
            },
            "type": "choropleth"
           }
          ],
          "contour": [
           {
            "colorbar": {
             "outlinewidth": 0,
             "ticks": ""
            },
            "colorscale": [
             [
              0,
              "#0d0887"
             ],
             [
              0.1111111111111111,
              "#46039f"
             ],
             [
              0.2222222222222222,
              "#7201a8"
             ],
             [
              0.3333333333333333,
              "#9c179e"
             ],
             [
              0.4444444444444444,
              "#bd3786"
             ],
             [
              0.5555555555555556,
              "#d8576b"
             ],
             [
              0.6666666666666666,
              "#ed7953"
             ],
             [
              0.7777777777777778,
              "#fb9f3a"
             ],
             [
              0.8888888888888888,
              "#fdca26"
             ],
             [
              1,
              "#f0f921"
             ]
            ],
            "type": "contour"
           }
          ],
          "contourcarpet": [
           {
            "colorbar": {
             "outlinewidth": 0,
             "ticks": ""
            },
            "type": "contourcarpet"
           }
          ],
          "heatmap": [
           {
            "colorbar": {
             "outlinewidth": 0,
             "ticks": ""
            },
            "colorscale": [
             [
              0,
              "#0d0887"
             ],
             [
              0.1111111111111111,
              "#46039f"
             ],
             [
              0.2222222222222222,
              "#7201a8"
             ],
             [
              0.3333333333333333,
              "#9c179e"
             ],
             [
              0.4444444444444444,
              "#bd3786"
             ],
             [
              0.5555555555555556,
              "#d8576b"
             ],
             [
              0.6666666666666666,
              "#ed7953"
             ],
             [
              0.7777777777777778,
              "#fb9f3a"
             ],
             [
              0.8888888888888888,
              "#fdca26"
             ],
             [
              1,
              "#f0f921"
             ]
            ],
            "type": "heatmap"
           }
          ],
          "heatmapgl": [
           {
            "colorbar": {
             "outlinewidth": 0,
             "ticks": ""
            },
            "colorscale": [
             [
              0,
              "#0d0887"
             ],
             [
              0.1111111111111111,
              "#46039f"
             ],
             [
              0.2222222222222222,
              "#7201a8"
             ],
             [
              0.3333333333333333,
              "#9c179e"
             ],
             [
              0.4444444444444444,
              "#bd3786"
             ],
             [
              0.5555555555555556,
              "#d8576b"
             ],
             [
              0.6666666666666666,
              "#ed7953"
             ],
             [
              0.7777777777777778,
              "#fb9f3a"
             ],
             [
              0.8888888888888888,
              "#fdca26"
             ],
             [
              1,
              "#f0f921"
             ]
            ],
            "type": "heatmapgl"
           }
          ],
          "histogram": [
           {
            "marker": {
             "pattern": {
              "fillmode": "overlay",
              "size": 10,
              "solidity": 0.2
             }
            },
            "type": "histogram"
           }
          ],
          "histogram2d": [
           {
            "colorbar": {
             "outlinewidth": 0,
             "ticks": ""
            },
            "colorscale": [
             [
              0,
              "#0d0887"
             ],
             [
              0.1111111111111111,
              "#46039f"
             ],
             [
              0.2222222222222222,
              "#7201a8"
             ],
             [
              0.3333333333333333,
              "#9c179e"
             ],
             [
              0.4444444444444444,
              "#bd3786"
             ],
             [
              0.5555555555555556,
              "#d8576b"
             ],
             [
              0.6666666666666666,
              "#ed7953"
             ],
             [
              0.7777777777777778,
              "#fb9f3a"
             ],
             [
              0.8888888888888888,
              "#fdca26"
             ],
             [
              1,
              "#f0f921"
             ]
            ],
            "type": "histogram2d"
           }
          ],
          "histogram2dcontour": [
           {
            "colorbar": {
             "outlinewidth": 0,
             "ticks": ""
            },
            "colorscale": [
             [
              0,
              "#0d0887"
             ],
             [
              0.1111111111111111,
              "#46039f"
             ],
             [
              0.2222222222222222,
              "#7201a8"
             ],
             [
              0.3333333333333333,
              "#9c179e"
             ],
             [
              0.4444444444444444,
              "#bd3786"
             ],
             [
              0.5555555555555556,
              "#d8576b"
             ],
             [
              0.6666666666666666,
              "#ed7953"
             ],
             [
              0.7777777777777778,
              "#fb9f3a"
             ],
             [
              0.8888888888888888,
              "#fdca26"
             ],
             [
              1,
              "#f0f921"
             ]
            ],
            "type": "histogram2dcontour"
           }
          ],
          "mesh3d": [
           {
            "colorbar": {
             "outlinewidth": 0,
             "ticks": ""
            },
            "type": "mesh3d"
           }
          ],
          "parcoords": [
           {
            "line": {
             "colorbar": {
              "outlinewidth": 0,
              "ticks": ""
             }
            },
            "type": "parcoords"
           }
          ],
          "pie": [
           {
            "automargin": true,
            "type": "pie"
           }
          ],
          "scatter": [
           {
            "fillpattern": {
             "fillmode": "overlay",
             "size": 10,
             "solidity": 0.2
            },
            "type": "scatter"
           }
          ],
          "scatter3d": [
           {
            "line": {
             "colorbar": {
              "outlinewidth": 0,
              "ticks": ""
             }
            },
            "marker": {
             "colorbar": {
              "outlinewidth": 0,
              "ticks": ""
             }
            },
            "type": "scatter3d"
           }
          ],
          "scattercarpet": [
           {
            "marker": {
             "colorbar": {
              "outlinewidth": 0,
              "ticks": ""
             }
            },
            "type": "scattercarpet"
           }
          ],
          "scattergeo": [
           {
            "marker": {
             "colorbar": {
              "outlinewidth": 0,
              "ticks": ""
             }
            },
            "type": "scattergeo"
           }
          ],
          "scattergl": [
           {
            "marker": {
             "colorbar": {
              "outlinewidth": 0,
              "ticks": ""
             }
            },
            "type": "scattergl"
           }
          ],
          "scattermapbox": [
           {
            "marker": {
             "colorbar": {
              "outlinewidth": 0,
              "ticks": ""
             }
            },
            "type": "scattermapbox"
           }
          ],
          "scatterpolar": [
           {
            "marker": {
             "colorbar": {
              "outlinewidth": 0,
              "ticks": ""
             }
            },
            "type": "scatterpolar"
           }
          ],
          "scatterpolargl": [
           {
            "marker": {
             "colorbar": {
              "outlinewidth": 0,
              "ticks": ""
             }
            },
            "type": "scatterpolargl"
           }
          ],
          "scatterternary": [
           {
            "marker": {
             "colorbar": {
              "outlinewidth": 0,
              "ticks": ""
             }
            },
            "type": "scatterternary"
           }
          ],
          "surface": [
           {
            "colorbar": {
             "outlinewidth": 0,
             "ticks": ""
            },
            "colorscale": [
             [
              0,
              "#0d0887"
             ],
             [
              0.1111111111111111,
              "#46039f"
             ],
             [
              0.2222222222222222,
              "#7201a8"
             ],
             [
              0.3333333333333333,
              "#9c179e"
             ],
             [
              0.4444444444444444,
              "#bd3786"
             ],
             [
              0.5555555555555556,
              "#d8576b"
             ],
             [
              0.6666666666666666,
              "#ed7953"
             ],
             [
              0.7777777777777778,
              "#fb9f3a"
             ],
             [
              0.8888888888888888,
              "#fdca26"
             ],
             [
              1,
              "#f0f921"
             ]
            ],
            "type": "surface"
           }
          ],
          "table": [
           {
            "cells": {
             "fill": {
              "color": "#EBF0F8"
             },
             "line": {
              "color": "white"
             }
            },
            "header": {
             "fill": {
              "color": "#C8D4E3"
             },
             "line": {
              "color": "white"
             }
            },
            "type": "table"
           }
          ]
         },
         "layout": {
          "annotationdefaults": {
           "arrowcolor": "#2a3f5f",
           "arrowhead": 0,
           "arrowwidth": 1
          },
          "autotypenumbers": "strict",
          "coloraxis": {
           "colorbar": {
            "outlinewidth": 0,
            "ticks": ""
           }
          },
          "colorscale": {
           "diverging": [
            [
             0,
             "#8e0152"
            ],
            [
             0.1,
             "#c51b7d"
            ],
            [
             0.2,
             "#de77ae"
            ],
            [
             0.3,
             "#f1b6da"
            ],
            [
             0.4,
             "#fde0ef"
            ],
            [
             0.5,
             "#f7f7f7"
            ],
            [
             0.6,
             "#e6f5d0"
            ],
            [
             0.7,
             "#b8e186"
            ],
            [
             0.8,
             "#7fbc41"
            ],
            [
             0.9,
             "#4d9221"
            ],
            [
             1,
             "#276419"
            ]
           ],
           "sequential": [
            [
             0,
             "#0d0887"
            ],
            [
             0.1111111111111111,
             "#46039f"
            ],
            [
             0.2222222222222222,
             "#7201a8"
            ],
            [
             0.3333333333333333,
             "#9c179e"
            ],
            [
             0.4444444444444444,
             "#bd3786"
            ],
            [
             0.5555555555555556,
             "#d8576b"
            ],
            [
             0.6666666666666666,
             "#ed7953"
            ],
            [
             0.7777777777777778,
             "#fb9f3a"
            ],
            [
             0.8888888888888888,
             "#fdca26"
            ],
            [
             1,
             "#f0f921"
            ]
           ],
           "sequentialminus": [
            [
             0,
             "#0d0887"
            ],
            [
             0.1111111111111111,
             "#46039f"
            ],
            [
             0.2222222222222222,
             "#7201a8"
            ],
            [
             0.3333333333333333,
             "#9c179e"
            ],
            [
             0.4444444444444444,
             "#bd3786"
            ],
            [
             0.5555555555555556,
             "#d8576b"
            ],
            [
             0.6666666666666666,
             "#ed7953"
            ],
            [
             0.7777777777777778,
             "#fb9f3a"
            ],
            [
             0.8888888888888888,
             "#fdca26"
            ],
            [
             1,
             "#f0f921"
            ]
           ]
          },
          "colorway": [
           "#636efa",
           "#EF553B",
           "#00cc96",
           "#ab63fa",
           "#FFA15A",
           "#19d3f3",
           "#FF6692",
           "#B6E880",
           "#FF97FF",
           "#FECB52"
          ],
          "font": {
           "color": "#2a3f5f"
          },
          "geo": {
           "bgcolor": "white",
           "lakecolor": "white",
           "landcolor": "#E5ECF6",
           "showlakes": true,
           "showland": true,
           "subunitcolor": "white"
          },
          "hoverlabel": {
           "align": "left"
          },
          "hovermode": "closest",
          "mapbox": {
           "style": "light"
          },
          "paper_bgcolor": "white",
          "plot_bgcolor": "#E5ECF6",
          "polar": {
           "angularaxis": {
            "gridcolor": "white",
            "linecolor": "white",
            "ticks": ""
           },
           "bgcolor": "#E5ECF6",
           "radialaxis": {
            "gridcolor": "white",
            "linecolor": "white",
            "ticks": ""
           }
          },
          "scene": {
           "xaxis": {
            "backgroundcolor": "#E5ECF6",
            "gridcolor": "white",
            "gridwidth": 2,
            "linecolor": "white",
            "showbackground": true,
            "ticks": "",
            "zerolinecolor": "white"
           },
           "yaxis": {
            "backgroundcolor": "#E5ECF6",
            "gridcolor": "white",
            "gridwidth": 2,
            "linecolor": "white",
            "showbackground": true,
            "ticks": "",
            "zerolinecolor": "white"
           },
           "zaxis": {
            "backgroundcolor": "#E5ECF6",
            "gridcolor": "white",
            "gridwidth": 2,
            "linecolor": "white",
            "showbackground": true,
            "ticks": "",
            "zerolinecolor": "white"
           }
          },
          "shapedefaults": {
           "line": {
            "color": "#2a3f5f"
           }
          },
          "ternary": {
           "aaxis": {
            "gridcolor": "white",
            "linecolor": "white",
            "ticks": ""
           },
           "baxis": {
            "gridcolor": "white",
            "linecolor": "white",
            "ticks": ""
           },
           "bgcolor": "#E5ECF6",
           "caxis": {
            "gridcolor": "white",
            "linecolor": "white",
            "ticks": ""
           }
          },
          "title": {
           "x": 0.05
          },
          "xaxis": {
           "automargin": true,
           "gridcolor": "white",
           "linecolor": "white",
           "ticks": "",
           "title": {
            "standoff": 15
           },
           "zerolinecolor": "white",
           "zerolinewidth": 2
          },
          "yaxis": {
           "automargin": true,
           "gridcolor": "white",
           "linecolor": "white",
           "ticks": "",
           "title": {
            "standoff": 15
           },
           "zerolinecolor": "white",
           "zerolinewidth": 2
          }
         }
        },
        "title": {
         "text": "Average Sentiment Over Time"
        },
        "xaxis": {
         "anchor": "y",
         "domain": [
          0,
          1
         ],
         "title": {
          "text": "Year-Month"
         }
        },
        "yaxis": {
         "anchor": "x",
         "domain": [
          0,
          1
         ],
         "title": {
          "text": "Sentiment"
         }
        }
       }
      }
     },
     "metadata": {},
     "output_type": "display_data"
    }
   ],
   "source": [
    "# show line chart averaged over all countries\n",
    "avg_sentiment = raw_df[raw_df['date'].notna()]\n",
    "avg_sentiment = avg_sentiment[avg_sentiment['date'] != 'CZ'] # invalid value\n",
    "\n",
    "# get the month from the date\n",
    "for i, row in avg_sentiment.iterrows():\n",
    "    date = row['date']\n",
    "    avg_sentiment.at[i, 'year-month'] = '-'.join(date.split('-')[:2])\n",
    "\n",
    "    # only use the first model for now\n",
    "    label = json.loads(row['sentiment'])[0]['label']\n",
    "    avg_sentiment.at[i, 'sentiment_0'] = 1 if label == 'POSITIVE' else -1\n",
    "\n",
    "# get average for each country\n",
    "avg_sentiment = avg_sentiment.groupby(['year-month']).mean().reset_index()\n",
    "\n",
    "# sort by year\n",
    "avg_sentiment = avg_sentiment.sort_values(by=['year-month'])\n",
    "\n",
    "# plot\n",
    "fig = px.line(avg_sentiment, x=\"year-month\", y=\"sentiment_0\")\n",
    "fig.update_layout(\n",
    "    title=\"Average Sentiment Over Time\",\n",
    "    xaxis_title=\"Year-Month\",\n",
    "    yaxis_title=\"Sentiment\",\n",
    "    legend_title=\"Sentiment\",\n",
    "    font=dict(\n",
    "        family=\"Courier New, monospace\",\n",
    "        size=18,\n",
    "        color=\"#7f7f7f\"\n",
    "    )\n",
    ")\n",
    "fig.show()"
   ]
  },
  {
   "cell_type": "code",
   "execution_count": 9,
   "metadata": {},
   "outputs": [
    {
     "name": "stderr",
     "output_type": "stream",
     "text": [
      "/var/folders/4c/w2fyysz50_j_234jdvb_c9wr0000gn/T/ipykernel_52053/220791727.py:7: SettingWithCopyWarning:\n",
      "\n",
      "\n",
      "A value is trying to be set on a copy of a slice from a DataFrame.\n",
      "Try using .loc[row_indexer,col_indexer] = value instead\n",
      "\n",
      "See the caveats in the documentation: https://pandas.pydata.org/pandas-docs/stable/user_guide/indexing.html#returning-a-view-versus-a-copy\n",
      "\n"
     ]
    },
    {
     "data": {
      "application/vnd.plotly.v1+json": {
       "config": {
        "plotlyServerURL": "https://plot.ly"
       },
       "data": [
        {
         "hovertemplate": "year-month=%{x}<br>text=%{y}<extra></extra>",
         "legendgroup": "",
         "line": {
          "color": "#636efa",
          "dash": "solid"
         },
         "marker": {
          "symbol": "circle"
         },
         "mode": "lines",
         "name": "",
         "orientation": "v",
         "showlegend": false,
         "type": "scatter",
         "x": [
          "2013-04",
          "2013-05",
          "2013-06",
          "2013-08",
          "2013-09",
          "2013-11",
          "2013-12",
          "2014-01",
          "2014-02",
          "2014-03",
          "2014-04",
          "2014-05",
          "2014-06",
          "2014-07",
          "2014-08",
          "2014-09",
          "2014-10",
          "2014-11",
          "2014-12",
          "2015-01",
          "2015-02",
          "2015-03",
          "2015-04",
          "2015-05",
          "2015-06",
          "2015-07",
          "2015-08",
          "2015-09",
          "2015-10",
          "2015-11",
          "2015-12",
          "2016-01",
          "2016-02",
          "2016-03",
          "2016-04",
          "2016-05",
          "2016-06",
          "2016-07",
          "2016-08",
          "2016-09",
          "2016-10",
          "2016-11",
          "2016-12",
          "2017-01",
          "2017-02",
          "2017-03",
          "2017-04",
          "2017-05",
          "2017-06",
          "2017-07",
          "2017-08",
          "2017-09",
          "2017-10",
          "2017-11",
          "2017-12",
          "2018-01",
          "2018-02",
          "2018-03",
          "2018-04",
          "2018-05",
          "2018-06",
          "2018-07",
          "2018-08",
          "2018-09",
          "2018-10",
          "2018-11",
          "2018-12",
          "2019-01",
          "2019-02",
          "2019-03",
          "2019-04",
          "2019-05",
          "2019-06",
          "2019-07",
          "2019-08",
          "2019-09",
          "2019-10",
          "2019-11",
          "2019-12",
          "2020-01",
          "2020-02",
          "2020-03",
          "2020-04",
          "2020-05",
          "2020-06",
          "2020-07",
          "2020-08",
          "2020-09",
          "2020-10",
          "2020-11",
          "2020-12",
          "2021-01",
          "2021-02",
          "2021-03",
          "2021-04",
          "2021-05",
          "2021-06",
          "2021-07",
          "2021-08",
          "2021-09",
          "2021-10",
          "2021-11",
          "2021-12",
          "2022-01",
          "2022-02",
          "2022-03",
          "2022-04",
          "2022-05",
          "2022-06",
          "2022-07",
          "2022-08",
          "2022-09",
          "2022-10",
          "2022-11",
          "2022-12",
          "2023-01",
          "2023-02",
          "2023-03",
          "CZ"
         ],
         "xaxis": "x",
         "y": [
          1,
          3,
          2,
          6,
          1,
          1,
          1,
          2,
          2,
          1,
          24,
          6,
          10,
          5,
          7,
          8,
          6,
          3,
          5,
          8,
          4,
          9,
          5,
          32,
          11,
          18,
          14,
          25,
          55,
          145,
          29,
          30,
          17,
          70,
          69,
          21,
          27,
          108,
          32,
          98,
          29,
          22,
          28,
          37,
          18,
          26,
          970,
          44,
          75,
          72,
          81,
          32,
          43,
          31,
          40,
          36,
          70,
          59,
          49,
          157,
          69,
          117,
          123,
          91,
          121,
          133,
          300,
          518,
          80,
          75,
          148,
          82,
          85,
          2303,
          497,
          363,
          236,
          164,
          154,
          130,
          55,
          96,
          346,
          334,
          189,
          410,
          189,
          165,
          2605,
          406,
          265,
          135,
          189,
          113,
          92,
          188,
          308,
          341,
          4381,
          572,
          292,
          247,
          165,
          828,
          230,
          194,
          285,
          302,
          252,
          299,
          199,
          195,
          354,
          258,
          339,
          745,
          511,
          5567,
          1
         ],
         "yaxis": "y"
        }
       ],
       "layout": {
        "legend": {
         "tracegroupgap": 0
        },
        "margin": {
         "t": 60
        },
        "template": {
         "data": {
          "bar": [
           {
            "error_x": {
             "color": "#2a3f5f"
            },
            "error_y": {
             "color": "#2a3f5f"
            },
            "marker": {
             "line": {
              "color": "#E5ECF6",
              "width": 0.5
             },
             "pattern": {
              "fillmode": "overlay",
              "size": 10,
              "solidity": 0.2
             }
            },
            "type": "bar"
           }
          ],
          "barpolar": [
           {
            "marker": {
             "line": {
              "color": "#E5ECF6",
              "width": 0.5
             },
             "pattern": {
              "fillmode": "overlay",
              "size": 10,
              "solidity": 0.2
             }
            },
            "type": "barpolar"
           }
          ],
          "carpet": [
           {
            "aaxis": {
             "endlinecolor": "#2a3f5f",
             "gridcolor": "white",
             "linecolor": "white",
             "minorgridcolor": "white",
             "startlinecolor": "#2a3f5f"
            },
            "baxis": {
             "endlinecolor": "#2a3f5f",
             "gridcolor": "white",
             "linecolor": "white",
             "minorgridcolor": "white",
             "startlinecolor": "#2a3f5f"
            },
            "type": "carpet"
           }
          ],
          "choropleth": [
           {
            "colorbar": {
             "outlinewidth": 0,
             "ticks": ""
            },
            "type": "choropleth"
           }
          ],
          "contour": [
           {
            "colorbar": {
             "outlinewidth": 0,
             "ticks": ""
            },
            "colorscale": [
             [
              0,
              "#0d0887"
             ],
             [
              0.1111111111111111,
              "#46039f"
             ],
             [
              0.2222222222222222,
              "#7201a8"
             ],
             [
              0.3333333333333333,
              "#9c179e"
             ],
             [
              0.4444444444444444,
              "#bd3786"
             ],
             [
              0.5555555555555556,
              "#d8576b"
             ],
             [
              0.6666666666666666,
              "#ed7953"
             ],
             [
              0.7777777777777778,
              "#fb9f3a"
             ],
             [
              0.8888888888888888,
              "#fdca26"
             ],
             [
              1,
              "#f0f921"
             ]
            ],
            "type": "contour"
           }
          ],
          "contourcarpet": [
           {
            "colorbar": {
             "outlinewidth": 0,
             "ticks": ""
            },
            "type": "contourcarpet"
           }
          ],
          "heatmap": [
           {
            "colorbar": {
             "outlinewidth": 0,
             "ticks": ""
            },
            "colorscale": [
             [
              0,
              "#0d0887"
             ],
             [
              0.1111111111111111,
              "#46039f"
             ],
             [
              0.2222222222222222,
              "#7201a8"
             ],
             [
              0.3333333333333333,
              "#9c179e"
             ],
             [
              0.4444444444444444,
              "#bd3786"
             ],
             [
              0.5555555555555556,
              "#d8576b"
             ],
             [
              0.6666666666666666,
              "#ed7953"
             ],
             [
              0.7777777777777778,
              "#fb9f3a"
             ],
             [
              0.8888888888888888,
              "#fdca26"
             ],
             [
              1,
              "#f0f921"
             ]
            ],
            "type": "heatmap"
           }
          ],
          "heatmapgl": [
           {
            "colorbar": {
             "outlinewidth": 0,
             "ticks": ""
            },
            "colorscale": [
             [
              0,
              "#0d0887"
             ],
             [
              0.1111111111111111,
              "#46039f"
             ],
             [
              0.2222222222222222,
              "#7201a8"
             ],
             [
              0.3333333333333333,
              "#9c179e"
             ],
             [
              0.4444444444444444,
              "#bd3786"
             ],
             [
              0.5555555555555556,
              "#d8576b"
             ],
             [
              0.6666666666666666,
              "#ed7953"
             ],
             [
              0.7777777777777778,
              "#fb9f3a"
             ],
             [
              0.8888888888888888,
              "#fdca26"
             ],
             [
              1,
              "#f0f921"
             ]
            ],
            "type": "heatmapgl"
           }
          ],
          "histogram": [
           {
            "marker": {
             "pattern": {
              "fillmode": "overlay",
              "size": 10,
              "solidity": 0.2
             }
            },
            "type": "histogram"
           }
          ],
          "histogram2d": [
           {
            "colorbar": {
             "outlinewidth": 0,
             "ticks": ""
            },
            "colorscale": [
             [
              0,
              "#0d0887"
             ],
             [
              0.1111111111111111,
              "#46039f"
             ],
             [
              0.2222222222222222,
              "#7201a8"
             ],
             [
              0.3333333333333333,
              "#9c179e"
             ],
             [
              0.4444444444444444,
              "#bd3786"
             ],
             [
              0.5555555555555556,
              "#d8576b"
             ],
             [
              0.6666666666666666,
              "#ed7953"
             ],
             [
              0.7777777777777778,
              "#fb9f3a"
             ],
             [
              0.8888888888888888,
              "#fdca26"
             ],
             [
              1,
              "#f0f921"
             ]
            ],
            "type": "histogram2d"
           }
          ],
          "histogram2dcontour": [
           {
            "colorbar": {
             "outlinewidth": 0,
             "ticks": ""
            },
            "colorscale": [
             [
              0,
              "#0d0887"
             ],
             [
              0.1111111111111111,
              "#46039f"
             ],
             [
              0.2222222222222222,
              "#7201a8"
             ],
             [
              0.3333333333333333,
              "#9c179e"
             ],
             [
              0.4444444444444444,
              "#bd3786"
             ],
             [
              0.5555555555555556,
              "#d8576b"
             ],
             [
              0.6666666666666666,
              "#ed7953"
             ],
             [
              0.7777777777777778,
              "#fb9f3a"
             ],
             [
              0.8888888888888888,
              "#fdca26"
             ],
             [
              1,
              "#f0f921"
             ]
            ],
            "type": "histogram2dcontour"
           }
          ],
          "mesh3d": [
           {
            "colorbar": {
             "outlinewidth": 0,
             "ticks": ""
            },
            "type": "mesh3d"
           }
          ],
          "parcoords": [
           {
            "line": {
             "colorbar": {
              "outlinewidth": 0,
              "ticks": ""
             }
            },
            "type": "parcoords"
           }
          ],
          "pie": [
           {
            "automargin": true,
            "type": "pie"
           }
          ],
          "scatter": [
           {
            "fillpattern": {
             "fillmode": "overlay",
             "size": 10,
             "solidity": 0.2
            },
            "type": "scatter"
           }
          ],
          "scatter3d": [
           {
            "line": {
             "colorbar": {
              "outlinewidth": 0,
              "ticks": ""
             }
            },
            "marker": {
             "colorbar": {
              "outlinewidth": 0,
              "ticks": ""
             }
            },
            "type": "scatter3d"
           }
          ],
          "scattercarpet": [
           {
            "marker": {
             "colorbar": {
              "outlinewidth": 0,
              "ticks": ""
             }
            },
            "type": "scattercarpet"
           }
          ],
          "scattergeo": [
           {
            "marker": {
             "colorbar": {
              "outlinewidth": 0,
              "ticks": ""
             }
            },
            "type": "scattergeo"
           }
          ],
          "scattergl": [
           {
            "marker": {
             "colorbar": {
              "outlinewidth": 0,
              "ticks": ""
             }
            },
            "type": "scattergl"
           }
          ],
          "scattermapbox": [
           {
            "marker": {
             "colorbar": {
              "outlinewidth": 0,
              "ticks": ""
             }
            },
            "type": "scattermapbox"
           }
          ],
          "scatterpolar": [
           {
            "marker": {
             "colorbar": {
              "outlinewidth": 0,
              "ticks": ""
             }
            },
            "type": "scatterpolar"
           }
          ],
          "scatterpolargl": [
           {
            "marker": {
             "colorbar": {
              "outlinewidth": 0,
              "ticks": ""
             }
            },
            "type": "scatterpolargl"
           }
          ],
          "scatterternary": [
           {
            "marker": {
             "colorbar": {
              "outlinewidth": 0,
              "ticks": ""
             }
            },
            "type": "scatterternary"
           }
          ],
          "surface": [
           {
            "colorbar": {
             "outlinewidth": 0,
             "ticks": ""
            },
            "colorscale": [
             [
              0,
              "#0d0887"
             ],
             [
              0.1111111111111111,
              "#46039f"
             ],
             [
              0.2222222222222222,
              "#7201a8"
             ],
             [
              0.3333333333333333,
              "#9c179e"
             ],
             [
              0.4444444444444444,
              "#bd3786"
             ],
             [
              0.5555555555555556,
              "#d8576b"
             ],
             [
              0.6666666666666666,
              "#ed7953"
             ],
             [
              0.7777777777777778,
              "#fb9f3a"
             ],
             [
              0.8888888888888888,
              "#fdca26"
             ],
             [
              1,
              "#f0f921"
             ]
            ],
            "type": "surface"
           }
          ],
          "table": [
           {
            "cells": {
             "fill": {
              "color": "#EBF0F8"
             },
             "line": {
              "color": "white"
             }
            },
            "header": {
             "fill": {
              "color": "#C8D4E3"
             },
             "line": {
              "color": "white"
             }
            },
            "type": "table"
           }
          ]
         },
         "layout": {
          "annotationdefaults": {
           "arrowcolor": "#2a3f5f",
           "arrowhead": 0,
           "arrowwidth": 1
          },
          "autotypenumbers": "strict",
          "coloraxis": {
           "colorbar": {
            "outlinewidth": 0,
            "ticks": ""
           }
          },
          "colorscale": {
           "diverging": [
            [
             0,
             "#8e0152"
            ],
            [
             0.1,
             "#c51b7d"
            ],
            [
             0.2,
             "#de77ae"
            ],
            [
             0.3,
             "#f1b6da"
            ],
            [
             0.4,
             "#fde0ef"
            ],
            [
             0.5,
             "#f7f7f7"
            ],
            [
             0.6,
             "#e6f5d0"
            ],
            [
             0.7,
             "#b8e186"
            ],
            [
             0.8,
             "#7fbc41"
            ],
            [
             0.9,
             "#4d9221"
            ],
            [
             1,
             "#276419"
            ]
           ],
           "sequential": [
            [
             0,
             "#0d0887"
            ],
            [
             0.1111111111111111,
             "#46039f"
            ],
            [
             0.2222222222222222,
             "#7201a8"
            ],
            [
             0.3333333333333333,
             "#9c179e"
            ],
            [
             0.4444444444444444,
             "#bd3786"
            ],
            [
             0.5555555555555556,
             "#d8576b"
            ],
            [
             0.6666666666666666,
             "#ed7953"
            ],
            [
             0.7777777777777778,
             "#fb9f3a"
            ],
            [
             0.8888888888888888,
             "#fdca26"
            ],
            [
             1,
             "#f0f921"
            ]
           ],
           "sequentialminus": [
            [
             0,
             "#0d0887"
            ],
            [
             0.1111111111111111,
             "#46039f"
            ],
            [
             0.2222222222222222,
             "#7201a8"
            ],
            [
             0.3333333333333333,
             "#9c179e"
            ],
            [
             0.4444444444444444,
             "#bd3786"
            ],
            [
             0.5555555555555556,
             "#d8576b"
            ],
            [
             0.6666666666666666,
             "#ed7953"
            ],
            [
             0.7777777777777778,
             "#fb9f3a"
            ],
            [
             0.8888888888888888,
             "#fdca26"
            ],
            [
             1,
             "#f0f921"
            ]
           ]
          },
          "colorway": [
           "#636efa",
           "#EF553B",
           "#00cc96",
           "#ab63fa",
           "#FFA15A",
           "#19d3f3",
           "#FF6692",
           "#B6E880",
           "#FF97FF",
           "#FECB52"
          ],
          "font": {
           "color": "#2a3f5f"
          },
          "geo": {
           "bgcolor": "white",
           "lakecolor": "white",
           "landcolor": "#E5ECF6",
           "showlakes": true,
           "showland": true,
           "subunitcolor": "white"
          },
          "hoverlabel": {
           "align": "left"
          },
          "hovermode": "closest",
          "mapbox": {
           "style": "light"
          },
          "paper_bgcolor": "white",
          "plot_bgcolor": "#E5ECF6",
          "polar": {
           "angularaxis": {
            "gridcolor": "white",
            "linecolor": "white",
            "ticks": ""
           },
           "bgcolor": "#E5ECF6",
           "radialaxis": {
            "gridcolor": "white",
            "linecolor": "white",
            "ticks": ""
           }
          },
          "scene": {
           "xaxis": {
            "backgroundcolor": "#E5ECF6",
            "gridcolor": "white",
            "gridwidth": 2,
            "linecolor": "white",
            "showbackground": true,
            "ticks": "",
            "zerolinecolor": "white"
           },
           "yaxis": {
            "backgroundcolor": "#E5ECF6",
            "gridcolor": "white",
            "gridwidth": 2,
            "linecolor": "white",
            "showbackground": true,
            "ticks": "",
            "zerolinecolor": "white"
           },
           "zaxis": {
            "backgroundcolor": "#E5ECF6",
            "gridcolor": "white",
            "gridwidth": 2,
            "linecolor": "white",
            "showbackground": true,
            "ticks": "",
            "zerolinecolor": "white"
           }
          },
          "shapedefaults": {
           "line": {
            "color": "#2a3f5f"
           }
          },
          "ternary": {
           "aaxis": {
            "gridcolor": "white",
            "linecolor": "white",
            "ticks": ""
           },
           "baxis": {
            "gridcolor": "white",
            "linecolor": "white",
            "ticks": ""
           },
           "bgcolor": "#E5ECF6",
           "caxis": {
            "gridcolor": "white",
            "linecolor": "white",
            "ticks": ""
           }
          },
          "title": {
           "x": 0.05
          },
          "xaxis": {
           "automargin": true,
           "gridcolor": "white",
           "linecolor": "white",
           "ticks": "",
           "title": {
            "standoff": 15
           },
           "zerolinecolor": "white",
           "zerolinewidth": 2
          },
          "yaxis": {
           "automargin": true,
           "gridcolor": "white",
           "linecolor": "white",
           "ticks": "",
           "title": {
            "standoff": 15
           },
           "zerolinecolor": "white",
           "zerolinewidth": 2
          }
         }
        },
        "title": {
         "text": "Number of datapoints over time"
        },
        "xaxis": {
         "anchor": "y",
         "domain": [
          0,
          1
         ],
         "title": {
          "text": "year-month"
         }
        },
        "yaxis": {
         "anchor": "x",
         "domain": [
          0,
          1
         ],
         "title": {
          "text": "text"
         }
        }
       }
      }
     },
     "metadata": {},
     "output_type": "display_data"
    }
   ],
   "source": [
    "# line chart of the number of datapoints over time (per month)\n",
    "\n",
    "# get the month from the date\n",
    "df = raw_df[raw_df['date'].notna()]\n",
    "for i, row in df.iterrows():\n",
    "    date = row['date']\n",
    "    df.at[i, 'year-month'] = '-'.join(date.split('-')[:2])\n",
    "\n",
    "# get average for each country\n",
    "df = df.groupby(['year-month']).count().reset_index()\n",
    "\n",
    "# sort by year\n",
    "df = df.sort_values(by=['year-month'])\n",
    "\n",
    "# plot\n",
    "fig = px.line(df, x=\"year-month\", y=\"text\")\n",
    "fig.update_layout(title_text='Number of datapoints over time')\n",
    "fig.show()"
   ]
  },
  {
   "cell_type": "code",
   "execution_count": 10,
   "metadata": {},
   "outputs": [
    {
     "name": "stderr",
     "output_type": "stream",
     "text": [
      "/var/folders/4c/w2fyysz50_j_234jdvb_c9wr0000gn/T/ipykernel_52053/3188336453.py:5: SettingWithCopyWarning:\n",
      "\n",
      "\n",
      "A value is trying to be set on a copy of a slice from a DataFrame.\n",
      "Try using .loc[row_indexer,col_indexer] = value instead\n",
      "\n",
      "See the caveats in the documentation: https://pandas.pydata.org/pandas-docs/stable/user_guide/indexing.html#returning-a-view-versus-a-copy\n",
      "\n"
     ]
    },
    {
     "data": {
      "text/html": [
       "<div>\n",
       "<style scoped>\n",
       "    .dataframe tbody tr th:only-of-type {\n",
       "        vertical-align: middle;\n",
       "    }\n",
       "\n",
       "    .dataframe tbody tr th {\n",
       "        vertical-align: top;\n",
       "    }\n",
       "\n",
       "    .dataframe thead th {\n",
       "        text-align: right;\n",
       "    }\n",
       "</style>\n",
       "<table border=\"1\" class=\"dataframe\">\n",
       "  <thead>\n",
       "    <tr style=\"text-align: right;\">\n",
       "      <th></th>\n",
       "      <th>id</th>\n",
       "      <th>text</th>\n",
       "      <th>username</th>\n",
       "      <th>date</th>\n",
       "      <th>country</th>\n",
       "      <th>likes</th>\n",
       "      <th>n_children</th>\n",
       "      <th>platform</th>\n",
       "      <th>meta</th>\n",
       "      <th>lang</th>\n",
       "      <th>sentiment</th>\n",
       "      <th>year-month</th>\n",
       "    </tr>\n",
       "    <tr>\n",
       "      <th>title</th>\n",
       "      <th></th>\n",
       "      <th></th>\n",
       "      <th></th>\n",
       "      <th></th>\n",
       "      <th></th>\n",
       "      <th></th>\n",
       "      <th></th>\n",
       "      <th></th>\n",
       "      <th></th>\n",
       "      <th></th>\n",
       "      <th></th>\n",
       "      <th></th>\n",
       "    </tr>\n",
       "  </thead>\n",
       "  <tbody>\n",
       "    <tr>\n",
       "      <th>Tesla Bot: Elon Musk’s AI APOCALYPSE?!!</th>\n",
       "      <td>3192</td>\n",
       "      <td>3192</td>\n",
       "      <td>3192</td>\n",
       "      <td>3192</td>\n",
       "      <td>328</td>\n",
       "      <td>3192</td>\n",
       "      <td>3192</td>\n",
       "      <td>3192</td>\n",
       "      <td>3192</td>\n",
       "      <td>3192</td>\n",
       "      <td>3192</td>\n",
       "      <td>3192</td>\n",
       "    </tr>\n",
       "    <tr>\n",
       "      <th>Tesla AI Day Highlights | Lex Fridman</th>\n",
       "      <td>658</td>\n",
       "      <td>658</td>\n",
       "      <td>658</td>\n",
       "      <td>658</td>\n",
       "      <td>107</td>\n",
       "      <td>658</td>\n",
       "      <td>658</td>\n",
       "      <td>658</td>\n",
       "      <td>658</td>\n",
       "      <td>658</td>\n",
       "      <td>658</td>\n",
       "      <td>658</td>\n",
       "    </tr>\n",
       "    <tr>\n",
       "      <th>Tesla AI Day in 19 Minutes (SUPERCUT)</th>\n",
       "      <td>331</td>\n",
       "      <td>331</td>\n",
       "      <td>331</td>\n",
       "      <td>331</td>\n",
       "      <td>48</td>\n",
       "      <td>331</td>\n",
       "      <td>331</td>\n",
       "      <td>331</td>\n",
       "      <td>331</td>\n",
       "      <td>331</td>\n",
       "      <td>331</td>\n",
       "      <td>331</td>\n",
       "    </tr>\n",
       "    <tr>\n",
       "      <th>How AI is driving a future of autonomous warfare | DW Analysis</th>\n",
       "      <td>60</td>\n",
       "      <td>60</td>\n",
       "      <td>60</td>\n",
       "      <td>60</td>\n",
       "      <td>6</td>\n",
       "      <td>60</td>\n",
       "      <td>60</td>\n",
       "      <td>60</td>\n",
       "      <td>60</td>\n",
       "      <td>60</td>\n",
       "      <td>60</td>\n",
       "      <td>60</td>\n",
       "    </tr>\n",
       "    <tr>\n",
       "      <th>Fighter Jet Pilot AI Analysis (GTA V)</th>\n",
       "      <td>46</td>\n",
       "      <td>46</td>\n",
       "      <td>46</td>\n",
       "      <td>46</td>\n",
       "      <td>13</td>\n",
       "      <td>46</td>\n",
       "      <td>46</td>\n",
       "      <td>46</td>\n",
       "      <td>46</td>\n",
       "      <td>46</td>\n",
       "      <td>46</td>\n",
       "      <td>46</td>\n",
       "    </tr>\n",
       "  </tbody>\n",
       "</table>\n",
       "</div>"
      ],
      "text/plain": [
       "                                                      id  text  username  \\\n",
       "title                                                                      \n",
       "Tesla Bot: Elon Musk’s AI APOCALYPSE?!!             3192  3192      3192   \n",
       "Tesla AI Day Highlights | Lex Fridman                658   658       658   \n",
       "Tesla AI Day in 19 Minutes (SUPERCUT)                331   331       331   \n",
       "How AI is driving a future of autonomous warfar...    60    60        60   \n",
       "Fighter Jet Pilot AI Analysis (GTA V)                 46    46        46   \n",
       "\n",
       "                                                    date  country  likes  \\\n",
       "title                                                                      \n",
       "Tesla Bot: Elon Musk’s AI APOCALYPSE?!!             3192      328   3192   \n",
       "Tesla AI Day Highlights | Lex Fridman                658      107    658   \n",
       "Tesla AI Day in 19 Minutes (SUPERCUT)                331       48    331   \n",
       "How AI is driving a future of autonomous warfar...    60        6     60   \n",
       "Fighter Jet Pilot AI Analysis (GTA V)                 46       13     46   \n",
       "\n",
       "                                                    n_children  platform  \\\n",
       "title                                                                      \n",
       "Tesla Bot: Elon Musk’s AI APOCALYPSE?!!                   3192      3192   \n",
       "Tesla AI Day Highlights | Lex Fridman                      658       658   \n",
       "Tesla AI Day in 19 Minutes (SUPERCUT)                      331       331   \n",
       "How AI is driving a future of autonomous warfar...          60        60   \n",
       "Fighter Jet Pilot AI Analysis (GTA V)                       46        46   \n",
       "\n",
       "                                                    meta  lang  sentiment  \\\n",
       "title                                                                       \n",
       "Tesla Bot: Elon Musk’s AI APOCALYPSE?!!             3192  3192       3192   \n",
       "Tesla AI Day Highlights | Lex Fridman                658   658        658   \n",
       "Tesla AI Day in 19 Minutes (SUPERCUT)                331   331        331   \n",
       "How AI is driving a future of autonomous warfar...    60    60         60   \n",
       "Fighter Jet Pilot AI Analysis (GTA V)                 46    46         46   \n",
       "\n",
       "                                                    year-month  \n",
       "title                                                           \n",
       "Tesla Bot: Elon Musk’s AI APOCALYPSE?!!                   3192  \n",
       "Tesla AI Day Highlights | Lex Fridman                      658  \n",
       "Tesla AI Day in 19 Minutes (SUPERCUT)                      331  \n",
       "How AI is driving a future of autonomous warfar...          60  \n",
       "Fighter Jet Pilot AI Analysis (GTA V)                       46  "
      ]
     },
     "execution_count": 10,
     "metadata": {},
     "output_type": "execute_result"
    }
   ],
   "source": [
    "# get the month from the date\n",
    "df = raw_df[raw_df['date'].notna()]\n",
    "for i, row in df.iterrows():\n",
    "    date = row['date']\n",
    "    df.at[i, 'year-month'] = '-'.join(date.split('-')[:2])\n",
    "\n",
    "df[df['year-month'] == '2021-08'].groupby('title').count().sort_values('id', ascending=False).head()"
   ]
  },
  {
   "cell_type": "code",
   "execution_count": 13,
   "metadata": {},
   "outputs": [
    {
     "name": "stderr",
     "output_type": "stream",
     "text": [
      "/var/folders/4c/w2fyysz50_j_234jdvb_c9wr0000gn/T/ipykernel_52053/1369517358.py:7: SettingWithCopyWarning:\n",
      "\n",
      "\n",
      "A value is trying to be set on a copy of a slice from a DataFrame.\n",
      "Try using .loc[row_indexer,col_indexer] = value instead\n",
      "\n",
      "See the caveats in the documentation: https://pandas.pydata.org/pandas-docs/stable/user_guide/indexing.html#returning-a-view-versus-a-copy\n",
      "\n",
      "/var/folders/4c/w2fyysz50_j_234jdvb_c9wr0000gn/T/ipykernel_52053/1369517358.py:27: SettingWithCopyWarning:\n",
      "\n",
      "\n",
      "A value is trying to be set on a copy of a slice from a DataFrame.\n",
      "Try using .loc[row_indexer,col_indexer] = value instead\n",
      "\n",
      "See the caveats in the documentation: https://pandas.pydata.org/pandas-docs/stable/user_guide/indexing.html#returning-a-view-versus-a-copy\n",
      "\n",
      "/var/folders/4c/w2fyysz50_j_234jdvb_c9wr0000gn/T/ipykernel_52053/1369517358.py:31: SettingWithCopyWarning:\n",
      "\n",
      "\n",
      "A value is trying to be set on a copy of a slice from a DataFrame.\n",
      "Try using .loc[row_indexer,col_indexer] = value instead\n",
      "\n",
      "See the caveats in the documentation: https://pandas.pydata.org/pandas-docs/stable/user_guide/indexing.html#returning-a-view-versus-a-copy\n",
      "\n",
      "/var/folders/4c/w2fyysz50_j_234jdvb_c9wr0000gn/T/ipykernel_52053/1369517358.py:34: FutureWarning:\n",
      "\n",
      "The default value of numeric_only in DataFrameGroupBy.mean is deprecated. In a future version, numeric_only will default to False. Either specify numeric_only or select only columns which should be valid for the function.\n",
      "\n"
     ]
    },
    {
     "data": {
      "application/vnd.plotly.v1+json": {
       "config": {
        "plotlyServerURL": "https://plot.ly"
       },
       "data": [
        {
         "hovertemplate": "is_us=Not US<br>year-month=%{x}<br>sentiment_avg=%{y}<extra></extra>",
         "legendgroup": "Not US",
         "line": {
          "color": "#636efa",
          "dash": "solid"
         },
         "marker": {
          "symbol": "circle"
         },
         "mode": "lines",
         "name": "Not US",
         "orientation": "v",
         "showlegend": true,
         "type": "scatter",
         "x": [
          "2013-04",
          "2013-05",
          "2013-06",
          "2013-08",
          "2013-09",
          "2013-11",
          "2014-01",
          "2014-02",
          "2014-03",
          "2014-04",
          "2014-05",
          "2014-06",
          "2014-07",
          "2014-08",
          "2014-09",
          "2014-10",
          "2014-11",
          "2014-12",
          "2015-01",
          "2015-02",
          "2015-03",
          "2015-04",
          "2015-05",
          "2015-06",
          "2015-07",
          "2015-08",
          "2015-09",
          "2015-10",
          "2015-11",
          "2015-12",
          "2016-01",
          "2016-02",
          "2016-03",
          "2016-04",
          "2016-05",
          "2016-06",
          "2016-07",
          "2016-08",
          "2016-09",
          "2016-10",
          "2016-11",
          "2016-12",
          "2017-01",
          "2017-02",
          "2017-03",
          "2017-04",
          "2017-05",
          "2017-06",
          "2017-07",
          "2017-08",
          "2017-09",
          "2017-10",
          "2017-11",
          "2017-12",
          "2018-01",
          "2018-02",
          "2018-03",
          "2018-04",
          "2018-05",
          "2018-06",
          "2018-07",
          "2018-08",
          "2018-09",
          "2018-10",
          "2018-11",
          "2018-12",
          "2019-01",
          "2019-02",
          "2019-03",
          "2019-04",
          "2019-05",
          "2019-06",
          "2019-07",
          "2019-08",
          "2019-09",
          "2019-10",
          "2019-11",
          "2019-12",
          "2020-01",
          "2020-02",
          "2020-03",
          "2020-04",
          "2020-05",
          "2020-06",
          "2020-07",
          "2020-08",
          "2020-09",
          "2020-10",
          "2020-11",
          "2020-12",
          "2021-01",
          "2021-02",
          "2021-03",
          "2021-04",
          "2021-05",
          "2021-06",
          "2021-07",
          "2021-08",
          "2021-09",
          "2021-10",
          "2021-11",
          "2021-12",
          "2022-01",
          "2022-02",
          "2022-03",
          "2022-04",
          "2022-05",
          "2022-06",
          "2022-07",
          "2022-08",
          "2022-09",
          "2022-10",
          "2022-11",
          "2022-12",
          "2023-01",
          "2023-02",
          "2023-03",
          "CZ"
         ],
         "xaxis": "x",
         "y": [
          0.9923158486684164,
          0.5007154378626081,
          0.9785037040710449,
          0.255159553554323,
          0.03520031770070394,
          0.5790624618530273,
          0.9777817924817404,
          0.9782289862632751,
          0.282576044400533,
          0.6404596873455578,
          0.3859542707602183,
          0.13601543505986533,
          0.5974527279535928,
          -0.15016445091792516,
          -0.07343401511510214,
          -0.11911580297682019,
          0.7695563634236654,
          0.10556487441062926,
          -0.6131133735179901,
          0.35448423524697625,
          -0.36803913613160455,
          -0.07896773020426431,
          0.34310607564064766,
          0.48441403472062317,
          0.17127706717561791,
          0.4166749091375442,
          0.27951613926526275,
          -0.13596316909640088,
          -0.30657292168531847,
          0.19784613144703403,
          -0.13912918368975322,
          0.13468344261248905,
          0.5878339960586791,
          0.4183708635323188,
          0.10673413127660751,
          -0.17347993911840978,
          0.10463694939537653,
          -0.32076399338742095,
          -0.42777012921216195,
          -0.5115243012522473,
          -0.31859260616880475,
          -0.036021293355868414,
          0.0557078651937784,
          -0.24890880023731904,
          -0.34341492917802596,
          0.4853733712525079,
          0.11411682764689128,
          -0.10344684352208902,
          -0.057727078448480636,
          -0.07367120526007963,
          -0.05064221906165282,
          0.09028897077087464,
          0.2422070115484217,
          -0.019908075531323753,
          -0.23193707339691394,
          0.4026845782393157,
          0.14930331139337447,
          0.37624328436494686,
          0.3155731217066447,
          0.19534053668087603,
          0.47732840627007334,
          0.430857833423562,
          0.35166296785361917,
          -0.08675754019337842,
          -0.09097374081611634,
          -0.18380029859213992,
          0.3990456185826017,
          0.2217408622635735,
          0.2863044274282885,
          0.09999362381073881,
          0.16818478062183043,
          0.23998565208621142,
          -0.11699889676562755,
          -0.11496838011468449,
          0.24605624860281733,
          0.11918365715563983,
          -0.04821815175615299,
          -0.06232415149951803,
          -0.14813757706911135,
          0.025047694737056526,
          -0.07317770311706945,
          -0.08126645500387125,
          0.2895526529130041,
          0.06611593021440876,
          -0.03480643339044466,
          0.02779046323273208,
          0.169168115456899,
          -0.03183809383184035,
          0.18637044690772825,
          0.21937433084634345,
          0.03884914183678727,
          0.14160923590369548,
          0.11987692108492792,
          0.11460119521334058,
          0.01908064887418852,
          0.16067266603243094,
          -0.026618203882015117,
          -0.2243397175592784,
          -0.22951212333332946,
          -0.02434945958519214,
          -0.02427231899697744,
          0.1466215138540328,
          0.207672197833383,
          0.12408526711391679,
          0.0647599846390267,
          0.22881033098784045,
          0.16330054698994867,
          0.11790297113782991,
          0.10527221230264325,
          0.20054640698636697,
          0.017089838782946266,
          0.2409017174622701,
          0.1656916721850359,
          0.0791859646392948,
          0.04493490020215129,
          0.09582602911256631,
          0.03874152568946486,
          0.3309851884841919
         ],
         "yaxis": "y"
        },
        {
         "hovertemplate": "is_us=US<br>year-month=%{x}<br>sentiment_avg=%{y}<extra></extra>",
         "legendgroup": "US",
         "line": {
          "color": "#EF553B",
          "dash": "solid"
         },
         "marker": {
          "symbol": "circle"
         },
         "mode": "lines",
         "name": "US",
         "orientation": "v",
         "showlegend": true,
         "type": "scatter",
         "x": [
          "2013-12",
          "2014-01",
          "2015-03",
          "2015-04",
          "2015-05",
          "2015-09",
          "2015-10",
          "2015-11",
          "2015-12",
          "2016-02",
          "2016-03",
          "2016-04",
          "2016-05",
          "2016-06",
          "2016-07",
          "2016-09",
          "2016-10",
          "2016-12",
          "2017-01",
          "2017-02",
          "2017-03",
          "2017-04",
          "2017-05",
          "2017-06",
          "2017-07",
          "2017-08",
          "2017-10",
          "2017-12",
          "2018-01",
          "2018-02",
          "2018-03",
          "2018-05",
          "2018-06",
          "2018-08",
          "2018-09",
          "2018-10",
          "2018-11",
          "2018-12",
          "2019-01",
          "2019-02",
          "2019-03",
          "2019-04",
          "2019-05",
          "2019-06",
          "2019-07",
          "2019-08",
          "2019-09",
          "2019-10",
          "2019-11",
          "2019-12",
          "2020-01",
          "2020-02",
          "2020-03",
          "2020-04",
          "2020-05",
          "2020-06",
          "2020-07",
          "2020-08",
          "2020-09",
          "2020-10",
          "2020-11",
          "2020-12",
          "2021-01",
          "2021-02",
          "2021-03",
          "2021-04",
          "2021-05",
          "2021-06",
          "2021-07",
          "2021-08",
          "2021-09",
          "2021-10",
          "2021-11",
          "2021-12",
          "2022-01",
          "2022-02",
          "2022-03",
          "2022-04",
          "2022-05",
          "2022-06",
          "2022-07",
          "2022-08",
          "2022-09",
          "2022-10",
          "2022-11",
          "2022-12",
          "2023-01",
          "2023-02",
          "2023-03"
         ],
         "xaxis": "x",
         "y": [
          0.9458014965057373,
          0.3091312050819397,
          0.9351657430330912,
          0.9832297960917155,
          -0.9634487628936768,
          -0.11448370748096044,
          -0.013265321652094542,
          -0.36336515256852814,
          0.04484064711464775,
          0.3330350120862325,
          -0.20372654994328815,
          0.262591818968455,
          -0.8062897721926371,
          -0.32899361848831177,
          -0.3213661147488488,
          -0.3897110488679674,
          -0.09544081489245099,
          -0.8559568524360657,
          -0.4641409946812524,
          -0.8537024259567261,
          0.08330640196800232,
          0.9541899561882019,
          -0.3328701655069987,
          0.3212889035542806,
          -0.1395455042521159,
          -0.8386614521344503,
          0.00007342298825582794,
          -0.7756586472193401,
          -0.3395201762517293,
          0.17570746938387555,
          -0.3522326350212097,
          -0.24805599451065063,
          -0.9437286655108134,
          -0.3265399932861328,
          -0.18658803403377533,
          -0.024931997060775757,
          -0.18027620437817696,
          -0.15521261493364968,
          0.6169212142626445,
          0.8577144622802735,
          0.9948260188102722,
          0.07932955026626587,
          -0.4118825064765082,
          -0.012764155864715613,
          -0.1343032040056728,
          -0.06815232792679145,
          0.22213440471225313,
          -0.5046208898226421,
          -0.06693905024301437,
          -0.2657066120041741,
          -0.047236437980945296,
          0.09132547179857889,
          0.9934880336125692,
          -0.0804938981027314,
          0.10365219195683797,
          0.07605690348382088,
          -0.046583277740697746,
          -0.3181066654977344,
          -0.3491432984670003,
          0.05493063079305442,
          0.31644999162823545,
          -0.1383810386513219,
          0.146917496408735,
          0.28869871960745913,
          -0.0844513416290283,
          0.039150819182395935,
          -0.2032598853111267,
          0.11656915081871878,
          -0.09827782710393271,
          -0.17220847942048984,
          -0.16096191020572886,
          -0.032539953788121544,
          -0.5190915415684382,
          0.08638370699352688,
          0.3895201224547166,
          -0.09767105579376222,
          -0.013285868224643536,
          0.02242518795861137,
          0.45133538898967557,
          0.41605850723054677,
          -0.17518081764380136,
          0.3518951932589213,
          -0.2656314266033662,
          0.15987703535291883,
          0.025408148765563986,
          0.1546820044517517,
          0.2837344721743935,
          0.3653062758622346,
          0.08064563620312364
         ],
         "yaxis": "y"
        }
       ],
       "layout": {
        "legend": {
         "title": {
          "text": "is_us"
         },
         "tracegroupgap": 0
        },
        "margin": {
         "t": 60
        },
        "template": {
         "data": {
          "bar": [
           {
            "error_x": {
             "color": "#2a3f5f"
            },
            "error_y": {
             "color": "#2a3f5f"
            },
            "marker": {
             "line": {
              "color": "#E5ECF6",
              "width": 0.5
             },
             "pattern": {
              "fillmode": "overlay",
              "size": 10,
              "solidity": 0.2
             }
            },
            "type": "bar"
           }
          ],
          "barpolar": [
           {
            "marker": {
             "line": {
              "color": "#E5ECF6",
              "width": 0.5
             },
             "pattern": {
              "fillmode": "overlay",
              "size": 10,
              "solidity": 0.2
             }
            },
            "type": "barpolar"
           }
          ],
          "carpet": [
           {
            "aaxis": {
             "endlinecolor": "#2a3f5f",
             "gridcolor": "white",
             "linecolor": "white",
             "minorgridcolor": "white",
             "startlinecolor": "#2a3f5f"
            },
            "baxis": {
             "endlinecolor": "#2a3f5f",
             "gridcolor": "white",
             "linecolor": "white",
             "minorgridcolor": "white",
             "startlinecolor": "#2a3f5f"
            },
            "type": "carpet"
           }
          ],
          "choropleth": [
           {
            "colorbar": {
             "outlinewidth": 0,
             "ticks": ""
            },
            "type": "choropleth"
           }
          ],
          "contour": [
           {
            "colorbar": {
             "outlinewidth": 0,
             "ticks": ""
            },
            "colorscale": [
             [
              0,
              "#0d0887"
             ],
             [
              0.1111111111111111,
              "#46039f"
             ],
             [
              0.2222222222222222,
              "#7201a8"
             ],
             [
              0.3333333333333333,
              "#9c179e"
             ],
             [
              0.4444444444444444,
              "#bd3786"
             ],
             [
              0.5555555555555556,
              "#d8576b"
             ],
             [
              0.6666666666666666,
              "#ed7953"
             ],
             [
              0.7777777777777778,
              "#fb9f3a"
             ],
             [
              0.8888888888888888,
              "#fdca26"
             ],
             [
              1,
              "#f0f921"
             ]
            ],
            "type": "contour"
           }
          ],
          "contourcarpet": [
           {
            "colorbar": {
             "outlinewidth": 0,
             "ticks": ""
            },
            "type": "contourcarpet"
           }
          ],
          "heatmap": [
           {
            "colorbar": {
             "outlinewidth": 0,
             "ticks": ""
            },
            "colorscale": [
             [
              0,
              "#0d0887"
             ],
             [
              0.1111111111111111,
              "#46039f"
             ],
             [
              0.2222222222222222,
              "#7201a8"
             ],
             [
              0.3333333333333333,
              "#9c179e"
             ],
             [
              0.4444444444444444,
              "#bd3786"
             ],
             [
              0.5555555555555556,
              "#d8576b"
             ],
             [
              0.6666666666666666,
              "#ed7953"
             ],
             [
              0.7777777777777778,
              "#fb9f3a"
             ],
             [
              0.8888888888888888,
              "#fdca26"
             ],
             [
              1,
              "#f0f921"
             ]
            ],
            "type": "heatmap"
           }
          ],
          "heatmapgl": [
           {
            "colorbar": {
             "outlinewidth": 0,
             "ticks": ""
            },
            "colorscale": [
             [
              0,
              "#0d0887"
             ],
             [
              0.1111111111111111,
              "#46039f"
             ],
             [
              0.2222222222222222,
              "#7201a8"
             ],
             [
              0.3333333333333333,
              "#9c179e"
             ],
             [
              0.4444444444444444,
              "#bd3786"
             ],
             [
              0.5555555555555556,
              "#d8576b"
             ],
             [
              0.6666666666666666,
              "#ed7953"
             ],
             [
              0.7777777777777778,
              "#fb9f3a"
             ],
             [
              0.8888888888888888,
              "#fdca26"
             ],
             [
              1,
              "#f0f921"
             ]
            ],
            "type": "heatmapgl"
           }
          ],
          "histogram": [
           {
            "marker": {
             "pattern": {
              "fillmode": "overlay",
              "size": 10,
              "solidity": 0.2
             }
            },
            "type": "histogram"
           }
          ],
          "histogram2d": [
           {
            "colorbar": {
             "outlinewidth": 0,
             "ticks": ""
            },
            "colorscale": [
             [
              0,
              "#0d0887"
             ],
             [
              0.1111111111111111,
              "#46039f"
             ],
             [
              0.2222222222222222,
              "#7201a8"
             ],
             [
              0.3333333333333333,
              "#9c179e"
             ],
             [
              0.4444444444444444,
              "#bd3786"
             ],
             [
              0.5555555555555556,
              "#d8576b"
             ],
             [
              0.6666666666666666,
              "#ed7953"
             ],
             [
              0.7777777777777778,
              "#fb9f3a"
             ],
             [
              0.8888888888888888,
              "#fdca26"
             ],
             [
              1,
              "#f0f921"
             ]
            ],
            "type": "histogram2d"
           }
          ],
          "histogram2dcontour": [
           {
            "colorbar": {
             "outlinewidth": 0,
             "ticks": ""
            },
            "colorscale": [
             [
              0,
              "#0d0887"
             ],
             [
              0.1111111111111111,
              "#46039f"
             ],
             [
              0.2222222222222222,
              "#7201a8"
             ],
             [
              0.3333333333333333,
              "#9c179e"
             ],
             [
              0.4444444444444444,
              "#bd3786"
             ],
             [
              0.5555555555555556,
              "#d8576b"
             ],
             [
              0.6666666666666666,
              "#ed7953"
             ],
             [
              0.7777777777777778,
              "#fb9f3a"
             ],
             [
              0.8888888888888888,
              "#fdca26"
             ],
             [
              1,
              "#f0f921"
             ]
            ],
            "type": "histogram2dcontour"
           }
          ],
          "mesh3d": [
           {
            "colorbar": {
             "outlinewidth": 0,
             "ticks": ""
            },
            "type": "mesh3d"
           }
          ],
          "parcoords": [
           {
            "line": {
             "colorbar": {
              "outlinewidth": 0,
              "ticks": ""
             }
            },
            "type": "parcoords"
           }
          ],
          "pie": [
           {
            "automargin": true,
            "type": "pie"
           }
          ],
          "scatter": [
           {
            "fillpattern": {
             "fillmode": "overlay",
             "size": 10,
             "solidity": 0.2
            },
            "type": "scatter"
           }
          ],
          "scatter3d": [
           {
            "line": {
             "colorbar": {
              "outlinewidth": 0,
              "ticks": ""
             }
            },
            "marker": {
             "colorbar": {
              "outlinewidth": 0,
              "ticks": ""
             }
            },
            "type": "scatter3d"
           }
          ],
          "scattercarpet": [
           {
            "marker": {
             "colorbar": {
              "outlinewidth": 0,
              "ticks": ""
             }
            },
            "type": "scattercarpet"
           }
          ],
          "scattergeo": [
           {
            "marker": {
             "colorbar": {
              "outlinewidth": 0,
              "ticks": ""
             }
            },
            "type": "scattergeo"
           }
          ],
          "scattergl": [
           {
            "marker": {
             "colorbar": {
              "outlinewidth": 0,
              "ticks": ""
             }
            },
            "type": "scattergl"
           }
          ],
          "scattermapbox": [
           {
            "marker": {
             "colorbar": {
              "outlinewidth": 0,
              "ticks": ""
             }
            },
            "type": "scattermapbox"
           }
          ],
          "scatterpolar": [
           {
            "marker": {
             "colorbar": {
              "outlinewidth": 0,
              "ticks": ""
             }
            },
            "type": "scatterpolar"
           }
          ],
          "scatterpolargl": [
           {
            "marker": {
             "colorbar": {
              "outlinewidth": 0,
              "ticks": ""
             }
            },
            "type": "scatterpolargl"
           }
          ],
          "scatterternary": [
           {
            "marker": {
             "colorbar": {
              "outlinewidth": 0,
              "ticks": ""
             }
            },
            "type": "scatterternary"
           }
          ],
          "surface": [
           {
            "colorbar": {
             "outlinewidth": 0,
             "ticks": ""
            },
            "colorscale": [
             [
              0,
              "#0d0887"
             ],
             [
              0.1111111111111111,
              "#46039f"
             ],
             [
              0.2222222222222222,
              "#7201a8"
             ],
             [
              0.3333333333333333,
              "#9c179e"
             ],
             [
              0.4444444444444444,
              "#bd3786"
             ],
             [
              0.5555555555555556,
              "#d8576b"
             ],
             [
              0.6666666666666666,
              "#ed7953"
             ],
             [
              0.7777777777777778,
              "#fb9f3a"
             ],
             [
              0.8888888888888888,
              "#fdca26"
             ],
             [
              1,
              "#f0f921"
             ]
            ],
            "type": "surface"
           }
          ],
          "table": [
           {
            "cells": {
             "fill": {
              "color": "#EBF0F8"
             },
             "line": {
              "color": "white"
             }
            },
            "header": {
             "fill": {
              "color": "#C8D4E3"
             },
             "line": {
              "color": "white"
             }
            },
            "type": "table"
           }
          ]
         },
         "layout": {
          "annotationdefaults": {
           "arrowcolor": "#2a3f5f",
           "arrowhead": 0,
           "arrowwidth": 1
          },
          "autotypenumbers": "strict",
          "coloraxis": {
           "colorbar": {
            "outlinewidth": 0,
            "ticks": ""
           }
          },
          "colorscale": {
           "diverging": [
            [
             0,
             "#8e0152"
            ],
            [
             0.1,
             "#c51b7d"
            ],
            [
             0.2,
             "#de77ae"
            ],
            [
             0.3,
             "#f1b6da"
            ],
            [
             0.4,
             "#fde0ef"
            ],
            [
             0.5,
             "#f7f7f7"
            ],
            [
             0.6,
             "#e6f5d0"
            ],
            [
             0.7,
             "#b8e186"
            ],
            [
             0.8,
             "#7fbc41"
            ],
            [
             0.9,
             "#4d9221"
            ],
            [
             1,
             "#276419"
            ]
           ],
           "sequential": [
            [
             0,
             "#0d0887"
            ],
            [
             0.1111111111111111,
             "#46039f"
            ],
            [
             0.2222222222222222,
             "#7201a8"
            ],
            [
             0.3333333333333333,
             "#9c179e"
            ],
            [
             0.4444444444444444,
             "#bd3786"
            ],
            [
             0.5555555555555556,
             "#d8576b"
            ],
            [
             0.6666666666666666,
             "#ed7953"
            ],
            [
             0.7777777777777778,
             "#fb9f3a"
            ],
            [
             0.8888888888888888,
             "#fdca26"
            ],
            [
             1,
             "#f0f921"
            ]
           ],
           "sequentialminus": [
            [
             0,
             "#0d0887"
            ],
            [
             0.1111111111111111,
             "#46039f"
            ],
            [
             0.2222222222222222,
             "#7201a8"
            ],
            [
             0.3333333333333333,
             "#9c179e"
            ],
            [
             0.4444444444444444,
             "#bd3786"
            ],
            [
             0.5555555555555556,
             "#d8576b"
            ],
            [
             0.6666666666666666,
             "#ed7953"
            ],
            [
             0.7777777777777778,
             "#fb9f3a"
            ],
            [
             0.8888888888888888,
             "#fdca26"
            ],
            [
             1,
             "#f0f921"
            ]
           ]
          },
          "colorway": [
           "#636efa",
           "#EF553B",
           "#00cc96",
           "#ab63fa",
           "#FFA15A",
           "#19d3f3",
           "#FF6692",
           "#B6E880",
           "#FF97FF",
           "#FECB52"
          ],
          "font": {
           "color": "#2a3f5f"
          },
          "geo": {
           "bgcolor": "white",
           "lakecolor": "white",
           "landcolor": "#E5ECF6",
           "showlakes": true,
           "showland": true,
           "subunitcolor": "white"
          },
          "hoverlabel": {
           "align": "left"
          },
          "hovermode": "closest",
          "mapbox": {
           "style": "light"
          },
          "paper_bgcolor": "white",
          "plot_bgcolor": "#E5ECF6",
          "polar": {
           "angularaxis": {
            "gridcolor": "white",
            "linecolor": "white",
            "ticks": ""
           },
           "bgcolor": "#E5ECF6",
           "radialaxis": {
            "gridcolor": "white",
            "linecolor": "white",
            "ticks": ""
           }
          },
          "scene": {
           "xaxis": {
            "backgroundcolor": "#E5ECF6",
            "gridcolor": "white",
            "gridwidth": 2,
            "linecolor": "white",
            "showbackground": true,
            "ticks": "",
            "zerolinecolor": "white"
           },
           "yaxis": {
            "backgroundcolor": "#E5ECF6",
            "gridcolor": "white",
            "gridwidth": 2,
            "linecolor": "white",
            "showbackground": true,
            "ticks": "",
            "zerolinecolor": "white"
           },
           "zaxis": {
            "backgroundcolor": "#E5ECF6",
            "gridcolor": "white",
            "gridwidth": 2,
            "linecolor": "white",
            "showbackground": true,
            "ticks": "",
            "zerolinecolor": "white"
           }
          },
          "shapedefaults": {
           "line": {
            "color": "#2a3f5f"
           }
          },
          "ternary": {
           "aaxis": {
            "gridcolor": "white",
            "linecolor": "white",
            "ticks": ""
           },
           "baxis": {
            "gridcolor": "white",
            "linecolor": "white",
            "ticks": ""
           },
           "bgcolor": "#E5ECF6",
           "caxis": {
            "gridcolor": "white",
            "linecolor": "white",
            "ticks": ""
           }
          },
          "title": {
           "x": 0.05
          },
          "xaxis": {
           "automargin": true,
           "gridcolor": "white",
           "linecolor": "white",
           "ticks": "",
           "title": {
            "standoff": 15
           },
           "zerolinecolor": "white",
           "zerolinewidth": 2
          },
          "yaxis": {
           "automargin": true,
           "gridcolor": "white",
           "linecolor": "white",
           "ticks": "",
           "title": {
            "standoff": 15
           },
           "zerolinecolor": "white",
           "zerolinewidth": 2
          }
         }
        },
        "title": {
         "text": "Sentiment Over Time in the US vs the Rest of the World"
        },
        "xaxis": {
         "anchor": "y",
         "domain": [
          0,
          1
         ],
         "title": {
          "text": "year-month"
         }
        },
        "yaxis": {
         "anchor": "x",
         "domain": [
          0,
          1
         ],
         "title": {
          "text": "sentiment_avg"
         }
        }
       }
      }
     },
     "metadata": {},
     "output_type": "display_data"
    }
   ],
   "source": [
    "# sentiment over time in the US vs the rest of the world\n",
    "df = raw_df[raw_df['date'].notna()]\n",
    "\n",
    "for i, row in df.iterrows():\n",
    "    # get the month from the date\n",
    "    date = row['date']\n",
    "    df.at[i, 'year-month'] = '-'.join(date.split('-')[:2])\n",
    "\n",
    "    # get the average sentiment\n",
    "    sentiment = []\n",
    "    sentiment_json = json.loads(row['sentiment'])\n",
    "    # distilbert\n",
    "    score = sentiment_json[0]['score']\n",
    "    if sentiment_json[0]['label'] == 'NEGATIVE': score *= -1\n",
    "    sentiment.append(score)\n",
    "    # roberta\n",
    "    score = sentiment_json[1]['score']\n",
    "    if sentiment_json[1]['label'] == 'LABEL_0': score = -1 * score\n",
    "    elif sentiment_json[1]['label'] == 'LABEL_1': score = 0\n",
    "    sentiment.append(score)\n",
    "    # bertweet\n",
    "    score = sentiment_json[2]['score']\n",
    "    if sentiment_json[2]['label'] == 'NEG': score = -1 * score\n",
    "    elif sentiment_json[2]['label'] == 'NEU': score = 0\n",
    "    sentiment.append(score)\n",
    "    # average\n",
    "    df.at[i, 'sentiment_avg'] = sum(sentiment) / len(sentiment)\n",
    "\n",
    "    # whether the video is from the US or not\n",
    "    country = row['country']\n",
    "    df.at[i, 'is_us'] = 'US' if country == 'US' else 'Not US'\n",
    "\n",
    "# get average for each country\n",
    "df = df.groupby(['year-month', 'is_us']).mean().reset_index()\n",
    "\n",
    "# sort by year\n",
    "df = df.sort_values(by=['year-month'])\n",
    "\n",
    "# plot\n",
    "fig = px.line(df, x=\"year-month\", y=\"sentiment_avg\", color='is_us')\n",
    "fig.update_layout(title_text='Sentiment Over Time in the US vs the Rest of the World')\n",
    "fig.show()"
   ]
  },
  {
   "cell_type": "code",
   "execution_count": 17,
   "metadata": {},
   "outputs": [
    {
     "data": {
      "application/vnd.plotly.v1+json": {
       "config": {
        "plotlyServerURL": "https://plot.ly"
       },
       "data": [
        {
         "hovertemplate": "is_us=Not US<br>year-month=%{x}<br>text=%{y}<extra></extra>",
         "legendgroup": "Not US",
         "line": {
          "color": "#636efa",
          "dash": "solid"
         },
         "marker": {
          "symbol": "circle"
         },
         "mode": "lines",
         "name": "Not US",
         "orientation": "v",
         "showlegend": true,
         "type": "scatter",
         "x": [
          "2013-05",
          "2014-08",
          "2014-10",
          "2015-03",
          "2015-05",
          "2015-06",
          "2015-07",
          "2015-08",
          "2015-09",
          "2015-10",
          "2015-11",
          "2015-12",
          "2016-01",
          "2016-02",
          "2016-03",
          "2016-04",
          "2016-05",
          "2016-06",
          "2016-07",
          "2016-09",
          "2016-10",
          "2017-01",
          "2017-02",
          "2017-03",
          "2017-04",
          "2017-05",
          "2017-06",
          "2017-07",
          "2017-08",
          "2017-09",
          "2017-10",
          "2017-11",
          "2017-12",
          "2018-01",
          "2018-02",
          "2018-03",
          "2018-04",
          "2018-05",
          "2018-06",
          "2018-07",
          "2018-08",
          "2018-09",
          "2018-10",
          "2018-11",
          "2018-12",
          "2019-01",
          "2019-02",
          "2019-03",
          "2019-04",
          "2019-05",
          "2019-06",
          "2019-07",
          "2019-08",
          "2019-09",
          "2019-10",
          "2019-11",
          "2019-12",
          "2020-01",
          "2020-02",
          "2020-03",
          "2020-04",
          "2020-05",
          "2020-06",
          "2020-07",
          "2020-08",
          "2020-09",
          "2020-10",
          "2020-11",
          "2020-12",
          "2021-01",
          "2021-02",
          "2021-03",
          "2021-04",
          "2021-05",
          "2021-06",
          "2021-07",
          "2021-08",
          "2021-09",
          "2021-10",
          "2021-11",
          "2021-12",
          "2022-01",
          "2022-02",
          "2022-03",
          "2022-04",
          "2022-05",
          "2022-06",
          "2022-07",
          "2022-08",
          "2022-09",
          "2022-10",
          "2022-11",
          "2022-12",
          "2023-01",
          "2023-02",
          "2023-03",
          "CZ"
         ],
         "xaxis": "x",
         "y": [
          1,
          2,
          1,
          1,
          2,
          1,
          3,
          2,
          2,
          4,
          12,
          2,
          5,
          1,
          7,
          6,
          1,
          1,
          11,
          15,
          2,
          1,
          1,
          1,
          94,
          5,
          6,
          4,
          5,
          1,
          5,
          3,
          1,
          2,
          10,
          3,
          2,
          14,
          6,
          16,
          16,
          10,
          8,
          7,
          19,
          59,
          2,
          6,
          10,
          6,
          3,
          297,
          42,
          30,
          23,
          11,
          15,
          11,
          5,
          7,
          50,
          31,
          20,
          47,
          20,
          11,
          442,
          67,
          38,
          22,
          18,
          13,
          12,
          24,
          30,
          30,
          299,
          39,
          24,
          18,
          14,
          95,
          29,
          19,
          23,
          24,
          19,
          26,
          27,
          21,
          17,
          8,
          42,
          36,
          28,
          310,
          1
         ],
         "yaxis": "y"
        },
        {
         "hovertemplate": "is_us=US<br>year-month=%{x}<br>text=%{y}<extra></extra>",
         "legendgroup": "US",
         "line": {
          "color": "#EF553B",
          "dash": "solid"
         },
         "marker": {
          "symbol": "circle"
         },
         "mode": "lines",
         "name": "US",
         "orientation": "v",
         "showlegend": true,
         "type": "scatter",
         "x": [
          "2013-12",
          "2014-01",
          "2015-03",
          "2015-04",
          "2015-05",
          "2015-09",
          "2015-10",
          "2015-11",
          "2015-12",
          "2016-02",
          "2016-03",
          "2016-04",
          "2016-05",
          "2016-06",
          "2016-07",
          "2016-09",
          "2016-10",
          "2016-12",
          "2017-01",
          "2017-02",
          "2017-03",
          "2017-04",
          "2017-05",
          "2017-06",
          "2017-07",
          "2017-08",
          "2017-10",
          "2017-12",
          "2018-01",
          "2018-02",
          "2018-03",
          "2018-05",
          "2018-06",
          "2018-08",
          "2018-09",
          "2018-10",
          "2018-11",
          "2018-12",
          "2019-01",
          "2019-02",
          "2019-03",
          "2019-04",
          "2019-05",
          "2019-06",
          "2019-07",
          "2019-08",
          "2019-09",
          "2019-10",
          "2019-11",
          "2019-12",
          "2020-01",
          "2020-02",
          "2020-03",
          "2020-04",
          "2020-05",
          "2020-06",
          "2020-07",
          "2020-08",
          "2020-09",
          "2020-10",
          "2020-11",
          "2020-12",
          "2021-01",
          "2021-02",
          "2021-03",
          "2021-04",
          "2021-05",
          "2021-06",
          "2021-07",
          "2021-08",
          "2021-09",
          "2021-10",
          "2021-11",
          "2021-12",
          "2022-01",
          "2022-02",
          "2022-03",
          "2022-04",
          "2022-05",
          "2022-06",
          "2022-07",
          "2022-08",
          "2022-09",
          "2022-10",
          "2022-11",
          "2022-12",
          "2023-01",
          "2023-02",
          "2023-03"
         ],
         "xaxis": "x",
         "y": [
          1,
          1,
          1,
          1,
          1,
          3,
          2,
          11,
          3,
          1,
          2,
          1,
          1,
          1,
          3,
          3,
          2,
          2,
          3,
          1,
          2,
          2,
          1,
          1,
          5,
          2,
          2,
          2,
          3,
          4,
          3,
          7,
          1,
          2,
          4,
          4,
          13,
          10,
          20,
          5,
          1,
          7,
          3,
          3,
          252,
          49,
          12,
          4,
          7,
          9,
          13,
          2,
          1,
          11,
          25,
          17,
          29,
          7,
          15,
          415,
          17,
          11,
          7,
          3,
          5,
          8,
          6,
          15,
          11,
          218,
          34,
          18,
          8,
          6,
          13,
          10,
          7,
          9,
          14,
          6,
          12,
          4,
          13,
          12,
          5,
          15,
          19,
          18,
          197
         ],
         "yaxis": "y"
        }
       ],
       "layout": {
        "legend": {
         "title": {
          "text": "is_us"
         },
         "tracegroupgap": 0
        },
        "margin": {
         "t": 60
        },
        "template": {
         "data": {
          "bar": [
           {
            "error_x": {
             "color": "#2a3f5f"
            },
            "error_y": {
             "color": "#2a3f5f"
            },
            "marker": {
             "line": {
              "color": "#E5ECF6",
              "width": 0.5
             },
             "pattern": {
              "fillmode": "overlay",
              "size": 10,
              "solidity": 0.2
             }
            },
            "type": "bar"
           }
          ],
          "barpolar": [
           {
            "marker": {
             "line": {
              "color": "#E5ECF6",
              "width": 0.5
             },
             "pattern": {
              "fillmode": "overlay",
              "size": 10,
              "solidity": 0.2
             }
            },
            "type": "barpolar"
           }
          ],
          "carpet": [
           {
            "aaxis": {
             "endlinecolor": "#2a3f5f",
             "gridcolor": "white",
             "linecolor": "white",
             "minorgridcolor": "white",
             "startlinecolor": "#2a3f5f"
            },
            "baxis": {
             "endlinecolor": "#2a3f5f",
             "gridcolor": "white",
             "linecolor": "white",
             "minorgridcolor": "white",
             "startlinecolor": "#2a3f5f"
            },
            "type": "carpet"
           }
          ],
          "choropleth": [
           {
            "colorbar": {
             "outlinewidth": 0,
             "ticks": ""
            },
            "type": "choropleth"
           }
          ],
          "contour": [
           {
            "colorbar": {
             "outlinewidth": 0,
             "ticks": ""
            },
            "colorscale": [
             [
              0,
              "#0d0887"
             ],
             [
              0.1111111111111111,
              "#46039f"
             ],
             [
              0.2222222222222222,
              "#7201a8"
             ],
             [
              0.3333333333333333,
              "#9c179e"
             ],
             [
              0.4444444444444444,
              "#bd3786"
             ],
             [
              0.5555555555555556,
              "#d8576b"
             ],
             [
              0.6666666666666666,
              "#ed7953"
             ],
             [
              0.7777777777777778,
              "#fb9f3a"
             ],
             [
              0.8888888888888888,
              "#fdca26"
             ],
             [
              1,
              "#f0f921"
             ]
            ],
            "type": "contour"
           }
          ],
          "contourcarpet": [
           {
            "colorbar": {
             "outlinewidth": 0,
             "ticks": ""
            },
            "type": "contourcarpet"
           }
          ],
          "heatmap": [
           {
            "colorbar": {
             "outlinewidth": 0,
             "ticks": ""
            },
            "colorscale": [
             [
              0,
              "#0d0887"
             ],
             [
              0.1111111111111111,
              "#46039f"
             ],
             [
              0.2222222222222222,
              "#7201a8"
             ],
             [
              0.3333333333333333,
              "#9c179e"
             ],
             [
              0.4444444444444444,
              "#bd3786"
             ],
             [
              0.5555555555555556,
              "#d8576b"
             ],
             [
              0.6666666666666666,
              "#ed7953"
             ],
             [
              0.7777777777777778,
              "#fb9f3a"
             ],
             [
              0.8888888888888888,
              "#fdca26"
             ],
             [
              1,
              "#f0f921"
             ]
            ],
            "type": "heatmap"
           }
          ],
          "heatmapgl": [
           {
            "colorbar": {
             "outlinewidth": 0,
             "ticks": ""
            },
            "colorscale": [
             [
              0,
              "#0d0887"
             ],
             [
              0.1111111111111111,
              "#46039f"
             ],
             [
              0.2222222222222222,
              "#7201a8"
             ],
             [
              0.3333333333333333,
              "#9c179e"
             ],
             [
              0.4444444444444444,
              "#bd3786"
             ],
             [
              0.5555555555555556,
              "#d8576b"
             ],
             [
              0.6666666666666666,
              "#ed7953"
             ],
             [
              0.7777777777777778,
              "#fb9f3a"
             ],
             [
              0.8888888888888888,
              "#fdca26"
             ],
             [
              1,
              "#f0f921"
             ]
            ],
            "type": "heatmapgl"
           }
          ],
          "histogram": [
           {
            "marker": {
             "pattern": {
              "fillmode": "overlay",
              "size": 10,
              "solidity": 0.2
             }
            },
            "type": "histogram"
           }
          ],
          "histogram2d": [
           {
            "colorbar": {
             "outlinewidth": 0,
             "ticks": ""
            },
            "colorscale": [
             [
              0,
              "#0d0887"
             ],
             [
              0.1111111111111111,
              "#46039f"
             ],
             [
              0.2222222222222222,
              "#7201a8"
             ],
             [
              0.3333333333333333,
              "#9c179e"
             ],
             [
              0.4444444444444444,
              "#bd3786"
             ],
             [
              0.5555555555555556,
              "#d8576b"
             ],
             [
              0.6666666666666666,
              "#ed7953"
             ],
             [
              0.7777777777777778,
              "#fb9f3a"
             ],
             [
              0.8888888888888888,
              "#fdca26"
             ],
             [
              1,
              "#f0f921"
             ]
            ],
            "type": "histogram2d"
           }
          ],
          "histogram2dcontour": [
           {
            "colorbar": {
             "outlinewidth": 0,
             "ticks": ""
            },
            "colorscale": [
             [
              0,
              "#0d0887"
             ],
             [
              0.1111111111111111,
              "#46039f"
             ],
             [
              0.2222222222222222,
              "#7201a8"
             ],
             [
              0.3333333333333333,
              "#9c179e"
             ],
             [
              0.4444444444444444,
              "#bd3786"
             ],
             [
              0.5555555555555556,
              "#d8576b"
             ],
             [
              0.6666666666666666,
              "#ed7953"
             ],
             [
              0.7777777777777778,
              "#fb9f3a"
             ],
             [
              0.8888888888888888,
              "#fdca26"
             ],
             [
              1,
              "#f0f921"
             ]
            ],
            "type": "histogram2dcontour"
           }
          ],
          "mesh3d": [
           {
            "colorbar": {
             "outlinewidth": 0,
             "ticks": ""
            },
            "type": "mesh3d"
           }
          ],
          "parcoords": [
           {
            "line": {
             "colorbar": {
              "outlinewidth": 0,
              "ticks": ""
             }
            },
            "type": "parcoords"
           }
          ],
          "pie": [
           {
            "automargin": true,
            "type": "pie"
           }
          ],
          "scatter": [
           {
            "fillpattern": {
             "fillmode": "overlay",
             "size": 10,
             "solidity": 0.2
            },
            "type": "scatter"
           }
          ],
          "scatter3d": [
           {
            "line": {
             "colorbar": {
              "outlinewidth": 0,
              "ticks": ""
             }
            },
            "marker": {
             "colorbar": {
              "outlinewidth": 0,
              "ticks": ""
             }
            },
            "type": "scatter3d"
           }
          ],
          "scattercarpet": [
           {
            "marker": {
             "colorbar": {
              "outlinewidth": 0,
              "ticks": ""
             }
            },
            "type": "scattercarpet"
           }
          ],
          "scattergeo": [
           {
            "marker": {
             "colorbar": {
              "outlinewidth": 0,
              "ticks": ""
             }
            },
            "type": "scattergeo"
           }
          ],
          "scattergl": [
           {
            "marker": {
             "colorbar": {
              "outlinewidth": 0,
              "ticks": ""
             }
            },
            "type": "scattergl"
           }
          ],
          "scattermapbox": [
           {
            "marker": {
             "colorbar": {
              "outlinewidth": 0,
              "ticks": ""
             }
            },
            "type": "scattermapbox"
           }
          ],
          "scatterpolar": [
           {
            "marker": {
             "colorbar": {
              "outlinewidth": 0,
              "ticks": ""
             }
            },
            "type": "scatterpolar"
           }
          ],
          "scatterpolargl": [
           {
            "marker": {
             "colorbar": {
              "outlinewidth": 0,
              "ticks": ""
             }
            },
            "type": "scatterpolargl"
           }
          ],
          "scatterternary": [
           {
            "marker": {
             "colorbar": {
              "outlinewidth": 0,
              "ticks": ""
             }
            },
            "type": "scatterternary"
           }
          ],
          "surface": [
           {
            "colorbar": {
             "outlinewidth": 0,
             "ticks": ""
            },
            "colorscale": [
             [
              0,
              "#0d0887"
             ],
             [
              0.1111111111111111,
              "#46039f"
             ],
             [
              0.2222222222222222,
              "#7201a8"
             ],
             [
              0.3333333333333333,
              "#9c179e"
             ],
             [
              0.4444444444444444,
              "#bd3786"
             ],
             [
              0.5555555555555556,
              "#d8576b"
             ],
             [
              0.6666666666666666,
              "#ed7953"
             ],
             [
              0.7777777777777778,
              "#fb9f3a"
             ],
             [
              0.8888888888888888,
              "#fdca26"
             ],
             [
              1,
              "#f0f921"
             ]
            ],
            "type": "surface"
           }
          ],
          "table": [
           {
            "cells": {
             "fill": {
              "color": "#EBF0F8"
             },
             "line": {
              "color": "white"
             }
            },
            "header": {
             "fill": {
              "color": "#C8D4E3"
             },
             "line": {
              "color": "white"
             }
            },
            "type": "table"
           }
          ]
         },
         "layout": {
          "annotationdefaults": {
           "arrowcolor": "#2a3f5f",
           "arrowhead": 0,
           "arrowwidth": 1
          },
          "autotypenumbers": "strict",
          "coloraxis": {
           "colorbar": {
            "outlinewidth": 0,
            "ticks": ""
           }
          },
          "colorscale": {
           "diverging": [
            [
             0,
             "#8e0152"
            ],
            [
             0.1,
             "#c51b7d"
            ],
            [
             0.2,
             "#de77ae"
            ],
            [
             0.3,
             "#f1b6da"
            ],
            [
             0.4,
             "#fde0ef"
            ],
            [
             0.5,
             "#f7f7f7"
            ],
            [
             0.6,
             "#e6f5d0"
            ],
            [
             0.7,
             "#b8e186"
            ],
            [
             0.8,
             "#7fbc41"
            ],
            [
             0.9,
             "#4d9221"
            ],
            [
             1,
             "#276419"
            ]
           ],
           "sequential": [
            [
             0,
             "#0d0887"
            ],
            [
             0.1111111111111111,
             "#46039f"
            ],
            [
             0.2222222222222222,
             "#7201a8"
            ],
            [
             0.3333333333333333,
             "#9c179e"
            ],
            [
             0.4444444444444444,
             "#bd3786"
            ],
            [
             0.5555555555555556,
             "#d8576b"
            ],
            [
             0.6666666666666666,
             "#ed7953"
            ],
            [
             0.7777777777777778,
             "#fb9f3a"
            ],
            [
             0.8888888888888888,
             "#fdca26"
            ],
            [
             1,
             "#f0f921"
            ]
           ],
           "sequentialminus": [
            [
             0,
             "#0d0887"
            ],
            [
             0.1111111111111111,
             "#46039f"
            ],
            [
             0.2222222222222222,
             "#7201a8"
            ],
            [
             0.3333333333333333,
             "#9c179e"
            ],
            [
             0.4444444444444444,
             "#bd3786"
            ],
            [
             0.5555555555555556,
             "#d8576b"
            ],
            [
             0.6666666666666666,
             "#ed7953"
            ],
            [
             0.7777777777777778,
             "#fb9f3a"
            ],
            [
             0.8888888888888888,
             "#fdca26"
            ],
            [
             1,
             "#f0f921"
            ]
           ]
          },
          "colorway": [
           "#636efa",
           "#EF553B",
           "#00cc96",
           "#ab63fa",
           "#FFA15A",
           "#19d3f3",
           "#FF6692",
           "#B6E880",
           "#FF97FF",
           "#FECB52"
          ],
          "font": {
           "color": "#2a3f5f"
          },
          "geo": {
           "bgcolor": "white",
           "lakecolor": "white",
           "landcolor": "#E5ECF6",
           "showlakes": true,
           "showland": true,
           "subunitcolor": "white"
          },
          "hoverlabel": {
           "align": "left"
          },
          "hovermode": "closest",
          "mapbox": {
           "style": "light"
          },
          "paper_bgcolor": "white",
          "plot_bgcolor": "#E5ECF6",
          "polar": {
           "angularaxis": {
            "gridcolor": "white",
            "linecolor": "white",
            "ticks": ""
           },
           "bgcolor": "#E5ECF6",
           "radialaxis": {
            "gridcolor": "white",
            "linecolor": "white",
            "ticks": ""
           }
          },
          "scene": {
           "xaxis": {
            "backgroundcolor": "#E5ECF6",
            "gridcolor": "white",
            "gridwidth": 2,
            "linecolor": "white",
            "showbackground": true,
            "ticks": "",
            "zerolinecolor": "white"
           },
           "yaxis": {
            "backgroundcolor": "#E5ECF6",
            "gridcolor": "white",
            "gridwidth": 2,
            "linecolor": "white",
            "showbackground": true,
            "ticks": "",
            "zerolinecolor": "white"
           },
           "zaxis": {
            "backgroundcolor": "#E5ECF6",
            "gridcolor": "white",
            "gridwidth": 2,
            "linecolor": "white",
            "showbackground": true,
            "ticks": "",
            "zerolinecolor": "white"
           }
          },
          "shapedefaults": {
           "line": {
            "color": "#2a3f5f"
           }
          },
          "ternary": {
           "aaxis": {
            "gridcolor": "white",
            "linecolor": "white",
            "ticks": ""
           },
           "baxis": {
            "gridcolor": "white",
            "linecolor": "white",
            "ticks": ""
           },
           "bgcolor": "#E5ECF6",
           "caxis": {
            "gridcolor": "white",
            "linecolor": "white",
            "ticks": ""
           }
          },
          "title": {
           "x": 0.05
          },
          "xaxis": {
           "automargin": true,
           "gridcolor": "white",
           "linecolor": "white",
           "ticks": "",
           "title": {
            "standoff": 15
           },
           "zerolinecolor": "white",
           "zerolinewidth": 2
          },
          "yaxis": {
           "automargin": true,
           "gridcolor": "white",
           "linecolor": "white",
           "ticks": "",
           "title": {
            "standoff": 15
           },
           "zerolinecolor": "white",
           "zerolinewidth": 2
          }
         }
        },
        "title": {
         "text": "Volume of Comments in the US vs the Rest of the World"
        },
        "xaxis": {
         "anchor": "y",
         "domain": [
          0,
          1
         ],
         "title": {
          "text": "year-month"
         }
        },
        "yaxis": {
         "anchor": "x",
         "domain": [
          0,
          1
         ],
         "title": {
          "text": "text"
         }
        }
       }
      }
     },
     "metadata": {},
     "output_type": "display_data"
    }
   ],
   "source": [
    "# plot volume of comments in the US vs rest of the world\n",
    "df = raw_df[raw_df['date'].notna()]\n",
    "df = df[df['country'].notna()]\n",
    "\n",
    "for i, row in df.iterrows():\n",
    "    # get the month from the date\n",
    "    date = row['date']\n",
    "    df.at[i, 'year-month'] = '-'.join(date.split('-')[:2])\n",
    "\n",
    "    # whether the video is from the US or not\n",
    "    country = row['country']\n",
    "    df.at[i, 'is_us'] = 'US' if country == 'US' else 'Not US'\n",
    "\n",
    "# get average for each country\n",
    "df = df.groupby(['year-month', 'is_us']).count().reset_index()\n",
    "\n",
    "# sort by year\n",
    "df = df.sort_values(by=['year-month'])\n",
    "\n",
    "# plot\n",
    "fig = px.line(df, x=\"year-month\", y=\"text\", color='is_us')\n",
    "fig.update_layout(title_text='Volume of Comments in the US vs the Rest of the World')\n",
    "fig.show()"
   ]
  }
 ],
 "metadata": {
  "kernelspec": {
   "display_name": "y3_ads",
   "language": "python",
   "name": "python3"
  },
  "language_info": {
   "codemirror_mode": {
    "name": "ipython",
    "version": 3
   },
   "file_extension": ".py",
   "mimetype": "text/x-python",
   "name": "python",
   "nbconvert_exporter": "python",
   "pygments_lexer": "ipython3",
   "version": "3.11.0"
  },
  "orig_nbformat": 4
 },
 "nbformat": 4,
 "nbformat_minor": 2
}
