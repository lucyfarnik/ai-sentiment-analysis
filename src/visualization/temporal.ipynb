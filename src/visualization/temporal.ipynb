{
 "cells": [
  {
   "cell_type": "code",
   "execution_count": 1,
   "metadata": {},
   "outputs": [
    {
     "name": "stderr",
     "output_type": "stream",
     "text": [
      "/var/folders/4c/w2fyysz50_j_234jdvb_c9wr0000gn/T/ipykernel_37713/4278760478.py:5: DtypeWarning: Columns (11) have mixed types. Specify dtype option on import or set low_memory=False.\n",
      "  df = pd.read_csv('../../data/merged_data_sentiment.csv')\n"
     ]
    },
    {
     "data": {
      "text/html": [
       "<div>\n",
       "<style scoped>\n",
       "    .dataframe tbody tr th:only-of-type {\n",
       "        vertical-align: middle;\n",
       "    }\n",
       "\n",
       "    .dataframe tbody tr th {\n",
       "        vertical-align: top;\n",
       "    }\n",
       "\n",
       "    .dataframe thead th {\n",
       "        text-align: right;\n",
       "    }\n",
       "</style>\n",
       "<table border=\"1\" class=\"dataframe\">\n",
       "  <thead>\n",
       "    <tr style=\"text-align: right;\">\n",
       "      <th></th>\n",
       "      <th>ID</th>\n",
       "      <th>Content</th>\n",
       "      <th>User</th>\n",
       "      <th>Date</th>\n",
       "      <th>Location</th>\n",
       "      <th>Reactions</th>\n",
       "      <th>N_Children</th>\n",
       "      <th>Post Title</th>\n",
       "      <th>Platform</th>\n",
       "      <th>meta</th>\n",
       "      <th>lang</th>\n",
       "      <th>Subreddit</th>\n",
       "      <th>Unnamed: 0</th>\n",
       "      <th>Sentiment</th>\n",
       "    </tr>\n",
       "  </thead>\n",
       "  <tbody>\n",
       "    <tr>\n",
       "      <th>0</th>\n",
       "      <td>UgyDawiDJRU5j8e9g6x4AaABAg</td>\n",
       "      <td>i love my mum~!TAT</td>\n",
       "      <td>carol lui</td>\n",
       "      <td>2013-04-30</td>\n",
       "      <td>NaN</td>\n",
       "      <td>1.0</td>\n",
       "      <td>0.0</td>\n",
       "      <td>AI - ママへ (short ver.) Music Video</td>\n",
       "      <td>youtube</td>\n",
       "      <td>{'vid_id': 'JjVqw-rKqJo', 'user_id': 'UCgxe0Tv...</td>\n",
       "      <td>en</td>\n",
       "      <td>NaN</td>\n",
       "      <td>NaN</td>\n",
       "      <td>0.9998131394386292,0.9847044944763184,0.992429...</td>\n",
       "    </tr>\n",
       "    <tr>\n",
       "      <th>1</th>\n",
       "      <td>Ugx5UKqZcGpX0Qi8art4AaABAg</td>\n",
       "      <td>I was in tears until the lady gave her mother ...</td>\n",
       "      <td>C Ladner</td>\n",
       "      <td>2013-05-13</td>\n",
       "      <td>NaN</td>\n",
       "      <td>0.0</td>\n",
       "      <td>0.0</td>\n",
       "      <td>AI - ママへ (short ver.) Music Video</td>\n",
       "      <td>youtube</td>\n",
       "      <td>{'vid_id': 'JjVqw-rKqJo', 'user_id': 'UC98Fh4X...</td>\n",
       "      <td>en</td>\n",
       "      <td>NaN</td>\n",
       "      <td>NaN</td>\n",
       "      <td>-0.8607058525085449,-0.4791601002216339,0,0.0,...</td>\n",
       "    </tr>\n",
       "    <tr>\n",
       "      <th>2</th>\n",
       "      <td>UgybIB4C2ppmGqU40WV4AaABAg</td>\n",
       "      <td>I like her voice!! So deep, i thought the voic...</td>\n",
       "      <td>joseph jr.</td>\n",
       "      <td>2013-05-24</td>\n",
       "      <td>PH</td>\n",
       "      <td>0.0</td>\n",
       "      <td>0.0</td>\n",
       "      <td>AI - ママへ (short ver.) Music Video</td>\n",
       "      <td>youtube</td>\n",
       "      <td>{'vid_id': 'JjVqw-rKqJo', 'user_id': 'UCUe_b0X...</td>\n",
       "      <td>en</td>\n",
       "      <td>NaN</td>\n",
       "      <td>NaN</td>\n",
       "      <td>0.9991986155509949,0.9696046113967896,0.984618...</td>\n",
       "    </tr>\n",
       "    <tr>\n",
       "      <th>3</th>\n",
       "      <td>Ugyi1lQIQnmZ2jVwk4B4AaABAg</td>\n",
       "      <td>A verve and flow equal to Maria Carrey's debut...</td>\n",
       "      <td>medusanerve</td>\n",
       "      <td>2013-05-28</td>\n",
       "      <td>NaN</td>\n",
       "      <td>1.0</td>\n",
       "      <td>0.0</td>\n",
       "      <td>AI - ママへ (short ver.) Music Video</td>\n",
       "      <td>youtube</td>\n",
       "      <td>{'vid_id': 'JjVqw-rKqJo', 'user_id': 'UCILrk7Q...</td>\n",
       "      <td>en</td>\n",
       "      <td>NaN</td>\n",
       "      <td>NaN</td>\n",
       "      <td>0.9990953207015991,0.901877224445343,0.9919101...</td>\n",
       "    </tr>\n",
       "    <tr>\n",
       "      <th>4</th>\n",
       "      <td>Ugw2iIVWPilqFB7RMEl4AaABAg</td>\n",
       "      <td>great voice:D\\n</td>\n",
       "      <td>ramon goedendorp</td>\n",
       "      <td>2013-06-08</td>\n",
       "      <td>NaN</td>\n",
       "      <td>1.0</td>\n",
       "      <td>0.0</td>\n",
       "      <td>AI - ママへ (short ver.) Music Video</td>\n",
       "      <td>youtube</td>\n",
       "      <td>{'vid_id': 'JjVqw-rKqJo', 'user_id': 'UCNs25ls...</td>\n",
       "      <td>en</td>\n",
       "      <td>NaN</td>\n",
       "      <td>NaN</td>\n",
       "      <td>0.9998722076416016,0.9386110305786133,0.989294...</td>\n",
       "    </tr>\n",
       "  </tbody>\n",
       "</table>\n",
       "</div>"
      ],
      "text/plain": [
       "                           ID  \\\n",
       "0  UgyDawiDJRU5j8e9g6x4AaABAg   \n",
       "1  Ugx5UKqZcGpX0Qi8art4AaABAg   \n",
       "2  UgybIB4C2ppmGqU40WV4AaABAg   \n",
       "3  Ugyi1lQIQnmZ2jVwk4B4AaABAg   \n",
       "4  Ugw2iIVWPilqFB7RMEl4AaABAg   \n",
       "\n",
       "                                             Content              User  \\\n",
       "0                                 i love my mum~!TAT         carol lui   \n",
       "1  I was in tears until the lady gave her mother ...          C Ladner   \n",
       "2  I like her voice!! So deep, i thought the voic...        joseph jr.   \n",
       "3  A verve and flow equal to Maria Carrey's debut...       medusanerve   \n",
       "4                                    great voice:D\\n  ramon goedendorp   \n",
       "\n",
       "         Date Location  Reactions  N_Children  \\\n",
       "0  2013-04-30      NaN        1.0         0.0   \n",
       "1  2013-05-13      NaN        0.0         0.0   \n",
       "2  2013-05-24       PH        0.0         0.0   \n",
       "3  2013-05-28      NaN        1.0         0.0   \n",
       "4  2013-06-08      NaN        1.0         0.0   \n",
       "\n",
       "                          Post Title Platform  \\\n",
       "0  AI - ママへ (short ver.) Music Video  youtube   \n",
       "1  AI - ママへ (short ver.) Music Video  youtube   \n",
       "2  AI - ママへ (short ver.) Music Video  youtube   \n",
       "3  AI - ママへ (short ver.) Music Video  youtube   \n",
       "4  AI - ママへ (short ver.) Music Video  youtube   \n",
       "\n",
       "                                                meta lang Subreddit  \\\n",
       "0  {'vid_id': 'JjVqw-rKqJo', 'user_id': 'UCgxe0Tv...   en       NaN   \n",
       "1  {'vid_id': 'JjVqw-rKqJo', 'user_id': 'UC98Fh4X...   en       NaN   \n",
       "2  {'vid_id': 'JjVqw-rKqJo', 'user_id': 'UCUe_b0X...   en       NaN   \n",
       "3  {'vid_id': 'JjVqw-rKqJo', 'user_id': 'UCILrk7Q...   en       NaN   \n",
       "4  {'vid_id': 'JjVqw-rKqJo', 'user_id': 'UCNs25ls...   en       NaN   \n",
       "\n",
       "   Unnamed: 0                                          Sentiment  \n",
       "0         NaN  0.9998131394386292,0.9847044944763184,0.992429...  \n",
       "1         NaN  -0.8607058525085449,-0.4791601002216339,0,0.0,...  \n",
       "2         NaN  0.9991986155509949,0.9696046113967896,0.984618...  \n",
       "3         NaN  0.9990953207015991,0.901877224445343,0.9919101...  \n",
       "4         NaN  0.9998722076416016,0.9386110305786133,0.989294...  "
      ]
     },
     "execution_count": 1,
     "metadata": {},
     "output_type": "execute_result"
    }
   ],
   "source": [
    "import pandas as pd\n",
    "import plotly.graph_objects as go\n",
    "from plotly.subplots import make_subplots\n",
    "\n",
    "df = pd.read_csv('../../data/merged_data_sentiment.csv')\n",
    "df.head()"
   ]
  },
  {
   "cell_type": "code",
   "execution_count": 2,
   "metadata": {},
   "outputs": [],
   "source": [
    "# only 2019 and onwards (sorted based on the Date column)\n",
    "# df = df[df['Date'] >= '2019-01-01'].sort_values(by='Date')\n",
    "# df.shape"
   ]
  },
  {
   "cell_type": "code",
   "execution_count": 3,
   "metadata": {},
   "outputs": [],
   "source": [
    "# get mean sentiment for each comment\n",
    "def avg_sent(df):\n",
    "  for i, row in df.iterrows():\n",
    "    sent = row['Sentiment'].split(',')\n",
    "    sent = [float(s) for s in sent]\n",
    "    df.at[i, 'Avg_Sentiment'] = sum(sent) / len(sent)\n",
    "avg_sent(df)"
   ]
  },
  {
   "cell_type": "code",
   "execution_count": 4,
   "metadata": {},
   "outputs": [
    {
     "name": "stderr",
     "output_type": "stream",
     "text": [
      "/var/folders/4c/w2fyysz50_j_234jdvb_c9wr0000gn/T/ipykernel_37713/3509122312.py:4: UserWarning: Parsing dates in DD/MM/YYYY format when dayfirst=False (the default) was specified. This may lead to inconsistently parsed dates! Specify a format to ensure consistent parsing.\n",
      "  df['Month'] = pd.to_datetime(df['Date']).dt.to_period('M').astype(str)\n"
     ]
    },
    {
     "data": {
      "application/vnd.plotly.v1+json": {
       "config": {
        "plotlyServerURL": "https://plot.ly"
       },
       "data": [
        {
         "name": "Average Sentiment",
         "type": "scatter",
         "x": [
          "2013-04",
          "2013-05",
          "2013-06",
          "2013-08",
          "2013-09",
          "2013-11",
          "2013-12",
          "2014-01",
          "2014-02",
          "2014-03",
          "2014-04",
          "2014-05",
          "2014-06",
          "2014-07",
          "2014-08",
          "2014-09",
          "2014-10",
          "2014-11",
          "2014-12",
          "2015-01",
          "2015-02",
          "2015-03",
          "2015-04",
          "2015-05",
          "2015-06",
          "2015-07",
          "2015-08",
          "2015-09",
          "2015-10",
          "2015-11",
          "2015-12",
          "2016-01",
          "2016-02",
          "2016-03",
          "2016-04",
          "2016-05",
          "2016-06",
          "2016-07",
          "2016-08",
          "2016-09",
          "2016-10",
          "2016-11",
          "2016-12",
          "2017-01",
          "2017-02",
          "2017-03",
          "2017-04",
          "2017-05",
          "2017-06",
          "2017-07",
          "2017-08",
          "2017-09",
          "2017-10",
          "2017-11",
          "2017-12",
          "2018-01",
          "2018-02",
          "2018-03",
          "2018-04",
          "2018-05",
          "2018-06",
          "2018-07",
          "2018-08",
          "2018-09",
          "2018-10",
          "2018-11",
          "2018-12",
          "2019-01",
          "2019-02",
          "2019-03",
          "2019-04",
          "2019-05",
          "2019-06",
          "2019-07",
          "2019-08",
          "2019-09",
          "2019-10",
          "2019-11",
          "2019-12",
          "2020-01",
          "2020-02",
          "2020-03",
          "2020-04",
          "2020-05",
          "2020-06",
          "2020-07",
          "2020-08",
          "2020-09",
          "2020-10",
          "2020-11",
          "2020-12",
          "2021-01",
          "2021-02",
          "2021-03",
          "2021-04",
          "2021-05",
          "2021-06",
          "2021-07",
          "2021-08",
          "2021-09",
          "2021-10",
          "2021-11",
          "2021-12",
          "2022-01",
          "2022-02",
          "2022-03",
          "2022-04",
          "2022-05",
          "2022-06",
          "2022-07",
          "2022-08",
          "2022-09",
          "2022-10",
          "2022-11",
          "2022-12",
          "2023-01",
          "2023-02",
          "2023-03",
          "2023-04"
         ],
         "xaxis": "x",
         "y": [
          0.7410912576675415,
          0.4231299411535263,
          0.7073768520355225,
          0.20717422122160598,
          0.01760015885035197,
          0.463314564259847,
          0.6758063038084242,
          0.38719769383536445,
          0.6932394931316376,
          0.24072968886693322,
          0.46890783188826707,
          0.3084697279727017,
          0.1262819262841414,
          0.4559251139767964,
          0.003776901525164395,
          0.03445035355356005,
          -0.07800380095930957,
          0.6204700798599808,
          0.06979163233064123,
          -0.4074529830552914,
          0.35398517317904366,
          0.05526328324073104,
          0.1909426284452469,
          0.2641429361765583,
          0.3301248203906146,
          0.1723962496371917,
          0.25218234680758583,
          0.2147607412997971,
          -0.0238344097689361,
          -0.11637395882559473,
          0.203945938871903,
          -0.04218308102354172,
          0.15330138853788744,
          0.4815205903716162,
          0.37261255132778276,
          0.12497613369629226,
          0.03375801057576621,
          0.10313961453228693,
          -0.13915308470117418,
          -0.21717602146249199,
          -0.23201652910122145,
          -0.17097625499822922,
          -0.06306854964613619,
          0.049167179878712386,
          -0.07403346734588745,
          -0.14686269846791217,
          0.449953167491637,
          0.13314224498845625,
          0.012390550208275222,
          0.04632592288159252,
          0.002729161102134158,
          0.029168427646349346,
          0.11358446172941346,
          0.21579542040256505,
          0.014689427259493867,
          -0.04806324438990935,
          0.3286470279971234,
          0.14598557015515956,
          0.3348481619967484,
          0.2817302702840945,
          0.18227485810126237,
          0.36097745011824894,
          0.3213153982339444,
          0.23694825748858864,
          0.0012219075935504752,
          -0.0017035014768980534,
          -0.053872238695331,
          0.3477930551108179,
          0.3455401346244503,
          0.02297168483519423,
          0.12255497388267968,
          0.13474733580445108,
          0.11748228537105732,
          -0.03503504088923039,
          -0.033450622947322185,
          0.17253949075033995,
          0.06639557630445854,
          -0.04723807366554078,
          -0.07466660765898676,
          0.0068408915072115115,
          0.054611345723493875,
          0.000728636708447096,
          -0.05349742911126708,
          0.07461324483081251,
          -0.018670150428682024,
          0.011829339894079327,
          0.025189781550431653,
          0.08963512285774365,
          0.060284389761457294,
          0.09917387517620802,
          0.06747345543768765,
          -0.04589229159238461,
          0.03822677348361003,
          -0.010048622137914553,
          0.03150403331702875,
          0.019677561001013425,
          0.0661717556525535,
          -0.025862261278014827,
          -0.06369519743652648,
          -0.0940015539217031,
          0.017672397784155025,
          -0.0038205764916658213,
          0.06918060454287185,
          0.1767827151366475,
          0.08360891100331252,
          0.0649339474856766,
          0.17451887096542318,
          0.16426169778005265,
          0.1601425284543104,
          0.10981048605035157,
          0.18328656972499988,
          0.017429054816486576,
          0.20640008631354437,
          0.12517149152596527,
          0.11773461356458248,
          0.04258103901022771,
          -0.09546184395183584,
          0.03180113989947075,
          -0.1547406569847124
         ],
         "yaxis": "y"
        },
        {
         "name": "Volume",
         "type": "scatter",
         "x": [
          "2013-04",
          "2013-05",
          "2013-06",
          "2013-08",
          "2013-09",
          "2013-11",
          "2013-12",
          "2014-01",
          "2014-02",
          "2014-03",
          "2014-04",
          "2014-05",
          "2014-06",
          "2014-07",
          "2014-08",
          "2014-09",
          "2014-10",
          "2014-11",
          "2014-12",
          "2015-01",
          "2015-02",
          "2015-03",
          "2015-04",
          "2015-05",
          "2015-06",
          "2015-07",
          "2015-08",
          "2015-09",
          "2015-10",
          "2015-11",
          "2015-12",
          "2016-01",
          "2016-02",
          "2016-03",
          "2016-04",
          "2016-05",
          "2016-06",
          "2016-07",
          "2016-08",
          "2016-09",
          "2016-10",
          "2016-11",
          "2016-12",
          "2017-01",
          "2017-02",
          "2017-03",
          "2017-04",
          "2017-05",
          "2017-06",
          "2017-07",
          "2017-08",
          "2017-09",
          "2017-10",
          "2017-11",
          "2017-12",
          "2018-01",
          "2018-02",
          "2018-03",
          "2018-04",
          "2018-05",
          "2018-06",
          "2018-07",
          "2018-08",
          "2018-09",
          "2018-10",
          "2018-11",
          "2018-12",
          "2019-01",
          "2019-02",
          "2019-03",
          "2019-04",
          "2019-05",
          "2019-06",
          "2019-07",
          "2019-08",
          "2019-09",
          "2019-10",
          "2019-11",
          "2019-12",
          "2020-01",
          "2020-02",
          "2020-03",
          "2020-04",
          "2020-05",
          "2020-06",
          "2020-07",
          "2020-08",
          "2020-09",
          "2020-10",
          "2020-11",
          "2020-12",
          "2021-01",
          "2021-02",
          "2021-03",
          "2021-04",
          "2021-05",
          "2021-06",
          "2021-07",
          "2021-08",
          "2021-09",
          "2021-10",
          "2021-11",
          "2021-12",
          "2022-01",
          "2022-02",
          "2022-03",
          "2022-04",
          "2022-05",
          "2022-06",
          "2022-07",
          "2022-08",
          "2022-09",
          "2022-10",
          "2022-11",
          "2022-12",
          "2023-01",
          "2023-02",
          "2023-03",
          "2023-04"
         ],
         "xaxis": "x",
         "y": [
          1,
          3,
          2,
          6,
          1,
          1,
          1,
          2,
          2,
          1,
          24,
          6,
          10,
          5,
          7,
          8,
          6,
          3,
          5,
          8,
          4,
          9,
          5,
          32,
          11,
          18,
          14,
          25,
          55,
          145,
          29,
          30,
          17,
          70,
          69,
          21,
          27,
          108,
          32,
          98,
          29,
          22,
          28,
          37,
          18,
          26,
          970,
          44,
          75,
          72,
          81,
          32,
          43,
          31,
          40,
          36,
          70,
          59,
          49,
          157,
          69,
          117,
          123,
          91,
          121,
          133,
          300,
          518,
          183,
          196,
          165,
          105,
          115,
          2349,
          552,
          411,
          281,
          255,
          230,
          484,
          369,
          384,
          858,
          796,
          833,
          951,
          754,
          606,
          3476,
          870,
          753,
          297,
          298,
          224,
          168,
          241,
          457,
          485,
          4504,
          674,
          371,
          316,
          238,
          891,
          276,
          233,
          321,
          331,
          338,
          341,
          225,
          393,
          400,
          605,
          365,
          1992,
          3216,
          16370,
          13242
         ],
         "yaxis": "y2"
        }
       ],
       "layout": {
        "font": {
         "color": "#7f7f7f",
         "family": "Courier New, monospace",
         "size": 18
        },
        "legend": {
         "title": {
          "text": "Legend Title"
         }
        },
        "template": {
         "data": {
          "bar": [
           {
            "error_x": {
             "color": "#2a3f5f"
            },
            "error_y": {
             "color": "#2a3f5f"
            },
            "marker": {
             "line": {
              "color": "#E5ECF6",
              "width": 0.5
             },
             "pattern": {
              "fillmode": "overlay",
              "size": 10,
              "solidity": 0.2
             }
            },
            "type": "bar"
           }
          ],
          "barpolar": [
           {
            "marker": {
             "line": {
              "color": "#E5ECF6",
              "width": 0.5
             },
             "pattern": {
              "fillmode": "overlay",
              "size": 10,
              "solidity": 0.2
             }
            },
            "type": "barpolar"
           }
          ],
          "carpet": [
           {
            "aaxis": {
             "endlinecolor": "#2a3f5f",
             "gridcolor": "white",
             "linecolor": "white",
             "minorgridcolor": "white",
             "startlinecolor": "#2a3f5f"
            },
            "baxis": {
             "endlinecolor": "#2a3f5f",
             "gridcolor": "white",
             "linecolor": "white",
             "minorgridcolor": "white",
             "startlinecolor": "#2a3f5f"
            },
            "type": "carpet"
           }
          ],
          "choropleth": [
           {
            "colorbar": {
             "outlinewidth": 0,
             "ticks": ""
            },
            "type": "choropleth"
           }
          ],
          "contour": [
           {
            "colorbar": {
             "outlinewidth": 0,
             "ticks": ""
            },
            "colorscale": [
             [
              0,
              "#0d0887"
             ],
             [
              0.1111111111111111,
              "#46039f"
             ],
             [
              0.2222222222222222,
              "#7201a8"
             ],
             [
              0.3333333333333333,
              "#9c179e"
             ],
             [
              0.4444444444444444,
              "#bd3786"
             ],
             [
              0.5555555555555556,
              "#d8576b"
             ],
             [
              0.6666666666666666,
              "#ed7953"
             ],
             [
              0.7777777777777778,
              "#fb9f3a"
             ],
             [
              0.8888888888888888,
              "#fdca26"
             ],
             [
              1,
              "#f0f921"
             ]
            ],
            "type": "contour"
           }
          ],
          "contourcarpet": [
           {
            "colorbar": {
             "outlinewidth": 0,
             "ticks": ""
            },
            "type": "contourcarpet"
           }
          ],
          "heatmap": [
           {
            "colorbar": {
             "outlinewidth": 0,
             "ticks": ""
            },
            "colorscale": [
             [
              0,
              "#0d0887"
             ],
             [
              0.1111111111111111,
              "#46039f"
             ],
             [
              0.2222222222222222,
              "#7201a8"
             ],
             [
              0.3333333333333333,
              "#9c179e"
             ],
             [
              0.4444444444444444,
              "#bd3786"
             ],
             [
              0.5555555555555556,
              "#d8576b"
             ],
             [
              0.6666666666666666,
              "#ed7953"
             ],
             [
              0.7777777777777778,
              "#fb9f3a"
             ],
             [
              0.8888888888888888,
              "#fdca26"
             ],
             [
              1,
              "#f0f921"
             ]
            ],
            "type": "heatmap"
           }
          ],
          "heatmapgl": [
           {
            "colorbar": {
             "outlinewidth": 0,
             "ticks": ""
            },
            "colorscale": [
             [
              0,
              "#0d0887"
             ],
             [
              0.1111111111111111,
              "#46039f"
             ],
             [
              0.2222222222222222,
              "#7201a8"
             ],
             [
              0.3333333333333333,
              "#9c179e"
             ],
             [
              0.4444444444444444,
              "#bd3786"
             ],
             [
              0.5555555555555556,
              "#d8576b"
             ],
             [
              0.6666666666666666,
              "#ed7953"
             ],
             [
              0.7777777777777778,
              "#fb9f3a"
             ],
             [
              0.8888888888888888,
              "#fdca26"
             ],
             [
              1,
              "#f0f921"
             ]
            ],
            "type": "heatmapgl"
           }
          ],
          "histogram": [
           {
            "marker": {
             "pattern": {
              "fillmode": "overlay",
              "size": 10,
              "solidity": 0.2
             }
            },
            "type": "histogram"
           }
          ],
          "histogram2d": [
           {
            "colorbar": {
             "outlinewidth": 0,
             "ticks": ""
            },
            "colorscale": [
             [
              0,
              "#0d0887"
             ],
             [
              0.1111111111111111,
              "#46039f"
             ],
             [
              0.2222222222222222,
              "#7201a8"
             ],
             [
              0.3333333333333333,
              "#9c179e"
             ],
             [
              0.4444444444444444,
              "#bd3786"
             ],
             [
              0.5555555555555556,
              "#d8576b"
             ],
             [
              0.6666666666666666,
              "#ed7953"
             ],
             [
              0.7777777777777778,
              "#fb9f3a"
             ],
             [
              0.8888888888888888,
              "#fdca26"
             ],
             [
              1,
              "#f0f921"
             ]
            ],
            "type": "histogram2d"
           }
          ],
          "histogram2dcontour": [
           {
            "colorbar": {
             "outlinewidth": 0,
             "ticks": ""
            },
            "colorscale": [
             [
              0,
              "#0d0887"
             ],
             [
              0.1111111111111111,
              "#46039f"
             ],
             [
              0.2222222222222222,
              "#7201a8"
             ],
             [
              0.3333333333333333,
              "#9c179e"
             ],
             [
              0.4444444444444444,
              "#bd3786"
             ],
             [
              0.5555555555555556,
              "#d8576b"
             ],
             [
              0.6666666666666666,
              "#ed7953"
             ],
             [
              0.7777777777777778,
              "#fb9f3a"
             ],
             [
              0.8888888888888888,
              "#fdca26"
             ],
             [
              1,
              "#f0f921"
             ]
            ],
            "type": "histogram2dcontour"
           }
          ],
          "mesh3d": [
           {
            "colorbar": {
             "outlinewidth": 0,
             "ticks": ""
            },
            "type": "mesh3d"
           }
          ],
          "parcoords": [
           {
            "line": {
             "colorbar": {
              "outlinewidth": 0,
              "ticks": ""
             }
            },
            "type": "parcoords"
           }
          ],
          "pie": [
           {
            "automargin": true,
            "type": "pie"
           }
          ],
          "scatter": [
           {
            "fillpattern": {
             "fillmode": "overlay",
             "size": 10,
             "solidity": 0.2
            },
            "type": "scatter"
           }
          ],
          "scatter3d": [
           {
            "line": {
             "colorbar": {
              "outlinewidth": 0,
              "ticks": ""
             }
            },
            "marker": {
             "colorbar": {
              "outlinewidth": 0,
              "ticks": ""
             }
            },
            "type": "scatter3d"
           }
          ],
          "scattercarpet": [
           {
            "marker": {
             "colorbar": {
              "outlinewidth": 0,
              "ticks": ""
             }
            },
            "type": "scattercarpet"
           }
          ],
          "scattergeo": [
           {
            "marker": {
             "colorbar": {
              "outlinewidth": 0,
              "ticks": ""
             }
            },
            "type": "scattergeo"
           }
          ],
          "scattergl": [
           {
            "marker": {
             "colorbar": {
              "outlinewidth": 0,
              "ticks": ""
             }
            },
            "type": "scattergl"
           }
          ],
          "scattermapbox": [
           {
            "marker": {
             "colorbar": {
              "outlinewidth": 0,
              "ticks": ""
             }
            },
            "type": "scattermapbox"
           }
          ],
          "scatterpolar": [
           {
            "marker": {
             "colorbar": {
              "outlinewidth": 0,
              "ticks": ""
             }
            },
            "type": "scatterpolar"
           }
          ],
          "scatterpolargl": [
           {
            "marker": {
             "colorbar": {
              "outlinewidth": 0,
              "ticks": ""
             }
            },
            "type": "scatterpolargl"
           }
          ],
          "scatterternary": [
           {
            "marker": {
             "colorbar": {
              "outlinewidth": 0,
              "ticks": ""
             }
            },
            "type": "scatterternary"
           }
          ],
          "surface": [
           {
            "colorbar": {
             "outlinewidth": 0,
             "ticks": ""
            },
            "colorscale": [
             [
              0,
              "#0d0887"
             ],
             [
              0.1111111111111111,
              "#46039f"
             ],
             [
              0.2222222222222222,
              "#7201a8"
             ],
             [
              0.3333333333333333,
              "#9c179e"
             ],
             [
              0.4444444444444444,
              "#bd3786"
             ],
             [
              0.5555555555555556,
              "#d8576b"
             ],
             [
              0.6666666666666666,
              "#ed7953"
             ],
             [
              0.7777777777777778,
              "#fb9f3a"
             ],
             [
              0.8888888888888888,
              "#fdca26"
             ],
             [
              1,
              "#f0f921"
             ]
            ],
            "type": "surface"
           }
          ],
          "table": [
           {
            "cells": {
             "fill": {
              "color": "#EBF0F8"
             },
             "line": {
              "color": "white"
             }
            },
            "header": {
             "fill": {
              "color": "#C8D4E3"
             },
             "line": {
              "color": "white"
             }
            },
            "type": "table"
           }
          ]
         },
         "layout": {
          "annotationdefaults": {
           "arrowcolor": "#2a3f5f",
           "arrowhead": 0,
           "arrowwidth": 1
          },
          "autotypenumbers": "strict",
          "coloraxis": {
           "colorbar": {
            "outlinewidth": 0,
            "ticks": ""
           }
          },
          "colorscale": {
           "diverging": [
            [
             0,
             "#8e0152"
            ],
            [
             0.1,
             "#c51b7d"
            ],
            [
             0.2,
             "#de77ae"
            ],
            [
             0.3,
             "#f1b6da"
            ],
            [
             0.4,
             "#fde0ef"
            ],
            [
             0.5,
             "#f7f7f7"
            ],
            [
             0.6,
             "#e6f5d0"
            ],
            [
             0.7,
             "#b8e186"
            ],
            [
             0.8,
             "#7fbc41"
            ],
            [
             0.9,
             "#4d9221"
            ],
            [
             1,
             "#276419"
            ]
           ],
           "sequential": [
            [
             0,
             "#0d0887"
            ],
            [
             0.1111111111111111,
             "#46039f"
            ],
            [
             0.2222222222222222,
             "#7201a8"
            ],
            [
             0.3333333333333333,
             "#9c179e"
            ],
            [
             0.4444444444444444,
             "#bd3786"
            ],
            [
             0.5555555555555556,
             "#d8576b"
            ],
            [
             0.6666666666666666,
             "#ed7953"
            ],
            [
             0.7777777777777778,
             "#fb9f3a"
            ],
            [
             0.8888888888888888,
             "#fdca26"
            ],
            [
             1,
             "#f0f921"
            ]
           ],
           "sequentialminus": [
            [
             0,
             "#0d0887"
            ],
            [
             0.1111111111111111,
             "#46039f"
            ],
            [
             0.2222222222222222,
             "#7201a8"
            ],
            [
             0.3333333333333333,
             "#9c179e"
            ],
            [
             0.4444444444444444,
             "#bd3786"
            ],
            [
             0.5555555555555556,
             "#d8576b"
            ],
            [
             0.6666666666666666,
             "#ed7953"
            ],
            [
             0.7777777777777778,
             "#fb9f3a"
            ],
            [
             0.8888888888888888,
             "#fdca26"
            ],
            [
             1,
             "#f0f921"
            ]
           ]
          },
          "colorway": [
           "#636efa",
           "#EF553B",
           "#00cc96",
           "#ab63fa",
           "#FFA15A",
           "#19d3f3",
           "#FF6692",
           "#B6E880",
           "#FF97FF",
           "#FECB52"
          ],
          "font": {
           "color": "#2a3f5f"
          },
          "geo": {
           "bgcolor": "white",
           "lakecolor": "white",
           "landcolor": "#E5ECF6",
           "showlakes": true,
           "showland": true,
           "subunitcolor": "white"
          },
          "hoverlabel": {
           "align": "left"
          },
          "hovermode": "closest",
          "mapbox": {
           "style": "light"
          },
          "paper_bgcolor": "white",
          "plot_bgcolor": "#E5ECF6",
          "polar": {
           "angularaxis": {
            "gridcolor": "white",
            "linecolor": "white",
            "ticks": ""
           },
           "bgcolor": "#E5ECF6",
           "radialaxis": {
            "gridcolor": "white",
            "linecolor": "white",
            "ticks": ""
           }
          },
          "scene": {
           "xaxis": {
            "backgroundcolor": "#E5ECF6",
            "gridcolor": "white",
            "gridwidth": 2,
            "linecolor": "white",
            "showbackground": true,
            "ticks": "",
            "zerolinecolor": "white"
           },
           "yaxis": {
            "backgroundcolor": "#E5ECF6",
            "gridcolor": "white",
            "gridwidth": 2,
            "linecolor": "white",
            "showbackground": true,
            "ticks": "",
            "zerolinecolor": "white"
           },
           "zaxis": {
            "backgroundcolor": "#E5ECF6",
            "gridcolor": "white",
            "gridwidth": 2,
            "linecolor": "white",
            "showbackground": true,
            "ticks": "",
            "zerolinecolor": "white"
           }
          },
          "shapedefaults": {
           "line": {
            "color": "#2a3f5f"
           }
          },
          "ternary": {
           "aaxis": {
            "gridcolor": "white",
            "linecolor": "white",
            "ticks": ""
           },
           "baxis": {
            "gridcolor": "white",
            "linecolor": "white",
            "ticks": ""
           },
           "bgcolor": "#E5ECF6",
           "caxis": {
            "gridcolor": "white",
            "linecolor": "white",
            "ticks": ""
           }
          },
          "title": {
           "x": 0.05
          },
          "xaxis": {
           "automargin": true,
           "gridcolor": "white",
           "linecolor": "white",
           "ticks": "",
           "title": {
            "standoff": 15
           },
           "zerolinecolor": "white",
           "zerolinewidth": 2
          },
          "yaxis": {
           "automargin": true,
           "gridcolor": "white",
           "linecolor": "white",
           "ticks": "",
           "title": {
            "standoff": 15
           },
           "zerolinecolor": "white",
           "zerolinewidth": 2
          }
         }
        },
        "title": {
         "text": "Average Sentiment and Volume by Month"
        },
        "xaxis": {
         "anchor": "y",
         "domain": [
          0,
          0.94
         ],
         "title": {
          "text": "Month"
         }
        },
        "yaxis": {
         "anchor": "x",
         "domain": [
          0,
          1
         ],
         "title": {
          "text": "Average Sentiment"
         }
        },
        "yaxis2": {
         "anchor": "x",
         "overlaying": "y",
         "side": "right",
         "title": {
          "text": "Volume"
         }
        }
       }
      }
     },
     "metadata": {},
     "output_type": "display_data"
    }
   ],
   "source": [
    "# show line chart of sentiment over time (by month)\n",
    "\n",
    "# get month from date\n",
    "df['Month'] = pd.to_datetime(df['Date']).dt.to_period('M').astype(str)\n",
    "\n",
    "# compute volume (number of rows in the df)\n",
    "df['Volume'] = 1\n",
    "\n",
    "# group by month and get mean sentiment and also sum of volume\n",
    "df = df.groupby('Month').agg({'Avg_Sentiment': 'mean', 'Volume': 'sum'}).reset_index()\n",
    "\n",
    "# plot both the average sentiment and the volume (same chart, two y axes to allow for different scales)\n",
    "# (secondary y-axis with subplots, use add_trace() to add the second trace)\n",
    "fig = make_subplots(specs=[[{\"secondary_y\": True}]])\n",
    "\n",
    "fig.add_trace(\n",
    "    \n",
    "    go.Scatter(x=df['Month'], y=df['Avg_Sentiment'], name=\"Average Sentiment\"),\n",
    "    secondary_y=False,\n",
    ")\n",
    "\n",
    "fig.add_trace(\n",
    "    go.Scatter(x=df['Month'], y=df['Volume'], name=\"Volume\"),\n",
    "    secondary_y=True,\n",
    ")\n",
    "\n",
    "fig.update_layout(\n",
    "    title_text=\"Average Sentiment and Volume by Month\",\n",
    "    xaxis_title=\"Month\",\n",
    "    yaxis_title=\"Average Sentiment\",\n",
    "    yaxis2_title=\"Volume\",\n",
    "    legend_title=\"Legend Title\",\n",
    "    font=dict(\n",
    "        family=\"Courier New, monospace\",\n",
    "        size=18,\n",
    "        color=\"#7f7f7f\"\n",
    "    )\n",
    ")\n",
    "\n",
    "fig.show()"
   ]
  },
  {
   "cell_type": "code",
   "execution_count": 5,
   "metadata": {},
   "outputs": [
    {
     "name": "stderr",
     "output_type": "stream",
     "text": [
      "/var/folders/4c/w2fyysz50_j_234jdvb_c9wr0000gn/T/ipykernel_37713/1367360031.py:3: DtypeWarning:\n",
      "\n",
      "Columns (11) have mixed types. Specify dtype option on import or set low_memory=False.\n",
      "\n",
      "/var/folders/4c/w2fyysz50_j_234jdvb_c9wr0000gn/T/ipykernel_37713/1367360031.py:4: UserWarning:\n",
      "\n",
      "Parsing dates in DD/MM/YYYY format when dayfirst=False (the default) was specified. This may lead to inconsistently parsed dates! Specify a format to ensure consistent parsing.\n",
      "\n"
     ]
    },
    {
     "data": {
      "text/html": [
       "<div>\n",
       "<style scoped>\n",
       "    .dataframe tbody tr th:only-of-type {\n",
       "        vertical-align: middle;\n",
       "    }\n",
       "\n",
       "    .dataframe tbody tr th {\n",
       "        vertical-align: top;\n",
       "    }\n",
       "\n",
       "    .dataframe thead th {\n",
       "        text-align: right;\n",
       "    }\n",
       "</style>\n",
       "<table border=\"1\" class=\"dataframe\">\n",
       "  <thead>\n",
       "    <tr style=\"text-align: right;\">\n",
       "      <th></th>\n",
       "      <th>Post Title</th>\n",
       "      <th>ID</th>\n",
       "    </tr>\n",
       "  </thead>\n",
       "  <tbody>\n",
       "    <tr>\n",
       "      <th>2</th>\n",
       "      <td>Artificial Intelligence Went Rogue, Created It...</td>\n",
       "      <td>45</td>\n",
       "    </tr>\n",
       "    <tr>\n",
       "      <th>6</th>\n",
       "      <td>Geordie Rose | Quantum Computing: Artificial I...</td>\n",
       "      <td>9</td>\n",
       "    </tr>\n",
       "    <tr>\n",
       "      <th>0</th>\n",
       "      <td>A.I.SHA My Virtual Girlfriend Season 2 | Episo...</td>\n",
       "      <td>7</td>\n",
       "    </tr>\n",
       "    <tr>\n",
       "      <th>4</th>\n",
       "      <td>Drones Getting Smarter with AI | Intel</td>\n",
       "      <td>6</td>\n",
       "    </tr>\n",
       "    <tr>\n",
       "      <th>1</th>\n",
       "      <td>AI - Story</td>\n",
       "      <td>4</td>\n",
       "    </tr>\n",
       "  </tbody>\n",
       "</table>\n",
       "</div>"
      ],
      "text/plain": [
       "                                          Post Title  ID\n",
       "2  Artificial Intelligence Went Rogue, Created It...  45\n",
       "6  Geordie Rose | Quantum Computing: Artificial I...   9\n",
       "0  A.I.SHA My Virtual Girlfriend Season 2 | Episo...   7\n",
       "4             Drones Getting Smarter with AI | Intel   6\n",
       "1                                         AI - Story   4"
      ]
     },
     "execution_count": 5,
     "metadata": {},
     "output_type": "execute_result"
    }
   ],
   "source": [
    "# what are the most popular posts during each spike?\n",
    "spike_month = '2017-08'\n",
    "events_df = pd.read_csv('../../data/merged_data_sentiment.csv')\n",
    "events_df['Month'] = pd.to_datetime(events_df['Date']).dt.to_period('M').astype(str)\n",
    "events_df = events_df[events_df['Month'] == spike_month]\n",
    "events_df = events_df.groupby('Post Title').agg({'ID': 'count'}).reset_index()\n",
    "events_df = events_df.sort_values(by='ID', ascending=False)\n",
    "events_df.head()"
   ]
  },
  {
   "cell_type": "code",
   "execution_count": 6,
   "metadata": {},
   "outputs": [
    {
     "name": "stderr",
     "output_type": "stream",
     "text": [
      "/var/folders/4c/w2fyysz50_j_234jdvb_c9wr0000gn/T/ipykernel_37713/604474362.py:1: DtypeWarning:\n",
      "\n",
      "Columns (11) have mixed types. Specify dtype option on import or set low_memory=False.\n",
      "\n",
      "/var/folders/4c/w2fyysz50_j_234jdvb_c9wr0000gn/T/ipykernel_37713/604474362.py:4: UserWarning:\n",
      "\n",
      "Parsing dates in DD/MM/YYYY format when dayfirst=False (the default) was specified. This may lead to inconsistently parsed dates! Specify a format to ensure consistent parsing.\n",
      "\n"
     ]
    },
    {
     "data": {
      "text/html": [
       "<div>\n",
       "<style scoped>\n",
       "    .dataframe tbody tr th:only-of-type {\n",
       "        vertical-align: middle;\n",
       "    }\n",
       "\n",
       "    .dataframe tbody tr th {\n",
       "        vertical-align: top;\n",
       "    }\n",
       "\n",
       "    .dataframe thead th {\n",
       "        text-align: right;\n",
       "    }\n",
       "</style>\n",
       "<table border=\"1\" class=\"dataframe\">\n",
       "  <thead>\n",
       "    <tr style=\"text-align: right;\">\n",
       "      <th></th>\n",
       "      <th>0</th>\n",
       "      <th>1</th>\n",
       "      <th>2</th>\n",
       "      <th>3</th>\n",
       "      <th>4</th>\n",
       "      <th>5</th>\n",
       "      <th>6</th>\n",
       "      <th>7</th>\n",
       "      <th>8</th>\n",
       "      <th>9</th>\n",
       "    </tr>\n",
       "  </thead>\n",
       "  <tbody>\n",
       "    <tr>\n",
       "      <th>Year</th>\n",
       "      <td>2013</td>\n",
       "      <td>2014</td>\n",
       "      <td>2015</td>\n",
       "      <td>2016</td>\n",
       "      <td>2017</td>\n",
       "      <td>2018</td>\n",
       "      <td>2019</td>\n",
       "      <td>2020</td>\n",
       "      <td>2021</td>\n",
       "      <td>2022</td>\n",
       "    </tr>\n",
       "    <tr>\n",
       "      <th>Volume</th>\n",
       "      <td>1.0</td>\n",
       "      <td>5.5</td>\n",
       "      <td>16.0</td>\n",
       "      <td>29.5</td>\n",
       "      <td>41.5</td>\n",
       "      <td>104.0</td>\n",
       "      <td>230.0</td>\n",
       "      <td>754.0</td>\n",
       "      <td>298.0</td>\n",
       "      <td>339.5</td>\n",
       "    </tr>\n",
       "  </tbody>\n",
       "</table>\n",
       "</div>"
      ],
      "text/plain": [
       "           0     1     2     3     4      5      6      7      8      9\n",
       "Year    2013  2014  2015  2016  2017   2018   2019   2020   2021   2022\n",
       "Volume   1.0   5.5  16.0  29.5  41.5  104.0  230.0  754.0  298.0  339.5"
      ]
     },
     "execution_count": 6,
     "metadata": {},
     "output_type": "execute_result"
    }
   ],
   "source": [
    "baseline_df = pd.read_csv('../../data/merged_data_sentiment.csv')\n",
    "\n",
    "# get month from date\n",
    "baseline_df['Month'] = pd.to_datetime(baseline_df['Date']).dt.to_period('M').astype(str)\n",
    "\n",
    "# compute volume (number of rows in the df)\n",
    "baseline_df['Volume'] = 1\n",
    "\n",
    "# group by month and get mean sentiment and also sum of volume\n",
    "baseline_df = baseline_df.groupby('Month').agg({'Volume': 'sum'}).reset_index()\n",
    "\n",
    "# exclude data from July 2019, October 2020, August 2021, and the year 2023\n",
    "baseline_df = baseline_df[~baseline_df['Month'].isin(['2019-07', '2020-10', '2021-08'])]\n",
    "baseline_df = baseline_df[~baseline_df['Month'].str.contains('2023')]\n",
    "\n",
    "# get median volume in each year\n",
    "baseline_df['Year'] = pd.to_datetime(baseline_df['Month']).dt.to_period('Y').astype(str)\n",
    "baseline_df = baseline_df.groupby('Year').agg({'Volume': 'median'}).reset_index()\n",
    "baseline_df.T"
   ]
  },
  {
   "cell_type": "code",
   "execution_count": 8,
   "metadata": {},
   "outputs": [
    {
     "name": "stderr",
     "output_type": "stream",
     "text": [
      "/var/folders/4c/w2fyysz50_j_234jdvb_c9wr0000gn/T/ipykernel_37713/3966298676.py:2: DtypeWarning:\n",
      "\n",
      "Columns (11) have mixed types. Specify dtype option on import or set low_memory=False.\n",
      "\n",
      "/var/folders/4c/w2fyysz50_j_234jdvb_c9wr0000gn/T/ipykernel_37713/3966298676.py:3: UserWarning:\n",
      "\n",
      "Parsing dates in DD/MM/YYYY format when dayfirst=False (the default) was specified. This may lead to inconsistently parsed dates! Specify a format to ensure consistent parsing.\n",
      "\n"
     ]
    },
    {
     "data": {
      "text/html": [
       "<div>\n",
       "<style scoped>\n",
       "    .dataframe tbody tr th:only-of-type {\n",
       "        vertical-align: middle;\n",
       "    }\n",
       "\n",
       "    .dataframe tbody tr th {\n",
       "        vertical-align: top;\n",
       "    }\n",
       "\n",
       "    .dataframe thead th {\n",
       "        text-align: right;\n",
       "    }\n",
       "</style>\n",
       "<table border=\"1\" class=\"dataframe\">\n",
       "  <thead>\n",
       "    <tr style=\"text-align: right;\">\n",
       "      <th></th>\n",
       "      <th>0</th>\n",
       "      <th>1</th>\n",
       "      <th>2</th>\n",
       "      <th>3</th>\n",
       "      <th>4</th>\n",
       "    </tr>\n",
       "  </thead>\n",
       "  <tbody>\n",
       "    <tr>\n",
       "      <th>Year</th>\n",
       "      <td>2019</td>\n",
       "      <td>2020</td>\n",
       "      <td>2021</td>\n",
       "      <td>2022</td>\n",
       "      <td>2023</td>\n",
       "    </tr>\n",
       "    <tr>\n",
       "      <th>Avg_Sentiment</th>\n",
       "      <td>0.05</td>\n",
       "      <td>0.04</td>\n",
       "      <td>-0.04</td>\n",
       "      <td>0.14</td>\n",
       "      <td>-0.05</td>\n",
       "    </tr>\n",
       "    <tr>\n",
       "      <th>Volume</th>\n",
       "      <td>5360</td>\n",
       "      <td>11134</td>\n",
       "      <td>8273</td>\n",
       "      <td>4719</td>\n",
       "      <td>34820</td>\n",
       "    </tr>\n",
       "  </tbody>\n",
       "</table>\n",
       "</div>"
      ],
      "text/plain": [
       "                  0      1     2     3      4\n",
       "Year           2019   2020  2021  2022   2023\n",
       "Avg_Sentiment  0.05   0.04 -0.04  0.14  -0.05\n",
       "Volume         5360  11134  8273  4719  34820"
      ]
     },
     "execution_count": 8,
     "metadata": {},
     "output_type": "execute_result"
    }
   ],
   "source": [
    "# get average sentiment in each year\n",
    "avg_yr_df = pd.read_csv('../../data/merged_data_sentiment.csv')\n",
    "avg_yr_df['Year'] = pd.to_datetime(avg_yr_df['Date']).dt.to_period('Y').astype(str)\n",
    "avg_sent(avg_yr_df)\n",
    "avg_yr_df['Volume'] = 1\n",
    "avg_yr_df = avg_yr_df.groupby('Year').agg({'Avg_Sentiment': 'mean', 'Volume': 'sum'}).reset_index()\n",
    "# only data from 2019 onwards\n",
    "avg_yr_df = avg_yr_df[avg_yr_df['Year'] >= '2019'].reset_index(drop=True)\n",
    "# round to 2 decimal places\n",
    "avg_yr_df['Avg_Sentiment'] = avg_yr_df['Avg_Sentiment'].round(2)\n",
    "avg_yr_df.T"
   ]
  }
 ],
 "metadata": {
  "kernelspec": {
   "display_name": "y3_ads",
   "language": "python",
   "name": "python3"
  },
  "language_info": {
   "codemirror_mode": {
    "name": "ipython",
    "version": 3
   },
   "file_extension": ".py",
   "mimetype": "text/x-python",
   "name": "python",
   "nbconvert_exporter": "python",
   "pygments_lexer": "ipython3",
   "version": "3.11.0"
  },
  "orig_nbformat": 4
 },
 "nbformat": 4,
 "nbformat_minor": 2
}
