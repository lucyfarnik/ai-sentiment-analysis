{
 "cells": [
  {
   "cell_type": "code",
   "execution_count": 1,
   "metadata": {},
   "outputs": [
    {
     "data": {
      "text/html": [
       "<div>\n",
       "<style scoped>\n",
       "    .dataframe tbody tr th:only-of-type {\n",
       "        vertical-align: middle;\n",
       "    }\n",
       "\n",
       "    .dataframe tbody tr th {\n",
       "        vertical-align: top;\n",
       "    }\n",
       "\n",
       "    .dataframe thead th {\n",
       "        text-align: right;\n",
       "    }\n",
       "</style>\n",
       "<table border=\"1\" class=\"dataframe\">\n",
       "  <thead>\n",
       "    <tr style=\"text-align: right;\">\n",
       "      <th></th>\n",
       "      <th>ID</th>\n",
       "      <th>Content</th>\n",
       "      <th>User</th>\n",
       "      <th>Date</th>\n",
       "      <th>Location</th>\n",
       "      <th>Reactions</th>\n",
       "      <th>N_Children</th>\n",
       "      <th>Post Title</th>\n",
       "      <th>Platfrom</th>\n",
       "      <th>meta</th>\n",
       "      <th>lang</th>\n",
       "      <th>Subreddit</th>\n",
       "      <th>Unnamed: 0</th>\n",
       "      <th>Sentiment</th>\n",
       "    </tr>\n",
       "  </thead>\n",
       "  <tbody>\n",
       "    <tr>\n",
       "      <th>0</th>\n",
       "      <td>UgyDawiDJRU5j8e9g6x4AaABAg</td>\n",
       "      <td>i love my mum~!TAT</td>\n",
       "      <td>carol lui</td>\n",
       "      <td>2013-04-30</td>\n",
       "      <td>NaN</td>\n",
       "      <td>1.0</td>\n",
       "      <td>0.0</td>\n",
       "      <td>AI - ママへ (short ver.) Music Video</td>\n",
       "      <td>youtube</td>\n",
       "      <td>{'vid_id': 'JjVqw-rKqJo', 'user_id': 'UCgxe0Tv...</td>\n",
       "      <td>en</td>\n",
       "      <td>NaN</td>\n",
       "      <td>NaN</td>\n",
       "      <td>0.9998131394386292,0.9847044944763184,0.992429...</td>\n",
       "    </tr>\n",
       "    <tr>\n",
       "      <th>1</th>\n",
       "      <td>Ugx5UKqZcGpX0Qi8art4AaABAg</td>\n",
       "      <td>I was in tears until the lady gave her mother ...</td>\n",
       "      <td>C Ladner</td>\n",
       "      <td>2013-05-13</td>\n",
       "      <td>NaN</td>\n",
       "      <td>0.0</td>\n",
       "      <td>0.0</td>\n",
       "      <td>AI - ママへ (short ver.) Music Video</td>\n",
       "      <td>youtube</td>\n",
       "      <td>{'vid_id': 'JjVqw-rKqJo', 'user_id': 'UC98Fh4X...</td>\n",
       "      <td>en</td>\n",
       "      <td>NaN</td>\n",
       "      <td>NaN</td>\n",
       "      <td>-0.8607058525085449,-0.4791601002216339,0,0.0,...</td>\n",
       "    </tr>\n",
       "    <tr>\n",
       "      <th>2</th>\n",
       "      <td>UgybIB4C2ppmGqU40WV4AaABAg</td>\n",
       "      <td>I like her voice!! So deep, i thought the voic...</td>\n",
       "      <td>joseph jr.</td>\n",
       "      <td>2013-05-24</td>\n",
       "      <td>PH</td>\n",
       "      <td>0.0</td>\n",
       "      <td>0.0</td>\n",
       "      <td>AI - ママへ (short ver.) Music Video</td>\n",
       "      <td>youtube</td>\n",
       "      <td>{'vid_id': 'JjVqw-rKqJo', 'user_id': 'UCUe_b0X...</td>\n",
       "      <td>en</td>\n",
       "      <td>NaN</td>\n",
       "      <td>NaN</td>\n",
       "      <td>0.9991986155509949,0.9696046113967896,0.984618...</td>\n",
       "    </tr>\n",
       "    <tr>\n",
       "      <th>3</th>\n",
       "      <td>Ugyi1lQIQnmZ2jVwk4B4AaABAg</td>\n",
       "      <td>A verve and flow equal to Maria Carrey's debut...</td>\n",
       "      <td>medusanerve</td>\n",
       "      <td>2013-05-28</td>\n",
       "      <td>NaN</td>\n",
       "      <td>1.0</td>\n",
       "      <td>0.0</td>\n",
       "      <td>AI - ママへ (short ver.) Music Video</td>\n",
       "      <td>youtube</td>\n",
       "      <td>{'vid_id': 'JjVqw-rKqJo', 'user_id': 'UCILrk7Q...</td>\n",
       "      <td>en</td>\n",
       "      <td>NaN</td>\n",
       "      <td>NaN</td>\n",
       "      <td>0.9990953207015991,0.901877224445343,0.9919101...</td>\n",
       "    </tr>\n",
       "    <tr>\n",
       "      <th>4</th>\n",
       "      <td>Ugw2iIVWPilqFB7RMEl4AaABAg</td>\n",
       "      <td>great voice:D\\n</td>\n",
       "      <td>ramon goedendorp</td>\n",
       "      <td>2013-06-08</td>\n",
       "      <td>NaN</td>\n",
       "      <td>1.0</td>\n",
       "      <td>0.0</td>\n",
       "      <td>AI - ママへ (short ver.) Music Video</td>\n",
       "      <td>youtube</td>\n",
       "      <td>{'vid_id': 'JjVqw-rKqJo', 'user_id': 'UCNs25ls...</td>\n",
       "      <td>en</td>\n",
       "      <td>NaN</td>\n",
       "      <td>NaN</td>\n",
       "      <td>0.9998722076416016,0.9386110305786133,0.989294...</td>\n",
       "    </tr>\n",
       "  </tbody>\n",
       "</table>\n",
       "</div>"
      ],
      "text/plain": [
       "                           ID  \\\n",
       "0  UgyDawiDJRU5j8e9g6x4AaABAg   \n",
       "1  Ugx5UKqZcGpX0Qi8art4AaABAg   \n",
       "2  UgybIB4C2ppmGqU40WV4AaABAg   \n",
       "3  Ugyi1lQIQnmZ2jVwk4B4AaABAg   \n",
       "4  Ugw2iIVWPilqFB7RMEl4AaABAg   \n",
       "\n",
       "                                             Content              User  \\\n",
       "0                                 i love my mum~!TAT         carol lui   \n",
       "1  I was in tears until the lady gave her mother ...          C Ladner   \n",
       "2  I like her voice!! So deep, i thought the voic...        joseph jr.   \n",
       "3  A verve and flow equal to Maria Carrey's debut...       medusanerve   \n",
       "4                                    great voice:D\\n  ramon goedendorp   \n",
       "\n",
       "         Date Location  Reactions  N_Children  \\\n",
       "0  2013-04-30      NaN        1.0         0.0   \n",
       "1  2013-05-13      NaN        0.0         0.0   \n",
       "2  2013-05-24       PH        0.0         0.0   \n",
       "3  2013-05-28      NaN        1.0         0.0   \n",
       "4  2013-06-08      NaN        1.0         0.0   \n",
       "\n",
       "                          Post Title Platfrom  \\\n",
       "0  AI - ママへ (short ver.) Music Video  youtube   \n",
       "1  AI - ママへ (short ver.) Music Video  youtube   \n",
       "2  AI - ママへ (short ver.) Music Video  youtube   \n",
       "3  AI - ママへ (short ver.) Music Video  youtube   \n",
       "4  AI - ママへ (short ver.) Music Video  youtube   \n",
       "\n",
       "                                                meta lang Subreddit  \\\n",
       "0  {'vid_id': 'JjVqw-rKqJo', 'user_id': 'UCgxe0Tv...   en       NaN   \n",
       "1  {'vid_id': 'JjVqw-rKqJo', 'user_id': 'UC98Fh4X...   en       NaN   \n",
       "2  {'vid_id': 'JjVqw-rKqJo', 'user_id': 'UCUe_b0X...   en       NaN   \n",
       "3  {'vid_id': 'JjVqw-rKqJo', 'user_id': 'UCILrk7Q...   en       NaN   \n",
       "4  {'vid_id': 'JjVqw-rKqJo', 'user_id': 'UCNs25ls...   en       NaN   \n",
       "\n",
       "   Unnamed: 0                                          Sentiment  \n",
       "0         NaN  0.9998131394386292,0.9847044944763184,0.992429...  \n",
       "1         NaN  -0.8607058525085449,-0.4791601002216339,0,0.0,...  \n",
       "2         NaN  0.9991986155509949,0.9696046113967896,0.984618...  \n",
       "3         NaN  0.9990953207015991,0.901877224445343,0.9919101...  \n",
       "4         NaN  0.9998722076416016,0.9386110305786133,0.989294...  "
      ]
     },
     "execution_count": 1,
     "metadata": {},
     "output_type": "execute_result"
    }
   ],
   "source": [
    "import pandas as pd\n",
    "import plotly.graph_objects as go\n",
    "from plotly.subplots import make_subplots\n",
    "\n",
    "raw_df = pd.read_csv('../../data/merged_data_sentiment.csv')\n",
    "raw_df.head()"
   ]
  },
  {
   "cell_type": "code",
   "execution_count": 2,
   "metadata": {},
   "outputs": [],
   "source": [
    "# get mean sentiment for each comment\n",
    "for i, row in raw_df.iterrows():\n",
    "  sent = row['Sentiment'].split(',')\n",
    "  sent = [float(s) for s in sent]\n",
    "  raw_df.at[i, 'Avg_Sentiment'] = sum(sent) / len(sent)"
   ]
  },
  {
   "cell_type": "code",
   "execution_count": 3,
   "metadata": {},
   "outputs": [
    {
     "data": {
      "application/vnd.plotly.v1+json": {
       "config": {
        "plotlyServerURL": "https://plot.ly"
       },
       "data": [
        {
         "name": "Average Sentiment",
         "type": "scatter",
         "x": [
          "2013-04",
          "2013-05",
          "2013-06",
          "2013-08",
          "2013-09",
          "2013-11",
          "2013-12",
          "2014-01",
          "2014-02",
          "2014-03",
          "2014-04",
          "2014-05",
          "2014-06",
          "2014-07",
          "2014-08",
          "2014-09",
          "2014-10",
          "2014-11",
          "2014-12",
          "2015-01",
          "2015-02",
          "2015-03",
          "2015-04",
          "2015-05",
          "2015-06",
          "2015-07",
          "2015-08",
          "2015-09",
          "2015-10",
          "2015-11",
          "2015-12",
          "2016-01",
          "2016-02",
          "2016-03",
          "2016-04",
          "2016-05",
          "2016-06",
          "2016-07",
          "2016-08",
          "2016-09",
          "2016-10",
          "2016-11",
          "2016-12",
          "2017-01",
          "2017-02",
          "2017-03",
          "2017-04",
          "2017-05",
          "2017-06",
          "2017-07",
          "2017-08",
          "2017-09",
          "2017-10",
          "2017-11",
          "2017-12",
          "2018-01",
          "2018-02",
          "2018-03",
          "2018-04",
          "2018-05",
          "2018-06",
          "2018-07",
          "2018-08",
          "2018-09",
          "2018-10",
          "2018-11",
          "2018-12",
          "2019-01",
          "2019-02",
          "2019-03",
          "2019-04",
          "2019-05",
          "2019-06",
          "2019-07",
          "2019-08",
          "2019-09",
          "2019-10",
          "2019-11",
          "2019-12",
          "2020-01",
          "2020-02",
          "2020-03",
          "2020-04",
          "2020-05",
          "2020-06",
          "2020-07",
          "2020-08",
          "2020-09",
          "2020-10",
          "2020-11",
          "2020-12",
          "2021-01",
          "2021-02",
          "2021-03",
          "2021-04",
          "2021-05",
          "2021-06",
          "2021-07",
          "2021-08",
          "2021-09",
          "2021-10",
          "2021-11",
          "2021-12",
          "2022-01",
          "2022-02",
          "2022-03",
          "2022-04",
          "2022-05",
          "2022-06",
          "2022-07",
          "2022-08",
          "2022-09",
          "2022-10",
          "2022-11",
          "2022-12",
          "2023-01",
          "2023-02",
          "2023-03",
          "2023-04"
         ],
         "xaxis": "x",
         "y": [
          0.7410912576675415,
          0.4231299411535263,
          0.7073768520355225,
          0.20717422122160598,
          0.01760015885035197,
          0.463314564259847,
          0.6758063038084242,
          0.38719769383536445,
          0.6932394931316376,
          0.24072968886693322,
          0.46890783188826707,
          0.3084697279727017,
          0.1262819262841414,
          0.4559251139767964,
          0.003776901525164395,
          0.03445035355356005,
          -0.07800380095930957,
          0.6204700798599808,
          0.06979163233064123,
          -0.4074529830552914,
          0.35398517317904366,
          0.05526328324073104,
          0.1909426284452469,
          0.2641429361765583,
          0.3301248203906146,
          0.1723962496371917,
          0.25218234680758583,
          0.2147607412997971,
          -0.0238344097689361,
          -0.11637395882559473,
          0.203945938871903,
          -0.04218308102354172,
          0.15330138853788744,
          0.4815205903716162,
          0.37261255132778276,
          0.12497613369629226,
          0.03375801057576621,
          0.10313961453228693,
          -0.13915308470117418,
          -0.21717602146249199,
          -0.23201652910122145,
          -0.17097625499822922,
          -0.06306854964613619,
          0.049167179878712386,
          -0.07403346734588745,
          -0.14686269846791217,
          0.449953167491637,
          0.13314224498845625,
          0.012390550208275222,
          0.04632592288159252,
          0.002729161102134158,
          0.029168427646349346,
          0.11358446172941346,
          0.21579542040256505,
          0.014689427259493867,
          -0.04806324438990935,
          0.3286470279971234,
          0.14598557015515956,
          0.3348481619967484,
          0.2817302702840945,
          0.18227485810126237,
          0.36097745011824894,
          0.3213153982339444,
          0.23694825748858864,
          0.0012219075935504752,
          -0.0017035014768980534,
          -0.053872238695331,
          0.3477930551108179,
          0.23328950994210965,
          -0.0013315325690338388,
          0.11289752497469573,
          0.10500216429210336,
          0.1131916472599755,
          -0.035687421569779026,
          -0.03377418883411036,
          0.16802932673698293,
          0.05848016286810487,
          -0.05050735053242327,
          -0.0838863931166646,
          -0.07945985909056692,
          -0.020712897929819504,
          -0.08343625182471641,
          -0.09085561395617502,
          0.09429821267084855,
          -0.08332537862392579,
          -0.046119269116417935,
          -0.07510773949743212,
          0.03332930356076659,
          0.054002841185790657,
          0.10601951906229554,
          0.08236888394247943,
          -0.04847390468905602,
          0.03264127420767098,
          -0.01362612740138517,
          0.020926893971753544,
          0.02000558541567339,
          0.06495072041208695,
          -0.026878490612920657,
          -0.06368063142555688,
          -0.09580791153448379,
          0.012800039582552927,
          -0.004182785302801063,
          0.06908066550614542,
          0.17497155624916103,
          0.08360891100331252,
          0.0649339474856766,
          0.17346822832475733,
          0.16426169778005265,
          0.16192141321088682,
          0.11185506704322057,
          0.1806263790536125,
          0.017429054816486576,
          0.20640008631354437,
          0.12517149152596527,
          0.11773461356458248,
          0.04052002886432179,
          -0.09546184395183584,
          0.03180113989947075,
          -0.1547627771243958
         ],
         "yaxis": "y"
        },
        {
         "name": "Volume",
         "type": "scatter",
         "x": [
          "2013-04",
          "2013-05",
          "2013-06",
          "2013-08",
          "2013-09",
          "2013-11",
          "2013-12",
          "2014-01",
          "2014-02",
          "2014-03",
          "2014-04",
          "2014-05",
          "2014-06",
          "2014-07",
          "2014-08",
          "2014-09",
          "2014-10",
          "2014-11",
          "2014-12",
          "2015-01",
          "2015-02",
          "2015-03",
          "2015-04",
          "2015-05",
          "2015-06",
          "2015-07",
          "2015-08",
          "2015-09",
          "2015-10",
          "2015-11",
          "2015-12",
          "2016-01",
          "2016-02",
          "2016-03",
          "2016-04",
          "2016-05",
          "2016-06",
          "2016-07",
          "2016-08",
          "2016-09",
          "2016-10",
          "2016-11",
          "2016-12",
          "2017-01",
          "2017-02",
          "2017-03",
          "2017-04",
          "2017-05",
          "2017-06",
          "2017-07",
          "2017-08",
          "2017-09",
          "2017-10",
          "2017-11",
          "2017-12",
          "2018-01",
          "2018-02",
          "2018-03",
          "2018-04",
          "2018-05",
          "2018-06",
          "2018-07",
          "2018-08",
          "2018-09",
          "2018-10",
          "2018-11",
          "2018-12",
          "2019-01",
          "2019-02",
          "2019-03",
          "2019-04",
          "2019-05",
          "2019-06",
          "2019-07",
          "2019-08",
          "2019-09",
          "2019-10",
          "2019-11",
          "2019-12",
          "2020-01",
          "2020-02",
          "2020-03",
          "2020-04",
          "2020-05",
          "2020-06",
          "2020-07",
          "2020-08",
          "2020-09",
          "2020-10",
          "2020-11",
          "2020-12",
          "2021-01",
          "2021-02",
          "2021-03",
          "2021-04",
          "2021-05",
          "2021-06",
          "2021-07",
          "2021-08",
          "2021-09",
          "2021-10",
          "2021-11",
          "2021-12",
          "2022-01",
          "2022-02",
          "2022-03",
          "2022-04",
          "2022-05",
          "2022-06",
          "2022-07",
          "2022-08",
          "2022-09",
          "2022-10",
          "2022-11",
          "2022-12",
          "2023-01",
          "2023-02",
          "2023-03",
          "2023-04"
         ],
         "xaxis": "x",
         "y": [
          1,
          3,
          2,
          6,
          1,
          1,
          1,
          2,
          2,
          1,
          24,
          6,
          10,
          5,
          7,
          8,
          6,
          3,
          5,
          8,
          4,
          9,
          5,
          32,
          11,
          18,
          14,
          25,
          55,
          145,
          29,
          30,
          17,
          70,
          69,
          21,
          27,
          108,
          32,
          98,
          29,
          22,
          28,
          37,
          18,
          26,
          970,
          44,
          75,
          72,
          81,
          32,
          43,
          31,
          40,
          36,
          70,
          59,
          49,
          157,
          69,
          117,
          123,
          91,
          121,
          133,
          300,
          518,
          80,
          188,
          159,
          93,
          114,
          2347,
          551,
          407,
          276,
          254,
          227,
          213,
          109,
          150,
          638,
          524,
          559,
          655,
          452,
          310,
          3145,
          585,
          421,
          296,
          295,
          223,
          164,
          239,
          456,
          484,
          4503,
          670,
          366,
          315,
          236,
          888,
          276,
          233,
          320,
          331,
          337,
          340,
          224,
          393,
          400,
          605,
          365,
          1745,
          3216,
          16370,
          13241
         ],
         "yaxis": "y2"
        }
       ],
       "layout": {
        "font": {
         "color": "#7f7f7f",
         "family": "Courier New, monospace",
         "size": 18
        },
        "legend": {
         "title": {
          "text": "Legend Title"
         }
        },
        "template": {
         "data": {
          "bar": [
           {
            "error_x": {
             "color": "#2a3f5f"
            },
            "error_y": {
             "color": "#2a3f5f"
            },
            "marker": {
             "line": {
              "color": "#E5ECF6",
              "width": 0.5
             },
             "pattern": {
              "fillmode": "overlay",
              "size": 10,
              "solidity": 0.2
             }
            },
            "type": "bar"
           }
          ],
          "barpolar": [
           {
            "marker": {
             "line": {
              "color": "#E5ECF6",
              "width": 0.5
             },
             "pattern": {
              "fillmode": "overlay",
              "size": 10,
              "solidity": 0.2
             }
            },
            "type": "barpolar"
           }
          ],
          "carpet": [
           {
            "aaxis": {
             "endlinecolor": "#2a3f5f",
             "gridcolor": "white",
             "linecolor": "white",
             "minorgridcolor": "white",
             "startlinecolor": "#2a3f5f"
            },
            "baxis": {
             "endlinecolor": "#2a3f5f",
             "gridcolor": "white",
             "linecolor": "white",
             "minorgridcolor": "white",
             "startlinecolor": "#2a3f5f"
            },
            "type": "carpet"
           }
          ],
          "choropleth": [
           {
            "colorbar": {
             "outlinewidth": 0,
             "ticks": ""
            },
            "type": "choropleth"
           }
          ],
          "contour": [
           {
            "colorbar": {
             "outlinewidth": 0,
             "ticks": ""
            },
            "colorscale": [
             [
              0,
              "#0d0887"
             ],
             [
              0.1111111111111111,
              "#46039f"
             ],
             [
              0.2222222222222222,
              "#7201a8"
             ],
             [
              0.3333333333333333,
              "#9c179e"
             ],
             [
              0.4444444444444444,
              "#bd3786"
             ],
             [
              0.5555555555555556,
              "#d8576b"
             ],
             [
              0.6666666666666666,
              "#ed7953"
             ],
             [
              0.7777777777777778,
              "#fb9f3a"
             ],
             [
              0.8888888888888888,
              "#fdca26"
             ],
             [
              1,
              "#f0f921"
             ]
            ],
            "type": "contour"
           }
          ],
          "contourcarpet": [
           {
            "colorbar": {
             "outlinewidth": 0,
             "ticks": ""
            },
            "type": "contourcarpet"
           }
          ],
          "heatmap": [
           {
            "colorbar": {
             "outlinewidth": 0,
             "ticks": ""
            },
            "colorscale": [
             [
              0,
              "#0d0887"
             ],
             [
              0.1111111111111111,
              "#46039f"
             ],
             [
              0.2222222222222222,
              "#7201a8"
             ],
             [
              0.3333333333333333,
              "#9c179e"
             ],
             [
              0.4444444444444444,
              "#bd3786"
             ],
             [
              0.5555555555555556,
              "#d8576b"
             ],
             [
              0.6666666666666666,
              "#ed7953"
             ],
             [
              0.7777777777777778,
              "#fb9f3a"
             ],
             [
              0.8888888888888888,
              "#fdca26"
             ],
             [
              1,
              "#f0f921"
             ]
            ],
            "type": "heatmap"
           }
          ],
          "heatmapgl": [
           {
            "colorbar": {
             "outlinewidth": 0,
             "ticks": ""
            },
            "colorscale": [
             [
              0,
              "#0d0887"
             ],
             [
              0.1111111111111111,
              "#46039f"
             ],
             [
              0.2222222222222222,
              "#7201a8"
             ],
             [
              0.3333333333333333,
              "#9c179e"
             ],
             [
              0.4444444444444444,
              "#bd3786"
             ],
             [
              0.5555555555555556,
              "#d8576b"
             ],
             [
              0.6666666666666666,
              "#ed7953"
             ],
             [
              0.7777777777777778,
              "#fb9f3a"
             ],
             [
              0.8888888888888888,
              "#fdca26"
             ],
             [
              1,
              "#f0f921"
             ]
            ],
            "type": "heatmapgl"
           }
          ],
          "histogram": [
           {
            "marker": {
             "pattern": {
              "fillmode": "overlay",
              "size": 10,
              "solidity": 0.2
             }
            },
            "type": "histogram"
           }
          ],
          "histogram2d": [
           {
            "colorbar": {
             "outlinewidth": 0,
             "ticks": ""
            },
            "colorscale": [
             [
              0,
              "#0d0887"
             ],
             [
              0.1111111111111111,
              "#46039f"
             ],
             [
              0.2222222222222222,
              "#7201a8"
             ],
             [
              0.3333333333333333,
              "#9c179e"
             ],
             [
              0.4444444444444444,
              "#bd3786"
             ],
             [
              0.5555555555555556,
              "#d8576b"
             ],
             [
              0.6666666666666666,
              "#ed7953"
             ],
             [
              0.7777777777777778,
              "#fb9f3a"
             ],
             [
              0.8888888888888888,
              "#fdca26"
             ],
             [
              1,
              "#f0f921"
             ]
            ],
            "type": "histogram2d"
           }
          ],
          "histogram2dcontour": [
           {
            "colorbar": {
             "outlinewidth": 0,
             "ticks": ""
            },
            "colorscale": [
             [
              0,
              "#0d0887"
             ],
             [
              0.1111111111111111,
              "#46039f"
             ],
             [
              0.2222222222222222,
              "#7201a8"
             ],
             [
              0.3333333333333333,
              "#9c179e"
             ],
             [
              0.4444444444444444,
              "#bd3786"
             ],
             [
              0.5555555555555556,
              "#d8576b"
             ],
             [
              0.6666666666666666,
              "#ed7953"
             ],
             [
              0.7777777777777778,
              "#fb9f3a"
             ],
             [
              0.8888888888888888,
              "#fdca26"
             ],
             [
              1,
              "#f0f921"
             ]
            ],
            "type": "histogram2dcontour"
           }
          ],
          "mesh3d": [
           {
            "colorbar": {
             "outlinewidth": 0,
             "ticks": ""
            },
            "type": "mesh3d"
           }
          ],
          "parcoords": [
           {
            "line": {
             "colorbar": {
              "outlinewidth": 0,
              "ticks": ""
             }
            },
            "type": "parcoords"
           }
          ],
          "pie": [
           {
            "automargin": true,
            "type": "pie"
           }
          ],
          "scatter": [
           {
            "fillpattern": {
             "fillmode": "overlay",
             "size": 10,
             "solidity": 0.2
            },
            "type": "scatter"
           }
          ],
          "scatter3d": [
           {
            "line": {
             "colorbar": {
              "outlinewidth": 0,
              "ticks": ""
             }
            },
            "marker": {
             "colorbar": {
              "outlinewidth": 0,
              "ticks": ""
             }
            },
            "type": "scatter3d"
           }
          ],
          "scattercarpet": [
           {
            "marker": {
             "colorbar": {
              "outlinewidth": 0,
              "ticks": ""
             }
            },
            "type": "scattercarpet"
           }
          ],
          "scattergeo": [
           {
            "marker": {
             "colorbar": {
              "outlinewidth": 0,
              "ticks": ""
             }
            },
            "type": "scattergeo"
           }
          ],
          "scattergl": [
           {
            "marker": {
             "colorbar": {
              "outlinewidth": 0,
              "ticks": ""
             }
            },
            "type": "scattergl"
           }
          ],
          "scattermapbox": [
           {
            "marker": {
             "colorbar": {
              "outlinewidth": 0,
              "ticks": ""
             }
            },
            "type": "scattermapbox"
           }
          ],
          "scatterpolar": [
           {
            "marker": {
             "colorbar": {
              "outlinewidth": 0,
              "ticks": ""
             }
            },
            "type": "scatterpolar"
           }
          ],
          "scatterpolargl": [
           {
            "marker": {
             "colorbar": {
              "outlinewidth": 0,
              "ticks": ""
             }
            },
            "type": "scatterpolargl"
           }
          ],
          "scatterternary": [
           {
            "marker": {
             "colorbar": {
              "outlinewidth": 0,
              "ticks": ""
             }
            },
            "type": "scatterternary"
           }
          ],
          "surface": [
           {
            "colorbar": {
             "outlinewidth": 0,
             "ticks": ""
            },
            "colorscale": [
             [
              0,
              "#0d0887"
             ],
             [
              0.1111111111111111,
              "#46039f"
             ],
             [
              0.2222222222222222,
              "#7201a8"
             ],
             [
              0.3333333333333333,
              "#9c179e"
             ],
             [
              0.4444444444444444,
              "#bd3786"
             ],
             [
              0.5555555555555556,
              "#d8576b"
             ],
             [
              0.6666666666666666,
              "#ed7953"
             ],
             [
              0.7777777777777778,
              "#fb9f3a"
             ],
             [
              0.8888888888888888,
              "#fdca26"
             ],
             [
              1,
              "#f0f921"
             ]
            ],
            "type": "surface"
           }
          ],
          "table": [
           {
            "cells": {
             "fill": {
              "color": "#EBF0F8"
             },
             "line": {
              "color": "white"
             }
            },
            "header": {
             "fill": {
              "color": "#C8D4E3"
             },
             "line": {
              "color": "white"
             }
            },
            "type": "table"
           }
          ]
         },
         "layout": {
          "annotationdefaults": {
           "arrowcolor": "#2a3f5f",
           "arrowhead": 0,
           "arrowwidth": 1
          },
          "autotypenumbers": "strict",
          "coloraxis": {
           "colorbar": {
            "outlinewidth": 0,
            "ticks": ""
           }
          },
          "colorscale": {
           "diverging": [
            [
             0,
             "#8e0152"
            ],
            [
             0.1,
             "#c51b7d"
            ],
            [
             0.2,
             "#de77ae"
            ],
            [
             0.3,
             "#f1b6da"
            ],
            [
             0.4,
             "#fde0ef"
            ],
            [
             0.5,
             "#f7f7f7"
            ],
            [
             0.6,
             "#e6f5d0"
            ],
            [
             0.7,
             "#b8e186"
            ],
            [
             0.8,
             "#7fbc41"
            ],
            [
             0.9,
             "#4d9221"
            ],
            [
             1,
             "#276419"
            ]
           ],
           "sequential": [
            [
             0,
             "#0d0887"
            ],
            [
             0.1111111111111111,
             "#46039f"
            ],
            [
             0.2222222222222222,
             "#7201a8"
            ],
            [
             0.3333333333333333,
             "#9c179e"
            ],
            [
             0.4444444444444444,
             "#bd3786"
            ],
            [
             0.5555555555555556,
             "#d8576b"
            ],
            [
             0.6666666666666666,
             "#ed7953"
            ],
            [
             0.7777777777777778,
             "#fb9f3a"
            ],
            [
             0.8888888888888888,
             "#fdca26"
            ],
            [
             1,
             "#f0f921"
            ]
           ],
           "sequentialminus": [
            [
             0,
             "#0d0887"
            ],
            [
             0.1111111111111111,
             "#46039f"
            ],
            [
             0.2222222222222222,
             "#7201a8"
            ],
            [
             0.3333333333333333,
             "#9c179e"
            ],
            [
             0.4444444444444444,
             "#bd3786"
            ],
            [
             0.5555555555555556,
             "#d8576b"
            ],
            [
             0.6666666666666666,
             "#ed7953"
            ],
            [
             0.7777777777777778,
             "#fb9f3a"
            ],
            [
             0.8888888888888888,
             "#fdca26"
            ],
            [
             1,
             "#f0f921"
            ]
           ]
          },
          "colorway": [
           "#636efa",
           "#EF553B",
           "#00cc96",
           "#ab63fa",
           "#FFA15A",
           "#19d3f3",
           "#FF6692",
           "#B6E880",
           "#FF97FF",
           "#FECB52"
          ],
          "font": {
           "color": "#2a3f5f"
          },
          "geo": {
           "bgcolor": "white",
           "lakecolor": "white",
           "landcolor": "#E5ECF6",
           "showlakes": true,
           "showland": true,
           "subunitcolor": "white"
          },
          "hoverlabel": {
           "align": "left"
          },
          "hovermode": "closest",
          "mapbox": {
           "style": "light"
          },
          "paper_bgcolor": "white",
          "plot_bgcolor": "#E5ECF6",
          "polar": {
           "angularaxis": {
            "gridcolor": "white",
            "linecolor": "white",
            "ticks": ""
           },
           "bgcolor": "#E5ECF6",
           "radialaxis": {
            "gridcolor": "white",
            "linecolor": "white",
            "ticks": ""
           }
          },
          "scene": {
           "xaxis": {
            "backgroundcolor": "#E5ECF6",
            "gridcolor": "white",
            "gridwidth": 2,
            "linecolor": "white",
            "showbackground": true,
            "ticks": "",
            "zerolinecolor": "white"
           },
           "yaxis": {
            "backgroundcolor": "#E5ECF6",
            "gridcolor": "white",
            "gridwidth": 2,
            "linecolor": "white",
            "showbackground": true,
            "ticks": "",
            "zerolinecolor": "white"
           },
           "zaxis": {
            "backgroundcolor": "#E5ECF6",
            "gridcolor": "white",
            "gridwidth": 2,
            "linecolor": "white",
            "showbackground": true,
            "ticks": "",
            "zerolinecolor": "white"
           }
          },
          "shapedefaults": {
           "line": {
            "color": "#2a3f5f"
           }
          },
          "ternary": {
           "aaxis": {
            "gridcolor": "white",
            "linecolor": "white",
            "ticks": ""
           },
           "baxis": {
            "gridcolor": "white",
            "linecolor": "white",
            "ticks": ""
           },
           "bgcolor": "#E5ECF6",
           "caxis": {
            "gridcolor": "white",
            "linecolor": "white",
            "ticks": ""
           }
          },
          "title": {
           "x": 0.05
          },
          "xaxis": {
           "automargin": true,
           "gridcolor": "white",
           "linecolor": "white",
           "ticks": "",
           "title": {
            "standoff": 15
           },
           "zerolinecolor": "white",
           "zerolinewidth": 2
          },
          "yaxis": {
           "automargin": true,
           "gridcolor": "white",
           "linecolor": "white",
           "ticks": "",
           "title": {
            "standoff": 15
           },
           "zerolinecolor": "white",
           "zerolinewidth": 2
          }
         }
        },
        "title": {
         "text": "Average Sentiment and Volume by Month"
        },
        "xaxis": {
         "anchor": "y",
         "domain": [
          0,
          0.94
         ],
         "title": {
          "text": "Month"
         }
        },
        "yaxis": {
         "anchor": "x",
         "domain": [
          0,
          1
         ],
         "title": {
          "text": "Average Sentiment"
         }
        },
        "yaxis2": {
         "anchor": "x",
         "overlaying": "y",
         "side": "right"
        }
       }
      }
     },
     "metadata": {},
     "output_type": "display_data"
    }
   ],
   "source": [
    "# show line chart of sentiment over time (by month)\n",
    "\n",
    "# get month from date\n",
    "raw_df['Month'] = pd.to_datetime(raw_df['Date']).dt.to_period('M').astype(str)\n",
    "\n",
    "# compute volume (number of rows in the df)\n",
    "raw_df['Volume'] = 1\n",
    "\n",
    "# group by month and get mean sentiment and also sum of volume\n",
    "df = raw_df.groupby('Month').agg({'Avg_Sentiment': 'mean', 'Volume': 'sum'}).reset_index()\n",
    "\n",
    "# plot both the average sentiment and the volume (same chart, two y axes to allow for different scales)\n",
    "# (secondary y-axis with subplots, use add_trace() to add the second trace)\n",
    "fig = make_subplots(specs=[[{\"secondary_y\": True}]])\n",
    "\n",
    "fig.add_trace(\n",
    "    \n",
    "    go.Scatter(x=df['Month'], y=df['Avg_Sentiment'], name=\"Average Sentiment\"),\n",
    "    secondary_y=False,\n",
    ")\n",
    "\n",
    "fig.add_trace(\n",
    "    go.Scatter(x=df['Month'], y=df['Volume'], name=\"Volume\"),\n",
    "    secondary_y=True,\n",
    ")\n",
    "\n",
    "fig.update_layout(\n",
    "    title_text=\"Average Sentiment and Volume by Month\",\n",
    "    xaxis_title=\"Month\",\n",
    "    yaxis_title=\"Average Sentiment\",\n",
    "    legend_title=\"Legend Title\",\n",
    "    font=dict(\n",
    "        family=\"Courier New, monospace\",\n",
    "        size=18,\n",
    "        color=\"#7f7f7f\"\n",
    "    )\n",
    ")\n",
    "\n",
    "fig.show()"
   ]
  }
 ],
 "metadata": {
  "kernelspec": {
   "display_name": "y3_ads",
   "language": "python",
   "name": "python3"
  },
  "language_info": {
   "codemirror_mode": {
    "name": "ipython",
    "version": 3
   },
   "file_extension": ".py",
   "mimetype": "text/x-python",
   "name": "python",
   "nbconvert_exporter": "python",
   "pygments_lexer": "ipython3",
   "version": "3.11.0"
  },
  "orig_nbformat": 4
 },
 "nbformat": 4,
 "nbformat_minor": 2
}
